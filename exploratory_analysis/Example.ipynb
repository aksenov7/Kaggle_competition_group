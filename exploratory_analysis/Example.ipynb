{
 "cells": [
  {
   "cell_type": "code",
   "execution_count": 1,
   "metadata": {},
   "outputs": [
    {
     "name": "stdout",
     "output_type": "stream",
     "text": [
      "reading csv file...\n",
      "Memory usage of dataframe is 13.49 MB\n",
      "Memory usage after optimization is: 4.83 MB\n",
      "Decreased by 64.2%\n"
     ]
    }
   ],
   "source": [
    "import expdataanalysis as eda\n",
    "import pandas as pd\n",
    "submission = eda.read_file('sample_submission.csv')\n",
    "submission = eda.optimize_mem_usage(submission, True)\n"
   ]
  },
  {
   "cell_type": "code",
   "execution_count": 2,
   "metadata": {},
   "outputs": [
    {
     "name": "stdout",
     "output_type": "stream",
     "text": [
      "reading json file...\n"
     ]
    },
    {
     "data": {
      "text/html": [
       "<div>\n",
       "<style scoped>\n",
       "    .dataframe tbody tr th:only-of-type {\n",
       "        vertical-align: middle;\n",
       "    }\n",
       "\n",
       "    .dataframe tbody tr th {\n",
       "        vertical-align: top;\n",
       "    }\n",
       "\n",
       "    .dataframe thead th {\n",
       "        text-align: right;\n",
       "    }\n",
       "</style>\n",
       "<table border=\"1\" class=\"dataframe\">\n",
       "  <thead>\n",
       "    <tr style=\"text-align: right;\">\n",
       "      <th></th>\n",
       "      <th>name</th>\n",
       "      <th>packs</th>\n",
       "      <th>itmes</th>\n",
       "      <th>mask</th>\n",
       "    </tr>\n",
       "  </thead>\n",
       "  <tbody>\n",
       "    <tr>\n",
       "      <th>0</th>\n",
       "      <td>K1</td>\n",
       "      <td>[0285, , , , , ]</td>\n",
       "      <td>[True, False, False, False, True, True, True, ...</td>\n",
       "      <td>0000</td>\n",
       "    </tr>\n",
       "    <tr>\n",
       "      <th>1</th>\n",
       "      <td>K2</td>\n",
       "      <td>[0336, , , , , ]</td>\n",
       "      <td>[True, True, True, True, True, False, False, F...</td>\n",
       "      <td>0000</td>\n",
       "    </tr>\n",
       "    <tr>\n",
       "      <th>2</th>\n",
       "      <td>K3</td>\n",
       "      <td>[0285, , , , , ]</td>\n",
       "      <td>[True, False, False, False, True, True, True, ...</td>\n",
       "      <td>0000</td>\n",
       "    </tr>\n",
       "    <tr>\n",
       "      <th>3</th>\n",
       "      <td>K4</td>\n",
       "      <td>[0386, 0384, , , , ]</td>\n",
       "      <td>[True, True, False, False, True, False, True, ...</td>\n",
       "      <td>000F</td>\n",
       "    </tr>\n",
       "  </tbody>\n",
       "</table>\n",
       "</div>"
      ],
      "text/plain": [
       "  name                 packs  \\\n",
       "0   K1      [0285, , , , , ]   \n",
       "1   K2      [0336, , , , , ]   \n",
       "2   K3      [0285, , , , , ]   \n",
       "3   K4  [0386, 0384, , , , ]   \n",
       "\n",
       "                                               itmes  mask  \n",
       "0  [True, False, False, False, True, True, True, ...  0000  \n",
       "1  [True, True, True, True, True, False, False, F...  0000  \n",
       "2  [True, False, False, False, True, True, True, ...  0000  \n",
       "3  [True, True, False, False, True, False, True, ...  000F  "
      ]
     },
     "execution_count": 2,
     "metadata": {},
     "output_type": "execute_result"
    }
   ],
   "source": [
    "json_df = eda.read_file(\"Config.json\")\n",
    "json_df"
   ]
  },
  {
   "cell_type": "code",
   "execution_count": null,
   "metadata": {},
   "outputs": [],
   "source": []
  }
 ],
 "metadata": {
  "kernelspec": {
   "display_name": "Python 3",
   "language": "python",
   "name": "python3"
  },
  "language_info": {
   "codemirror_mode": {
    "name": "ipython",
    "version": 3
   },
   "file_extension": ".py",
   "mimetype": "text/x-python",
   "name": "python",
   "nbconvert_exporter": "python",
   "pygments_lexer": "ipython3",
   "version": "3.7.6"
  }
 },
 "nbformat": 4,
 "nbformat_minor": 4
}

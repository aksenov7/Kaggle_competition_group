{
 "cells": [
  {
   "cell_type": "markdown",
   "metadata": {},
   "source": [
    "# M5 Forecast: Keras with Categorical Embeddings V2\n",
    "\n",
    "В этом ноутбуке происходит моделирование ожидаемой продажи групп продуктов. Поскольку многие фичи являются категориальными, мы используем этот пример, чтобы показать, как встраивание словев облегчает жизнь при работе с категориальными входами для нейронных сетей, прокуская этап создания фиктивных переменных вручную."
   ]
  },
  {
   "cell_type": "code",
   "execution_count": 1,
   "metadata": {
    "ExecuteTime": {
     "end_time": "2020-05-30T15:17:39.457173Z",
     "start_time": "2020-05-30T15:17:39.447199Z"
    }
   },
   "outputs": [],
   "source": [
    "start_day = 0"
   ]
  },
  {
   "cell_type": "code",
   "execution_count": 2,
   "metadata": {
    "ExecuteTime": {
     "end_time": "2020-05-30T15:17:43.189994Z",
     "start_time": "2020-05-30T15:17:40.102159Z"
    }
   },
   "outputs": [],
   "source": [
    "import warnings\n",
    "warnings.filterwarnings('ignore')\n",
    "import pandas as pd\n",
    "import numpy as np\n",
    "import matplotlib.pyplot as plt\n",
    "import seaborn as sns\n",
    "import gc\n",
    "import os\n",
    "from tqdm.notebook import tqdm"
   ]
  },
  {
   "cell_type": "code",
   "execution_count": 3,
   "metadata": {
    "ExecuteTime": {
     "end_time": "2020-05-30T15:17:43.201962Z",
     "start_time": "2020-05-30T15:17:43.191031Z"
    }
   },
   "outputs": [],
   "source": [
    "def reduce_mem_usage(df, verbose=True):\n",
    "    numerics = ['int16', 'int32', 'int64', 'float16', 'float32', 'float64']\n",
    "    start_mem = df.memory_usage().sum() / 1024**2    \n",
    "    for col in df.columns:\n",
    "        col_type = df[col].dtypes\n",
    "        if col_type in numerics:\n",
    "            c_min = df[col].min()\n",
    "            c_max = df[col].max()\n",
    "            if str(col_type)[:3] == 'int':\n",
    "                if c_min > np.iinfo(np.int8).min and c_max < np.iinfo(np.int8).max:\n",
    "                    df[col] = df[col].astype(np.int8)\n",
    "                elif c_min > np.iinfo(np.int16).min and c_max < np.iinfo(np.int16).max:\n",
    "                    df[col] = df[col].astype(np.int16)\n",
    "                elif c_min > np.iinfo(np.int32).min and c_max < np.iinfo(np.int32).max:\n",
    "                    df[col] = df[col].astype(np.int32)\n",
    "                elif c_min > np.iinfo(np.int64).min and c_max < np.iinfo(np.int64).max:\n",
    "                    df[col] = df[col].astype(np.int64)  \n",
    "            else:\n",
    "                if c_min > np.finfo(np.float16).min and c_max < np.finfo(np.float16).max:\n",
    "                    df[col] = df[col].astype(np.float16)\n",
    "                elif c_min > np.finfo(np.float32).min and c_max < np.finfo(np.float32).max:\n",
    "                    df[col] = df[col].astype(np.float32)\n",
    "                else:\n",
    "                    df[col] = df[col].astype(np.float64)    \n",
    "    end_mem = df.memory_usage().sum() / 1024**2\n",
    "    if verbose: print('Mem. usage decreased to {:5.2f} Mb ({:.1f}% reduction)'.format(end_mem, 100 * (start_mem - end_mem) / start_mem))\n",
    "    return df"
   ]
  },
  {
   "cell_type": "markdown",
   "metadata": {},
   "source": [
    "## Загрузка данных"
   ]
  },
  {
   "cell_type": "code",
   "execution_count": 4,
   "metadata": {
    "ExecuteTime": {
     "end_time": "2020-05-30T15:17:45.175820Z",
     "start_time": "2020-05-30T15:17:43.202959Z"
    }
   },
   "outputs": [],
   "source": [
    "path = \"./kaggle/input/\"\n",
    "\n",
    "calendar = pd.read_csv(os.path.join(path, \"calendar.csv\"))\n",
    "selling_prices = pd.read_csv(os.path.join(path, \"sell_prices.csv\"))\n",
    "sample_submission = pd.read_csv(os.path.join(path, \"sample_submission.csv\"))"
   ]
  },
  {
   "cell_type": "code",
   "execution_count": 5,
   "metadata": {
    "ExecuteTime": {
     "end_time": "2020-05-30T15:17:48.302453Z",
     "start_time": "2020-05-30T15:17:45.176809Z"
    }
   },
   "outputs": [],
   "source": [
    "sales = pd.read_csv(os.path.join(path, \"sales_train_validation.csv\"))"
   ]
  },
  {
   "cell_type": "markdown",
   "metadata": {},
   "source": [
    "## Описание и подготовка данных\n",
    "\n",
    "Теперь пройдемся по всем наборам данных и подготовим их к моделированию."
   ]
  },
  {
   "cell_type": "markdown",
   "metadata": {},
   "source": [
    "### Календарь\n",
    "\n",
    "Для каждой даты (охватывающей как даные обучения, так и данные испытаний) у нас есть доступ к полезной информации календаря."
   ]
  },
  {
   "cell_type": "code",
   "execution_count": 6,
   "metadata": {
    "ExecuteTime": {
     "end_time": "2020-05-30T15:17:48.327387Z",
     "start_time": "2020-05-30T15:17:48.303451Z"
    }
   },
   "outputs": [
    {
     "data": {
      "text/html": [
       "<div>\n",
       "<style scoped>\n",
       "    .dataframe tbody tr th:only-of-type {\n",
       "        vertical-align: middle;\n",
       "    }\n",
       "\n",
       "    .dataframe tbody tr th {\n",
       "        vertical-align: top;\n",
       "    }\n",
       "\n",
       "    .dataframe thead th {\n",
       "        text-align: right;\n",
       "    }\n",
       "</style>\n",
       "<table border=\"1\" class=\"dataframe\">\n",
       "  <thead>\n",
       "    <tr style=\"text-align: right;\">\n",
       "      <th></th>\n",
       "      <th>date</th>\n",
       "      <th>wm_yr_wk</th>\n",
       "      <th>weekday</th>\n",
       "      <th>wday</th>\n",
       "      <th>month</th>\n",
       "      <th>year</th>\n",
       "      <th>d</th>\n",
       "      <th>event_name_1</th>\n",
       "      <th>event_type_1</th>\n",
       "      <th>event_name_2</th>\n",
       "      <th>event_type_2</th>\n",
       "      <th>snap_CA</th>\n",
       "      <th>snap_TX</th>\n",
       "      <th>snap_WI</th>\n",
       "    </tr>\n",
       "  </thead>\n",
       "  <tbody>\n",
       "    <tr>\n",
       "      <th>0</th>\n",
       "      <td>2011-01-29</td>\n",
       "      <td>11101</td>\n",
       "      <td>Saturday</td>\n",
       "      <td>1</td>\n",
       "      <td>1</td>\n",
       "      <td>2011</td>\n",
       "      <td>d_1</td>\n",
       "      <td>NaN</td>\n",
       "      <td>NaN</td>\n",
       "      <td>NaN</td>\n",
       "      <td>NaN</td>\n",
       "      <td>0</td>\n",
       "      <td>0</td>\n",
       "      <td>0</td>\n",
       "    </tr>\n",
       "    <tr>\n",
       "      <th>1</th>\n",
       "      <td>2011-01-30</td>\n",
       "      <td>11101</td>\n",
       "      <td>Sunday</td>\n",
       "      <td>2</td>\n",
       "      <td>1</td>\n",
       "      <td>2011</td>\n",
       "      <td>d_2</td>\n",
       "      <td>NaN</td>\n",
       "      <td>NaN</td>\n",
       "      <td>NaN</td>\n",
       "      <td>NaN</td>\n",
       "      <td>0</td>\n",
       "      <td>0</td>\n",
       "      <td>0</td>\n",
       "    </tr>\n",
       "    <tr>\n",
       "      <th>2</th>\n",
       "      <td>2011-01-31</td>\n",
       "      <td>11101</td>\n",
       "      <td>Monday</td>\n",
       "      <td>3</td>\n",
       "      <td>1</td>\n",
       "      <td>2011</td>\n",
       "      <td>d_3</td>\n",
       "      <td>NaN</td>\n",
       "      <td>NaN</td>\n",
       "      <td>NaN</td>\n",
       "      <td>NaN</td>\n",
       "      <td>0</td>\n",
       "      <td>0</td>\n",
       "      <td>0</td>\n",
       "    </tr>\n",
       "    <tr>\n",
       "      <th>3</th>\n",
       "      <td>2011-02-01</td>\n",
       "      <td>11101</td>\n",
       "      <td>Tuesday</td>\n",
       "      <td>4</td>\n",
       "      <td>2</td>\n",
       "      <td>2011</td>\n",
       "      <td>d_4</td>\n",
       "      <td>NaN</td>\n",
       "      <td>NaN</td>\n",
       "      <td>NaN</td>\n",
       "      <td>NaN</td>\n",
       "      <td>1</td>\n",
       "      <td>1</td>\n",
       "      <td>0</td>\n",
       "    </tr>\n",
       "    <tr>\n",
       "      <th>4</th>\n",
       "      <td>2011-02-02</td>\n",
       "      <td>11101</td>\n",
       "      <td>Wednesday</td>\n",
       "      <td>5</td>\n",
       "      <td>2</td>\n",
       "      <td>2011</td>\n",
       "      <td>d_5</td>\n",
       "      <td>NaN</td>\n",
       "      <td>NaN</td>\n",
       "      <td>NaN</td>\n",
       "      <td>NaN</td>\n",
       "      <td>1</td>\n",
       "      <td>0</td>\n",
       "      <td>1</td>\n",
       "    </tr>\n",
       "  </tbody>\n",
       "</table>\n",
       "</div>"
      ],
      "text/plain": [
       "         date  wm_yr_wk    weekday  wday  month  year    d event_name_1  \\\n",
       "0  2011-01-29     11101   Saturday     1      1  2011  d_1          NaN   \n",
       "1  2011-01-30     11101     Sunday     2      1  2011  d_2          NaN   \n",
       "2  2011-01-31     11101     Monday     3      1  2011  d_3          NaN   \n",
       "3  2011-02-01     11101    Tuesday     4      2  2011  d_4          NaN   \n",
       "4  2011-02-02     11101  Wednesday     5      2  2011  d_5          NaN   \n",
       "\n",
       "  event_type_1 event_name_2 event_type_2  snap_CA  snap_TX  snap_WI  \n",
       "0          NaN          NaN          NaN        0        0        0  \n",
       "1          NaN          NaN          NaN        0        0        0  \n",
       "2          NaN          NaN          NaN        0        0        0  \n",
       "3          NaN          NaN          NaN        1        1        0  \n",
       "4          NaN          NaN          NaN        1        0        1  "
      ]
     },
     "execution_count": 6,
     "metadata": {},
     "output_type": "execute_result"
    }
   ],
   "source": [
    "calendar.head(5)"
   ]
  },
  {
   "cell_type": "markdown",
   "metadata": {},
   "source": [
    "Визуализация данных календаря:"
   ]
  },
  {
   "cell_type": "code",
   "execution_count": 7,
   "metadata": {
    "ExecuteTime": {
     "end_time": "2020-05-30T15:17:49.346751Z",
     "start_time": "2020-05-30T15:17:48.328385Z"
    }
   },
   "outputs": [
    {
     "data": {
      "image/png": "[encoded data removed]",
      "text/plain": [
       "<Figure size 432x288 with 1 Axes>"
      ]
     },
     "metadata": {
      "needs_background": "light"
     },
     "output_type": "display_data"
    },
    {
     "data": {
      "image/png": "[encoded data removed]",
      "text/plain": [
       "<Figure size 432x288 with 1 Axes>"
      ]
     },
     "metadata": {
      "needs_background": "light"
     },
     "output_type": "display_data"
    },
    {
     "data": {
      "image/png": "[encoded data removed]",
      "text/plain": [
       "<Figure size 432x288 with 1 Axes>"
      ]
     },
     "metadata": {
      "needs_background": "light"
     },
     "output_type": "display_data"
    },
    {
     "data": {
      "image/png": "[encoded data removed]",
      "text/plain": [
       "<Figure size 432x288 with 1 Axes>"
      ]
     },
     "metadata": {
      "needs_background": "light"
     },
     "output_type": "display_data"
    },
    {
     "data": {
      "image/png": "[encoded data removed]",
      "text/plain": [
       "<Figure size 432x288 with 1 Axes>"
      ]
     },
     "metadata": {
      "needs_background": "light"
     },
     "output_type": "display_data"
    },
    {
     "data": {
      "image/png": "[encoded data removed]",
      "text/plain": [
       "<Figure size 432x288 with 1 Axes>"
      ]
     },
     "metadata": {
      "needs_background": "light"
     },
     "output_type": "display_data"
    },
    {
     "data": {
      "image/png": "[encoded data removed]",
      "text/plain": [
       "<Figure size 432x288 with 1 Axes>"
      ]
     },
     "metadata": {
      "needs_background": "light"
     },
     "output_type": "display_data"
    },
    {
     "data": {
      "image/png": "[encoded data removed]",
      "text/plain": [
       "<Figure size 432x288 with 1 Axes>"
      ]
     },
     "metadata": {
      "needs_background": "light"
     },
     "output_type": "display_data"
    },
    {
     "data": {
      "image/png": "[encoded data removed]",
      "text/plain": [
       "<Figure size 432x288 with 1 Axes>"
      ]
     },
     "metadata": {
      "needs_background": "light"
     },
     "output_type": "display_data"
    },
    {
     "data": {
      "image/png": "[encoded data removed]",
      "text/plain": [
       "<Figure size 432x288 with 1 Axes>"
      ]
     },
     "metadata": {
      "needs_background": "light"
     },
     "output_type": "display_data"
    }
   ],
   "source": [
    "for i, var in enumerate([\"year\", \"weekday\", \"month\", \"event_name_1\", \"event_name_2\", \n",
    "                         \"event_type_1\", \"event_type_2\", \"snap_CA\", \"snap_TX\", \"snap_WI\"]):\n",
    "    plt.figure()\n",
    "    g = sns.countplot(calendar[var])\n",
    "    g.set_xticklabels(g.get_xticklabels(), rotation=45)\n",
    "    g.set_title(var)"
   ]
  },
  {
   "cell_type": "code",
   "execution_count": 8,
   "metadata": {
    "ExecuteTime": {
     "end_time": "2020-05-30T15:17:49.357720Z",
     "start_time": "2020-05-30T15:17:49.347746Z"
    }
   },
   "outputs": [
    {
     "data": {
      "text/html": [
       "<div>\n",
       "<style scoped>\n",
       "    .dataframe tbody tr th:only-of-type {\n",
       "        vertical-align: middle;\n",
       "    }\n",
       "\n",
       "    .dataframe tbody tr th {\n",
       "        vertical-align: top;\n",
       "    }\n",
       "\n",
       "    .dataframe thead th {\n",
       "        text-align: right;\n",
       "    }\n",
       "</style>\n",
       "<table border=\"1\" class=\"dataframe\">\n",
       "  <thead>\n",
       "    <tr style=\"text-align: right;\">\n",
       "      <th></th>\n",
       "      <th>date</th>\n",
       "      <th>wm_yr_wk</th>\n",
       "      <th>weekday</th>\n",
       "      <th>wday</th>\n",
       "      <th>month</th>\n",
       "      <th>year</th>\n",
       "      <th>d</th>\n",
       "      <th>event_name_1</th>\n",
       "      <th>event_type_1</th>\n",
       "      <th>event_name_2</th>\n",
       "      <th>event_type_2</th>\n",
       "      <th>snap_CA</th>\n",
       "      <th>snap_TX</th>\n",
       "      <th>snap_WI</th>\n",
       "    </tr>\n",
       "  </thead>\n",
       "  <tbody>\n",
       "    <tr>\n",
       "      <th>0</th>\n",
       "      <td>2011-01-29</td>\n",
       "      <td>11101</td>\n",
       "      <td>Saturday</td>\n",
       "      <td>1</td>\n",
       "      <td>1</td>\n",
       "      <td>2011</td>\n",
       "      <td>d_1</td>\n",
       "      <td>NaN</td>\n",
       "      <td>NaN</td>\n",
       "      <td>NaN</td>\n",
       "      <td>NaN</td>\n",
       "      <td>0</td>\n",
       "      <td>0</td>\n",
       "      <td>0</td>\n",
       "    </tr>\n",
       "  </tbody>\n",
       "</table>\n",
       "</div>"
      ],
      "text/plain": [
       "         date  wm_yr_wk   weekday  wday  month  year    d event_name_1  \\\n",
       "0  2011-01-29     11101  Saturday     1      1  2011  d_1          NaN   \n",
       "\n",
       "  event_type_1 event_name_2 event_type_2  snap_CA  snap_TX  snap_WI  \n",
       "0          NaN          NaN          NaN        0        0        0  "
      ]
     },
     "execution_count": 8,
     "metadata": {},
     "output_type": "execute_result"
    }
   ],
   "source": [
    "calendar.head(1)"
   ]
  },
  {
   "cell_type": "markdown",
   "metadata": {},
   "source": [
    "Подготовка календаря: удаление даты и дня недели, приведение столбца d к целому типу, заполнение пропущенных данных (праздников) значением 'missing' и кодирование категориальных признаков в виде целочисленного массива "
   ]
  },
  {
   "cell_type": "code",
   "execution_count": 9,
   "metadata": {
    "ExecuteTime": {
     "end_time": "2020-05-30T15:17:49.488739Z",
     "start_time": "2020-05-30T15:17:49.358717Z"
    }
   },
   "outputs": [
    {
     "name": "stdout",
     "output_type": "stream",
     "text": [
      "Mem. usage decreased to  0.03 Mb (84.7% reduction)\n"
     ]
    }
   ],
   "source": [
    "from sklearn.preprocessing import OrdinalEncoder\n",
    "\n",
    "def prep_calendar(df):\n",
    "    df = df.drop([\"date\", \"weekday\"], axis=1)\n",
    "    df = df.assign(d = df.d.str[2:].astype(int)) # Обработка значение столбца d\n",
    "    df = df.fillna(\"missing\")\n",
    "    cols = list(set(df.columns) - {\"wm_yr_wk\", \"d\"})\n",
    "    df[cols] = OrdinalEncoder(dtype=\"int\").fit_transform(df[cols])\n",
    "    df = reduce_mem_usage(df)\n",
    "    return df\n",
    "\n",
    "calendar = prep_calendar(calendar)"
   ]
  },
  {
   "cell_type": "code",
   "execution_count": 10,
   "metadata": {
    "ExecuteTime": {
     "end_time": "2020-05-30T15:17:52.247190Z",
     "start_time": "2020-05-30T15:17:52.238214Z"
    }
   },
   "outputs": [
    {
     "data": {
      "text/html": [
       "<div>\n",
       "<style scoped>\n",
       "    .dataframe tbody tr th:only-of-type {\n",
       "        vertical-align: middle;\n",
       "    }\n",
       "\n",
       "    .dataframe tbody tr th {\n",
       "        vertical-align: top;\n",
       "    }\n",
       "\n",
       "    .dataframe thead th {\n",
       "        text-align: right;\n",
       "    }\n",
       "</style>\n",
       "<table border=\"1\" class=\"dataframe\">\n",
       "  <thead>\n",
       "    <tr style=\"text-align: right;\">\n",
       "      <th></th>\n",
       "      <th>wm_yr_wk</th>\n",
       "      <th>wday</th>\n",
       "      <th>month</th>\n",
       "      <th>year</th>\n",
       "      <th>d</th>\n",
       "      <th>event_name_1</th>\n",
       "      <th>event_type_1</th>\n",
       "      <th>event_name_2</th>\n",
       "      <th>event_type_2</th>\n",
       "      <th>snap_CA</th>\n",
       "      <th>snap_TX</th>\n",
       "      <th>snap_WI</th>\n",
       "    </tr>\n",
       "  </thead>\n",
       "  <tbody>\n",
       "    <tr>\n",
       "      <th>0</th>\n",
       "      <td>11101</td>\n",
       "      <td>0</td>\n",
       "      <td>0</td>\n",
       "      <td>0</td>\n",
       "      <td>1</td>\n",
       "      <td>30</td>\n",
       "      <td>4</td>\n",
       "      <td>4</td>\n",
       "      <td>2</td>\n",
       "      <td>0</td>\n",
       "      <td>0</td>\n",
       "      <td>0</td>\n",
       "    </tr>\n",
       "    <tr>\n",
       "      <th>1</th>\n",
       "      <td>11101</td>\n",
       "      <td>1</td>\n",
       "      <td>0</td>\n",
       "      <td>0</td>\n",
       "      <td>2</td>\n",
       "      <td>30</td>\n",
       "      <td>4</td>\n",
       "      <td>4</td>\n",
       "      <td>2</td>\n",
       "      <td>0</td>\n",
       "      <td>0</td>\n",
       "      <td>0</td>\n",
       "    </tr>\n",
       "    <tr>\n",
       "      <th>2</th>\n",
       "      <td>11101</td>\n",
       "      <td>2</td>\n",
       "      <td>0</td>\n",
       "      <td>0</td>\n",
       "      <td>3</td>\n",
       "      <td>30</td>\n",
       "      <td>4</td>\n",
       "      <td>4</td>\n",
       "      <td>2</td>\n",
       "      <td>0</td>\n",
       "      <td>0</td>\n",
       "      <td>0</td>\n",
       "    </tr>\n",
       "    <tr>\n",
       "      <th>3</th>\n",
       "      <td>11101</td>\n",
       "      <td>3</td>\n",
       "      <td>1</td>\n",
       "      <td>0</td>\n",
       "      <td>4</td>\n",
       "      <td>30</td>\n",
       "      <td>4</td>\n",
       "      <td>4</td>\n",
       "      <td>2</td>\n",
       "      <td>1</td>\n",
       "      <td>1</td>\n",
       "      <td>0</td>\n",
       "    </tr>\n",
       "    <tr>\n",
       "      <th>4</th>\n",
       "      <td>11101</td>\n",
       "      <td>4</td>\n",
       "      <td>1</td>\n",
       "      <td>0</td>\n",
       "      <td>5</td>\n",
       "      <td>30</td>\n",
       "      <td>4</td>\n",
       "      <td>4</td>\n",
       "      <td>2</td>\n",
       "      <td>1</td>\n",
       "      <td>0</td>\n",
       "      <td>1</td>\n",
       "    </tr>\n",
       "  </tbody>\n",
       "</table>\n",
       "</div>"
      ],
      "text/plain": [
       "   wm_yr_wk  wday  month  year  d  event_name_1  event_type_1  event_name_2  \\\n",
       "0     11101     0      0     0  1            30             4             4   \n",
       "1     11101     1      0     0  2            30             4             4   \n",
       "2     11101     2      0     0  3            30             4             4   \n",
       "3     11101     3      1     0  4            30             4             4   \n",
       "4     11101     4      1     0  5            30             4             4   \n",
       "\n",
       "   event_type_2  snap_CA  snap_TX  snap_WI  \n",
       "0             2        0        0        0  \n",
       "1             2        0        0        0  \n",
       "2             2        0        0        0  \n",
       "3             2        1        1        0  \n",
       "4             2        1        0        1  "
      ]
     },
     "execution_count": 10,
     "metadata": {},
     "output_type": "execute_result"
    }
   ],
   "source": [
    "calendar.head(5)"
   ]
  },
  {
   "cell_type": "markdown",
   "metadata": {},
   "source": [
    "#### Заметки для моделирования\n",
    "\n",
    "**Фичи** считаются полезными\n",
    "\n",
    "- \"wday\", \"year\", \"month\" -> integer coding & embedding\n",
    "- \"event_name_1\", \"event_type_1\" -> integer coding & embedding\n",
    "- \"snap_XX\" -> numeric (they are dummies)\n",
    "\n",
    "**Необходимость решейпа**: Нет\n",
    "\n",
    "**Объединение ключей**: \"d\", \"wm_yr_wk\""
   ]
  },
  {
   "cell_type": "markdown",
   "metadata": {},
   "source": [
    "### Цены продажи\n",
    "\n",
    "Содержит цены продаж для каждой комбинации store_id, item_id, wm_yr_wk."
   ]
  },
  {
   "cell_type": "code",
   "execution_count": 11,
   "metadata": {
    "ExecuteTime": {
     "end_time": "2020-05-30T15:17:54.149448Z",
     "start_time": "2020-05-30T15:17:54.142444Z"
    }
   },
   "outputs": [
    {
     "data": {
      "text/html": [
       "<div>\n",
       "<style scoped>\n",
       "    .dataframe tbody tr th:only-of-type {\n",
       "        vertical-align: middle;\n",
       "    }\n",
       "\n",
       "    .dataframe tbody tr th {\n",
       "        vertical-align: top;\n",
       "    }\n",
       "\n",
       "    .dataframe thead th {\n",
       "        text-align: right;\n",
       "    }\n",
       "</style>\n",
       "<table border=\"1\" class=\"dataframe\">\n",
       "  <thead>\n",
       "    <tr style=\"text-align: right;\">\n",
       "      <th></th>\n",
       "      <th>store_id</th>\n",
       "      <th>item_id</th>\n",
       "      <th>wm_yr_wk</th>\n",
       "      <th>sell_price</th>\n",
       "    </tr>\n",
       "  </thead>\n",
       "  <tbody>\n",
       "    <tr>\n",
       "      <th>0</th>\n",
       "      <td>CA_1</td>\n",
       "      <td>HOBBIES_1_001</td>\n",
       "      <td>11325</td>\n",
       "      <td>9.58</td>\n",
       "    </tr>\n",
       "    <tr>\n",
       "      <th>1</th>\n",
       "      <td>CA_1</td>\n",
       "      <td>HOBBIES_1_001</td>\n",
       "      <td>11326</td>\n",
       "      <td>9.58</td>\n",
       "    </tr>\n",
       "    <tr>\n",
       "      <th>2</th>\n",
       "      <td>CA_1</td>\n",
       "      <td>HOBBIES_1_001</td>\n",
       "      <td>11327</td>\n",
       "      <td>8.26</td>\n",
       "    </tr>\n",
       "    <tr>\n",
       "      <th>3</th>\n",
       "      <td>CA_1</td>\n",
       "      <td>HOBBIES_1_001</td>\n",
       "      <td>11328</td>\n",
       "      <td>8.26</td>\n",
       "    </tr>\n",
       "    <tr>\n",
       "      <th>4</th>\n",
       "      <td>CA_1</td>\n",
       "      <td>HOBBIES_1_001</td>\n",
       "      <td>11329</td>\n",
       "      <td>8.26</td>\n",
       "    </tr>\n",
       "  </tbody>\n",
       "</table>\n",
       "</div>"
      ],
      "text/plain": [
       "  store_id        item_id  wm_yr_wk  sell_price\n",
       "0     CA_1  HOBBIES_1_001     11325        9.58\n",
       "1     CA_1  HOBBIES_1_001     11326        9.58\n",
       "2     CA_1  HOBBIES_1_001     11327        8.26\n",
       "3     CA_1  HOBBIES_1_001     11328        8.26\n",
       "4     CA_1  HOBBIES_1_001     11329        8.26"
      ]
     },
     "execution_count": 11,
     "metadata": {},
     "output_type": "execute_result"
    }
   ],
   "source": [
    "selling_prices.head(5)"
   ]
  },
  {
   "cell_type": "code",
   "execution_count": 12,
   "metadata": {
    "ExecuteTime": {
     "end_time": "2020-05-30T15:17:54.492022Z",
     "start_time": "2020-05-30T15:17:54.487061Z"
    }
   },
   "outputs": [
    {
     "name": "stdout",
     "output_type": "stream",
     "text": [
      "<class 'pandas.core.frame.DataFrame'>\n",
      "RangeIndex: 6841121 entries, 0 to 6841120\n",
      "Data columns (total 4 columns):\n",
      " #   Column      Dtype  \n",
      "---  ------      -----  \n",
      " 0   store_id    object \n",
      " 1   item_id     object \n",
      " 2   wm_yr_wk    int64  \n",
      " 3   sell_price  float64\n",
      "dtypes: float64(1), int64(1), object(2)\n",
      "memory usage: 208.8+ MB\n"
     ]
    }
   ],
   "source": [
    "selling_prices.info()"
   ]
  },
  {
   "cell_type": "markdown",
   "metadata": {},
   "source": [
    "Получение фич, связанных со временем: изменение цены в сравнении с предыдущей неделей, скользящее стандартное отклонение за 2, 4 и 7 недель, нормирование цены"
   ]
  },
  {
   "cell_type": "code",
   "execution_count": 13,
   "metadata": {
    "ExecuteTime": {
     "end_time": "2020-05-30T15:18:42.634014Z",
     "start_time": "2020-05-30T15:17:58.461043Z"
    }
   },
   "outputs": [
    {
     "name": "stdout",
     "output_type": "stream",
     "text": [
      "Mem. usage decreased to 195.73 Mb (58.3% reduction)\n"
     ]
    }
   ],
   "source": [
    "def prep_selling_prices(df):\n",
    "    gr = df.groupby([\"store_id\", \"item_id\"])[\"sell_price\"]\n",
    "    df[\"sell_price_rel_diff\"] = gr.pct_change()\n",
    "    sell_price_roll_sd_col = list()\n",
    "    for i in [2,4,7]:\n",
    "        df[\"sell_price_roll_sd\"+str(i)] = gr.transform(lambda x: x.rolling(i).std())\n",
    "        sell_price_roll_sd_col.append(\"sell_price_roll_sd\"+str(i))\n",
    "    df[\"sell_price_cumrel\"] = (gr.shift(0) - gr.cummin()) / (1 + gr.cummax() - gr.cummin())\n",
    "    df = reduce_mem_usage(df)\n",
    "    return df, sell_price_roll_sd_col\n",
    "\n",
    "selling_prices, sell_price_roll_sd_col = prep_selling_prices(selling_prices)"
   ]
  },
  {
   "cell_type": "code",
   "execution_count": 14,
   "metadata": {
    "ExecuteTime": {
     "end_time": "2020-05-30T15:18:42.644979Z",
     "start_time": "2020-05-30T15:18:42.634979Z"
    }
   },
   "outputs": [
    {
     "data": {
      "text/html": [
       "<div>\n",
       "<style scoped>\n",
       "    .dataframe tbody tr th:only-of-type {\n",
       "        vertical-align: middle;\n",
       "    }\n",
       "\n",
       "    .dataframe tbody tr th {\n",
       "        vertical-align: top;\n",
       "    }\n",
       "\n",
       "    .dataframe thead th {\n",
       "        text-align: right;\n",
       "    }\n",
       "</style>\n",
       "<table border=\"1\" class=\"dataframe\">\n",
       "  <thead>\n",
       "    <tr style=\"text-align: right;\">\n",
       "      <th></th>\n",
       "      <th>store_id</th>\n",
       "      <th>item_id</th>\n",
       "      <th>wm_yr_wk</th>\n",
       "      <th>sell_price</th>\n",
       "      <th>sell_price_rel_diff</th>\n",
       "      <th>sell_price_roll_sd2</th>\n",
       "      <th>sell_price_roll_sd4</th>\n",
       "      <th>sell_price_roll_sd7</th>\n",
       "      <th>sell_price_cumrel</th>\n",
       "    </tr>\n",
       "  </thead>\n",
       "  <tbody>\n",
       "    <tr>\n",
       "      <th>0</th>\n",
       "      <td>CA_1</td>\n",
       "      <td>HOBBIES_1_001</td>\n",
       "      <td>11325</td>\n",
       "      <td>9.578125</td>\n",
       "      <td>NaN</td>\n",
       "      <td>NaN</td>\n",
       "      <td>NaN</td>\n",
       "      <td>NaN</td>\n",
       "      <td>0.0</td>\n",
       "    </tr>\n",
       "    <tr>\n",
       "      <th>1</th>\n",
       "      <td>CA_1</td>\n",
       "      <td>HOBBIES_1_001</td>\n",
       "      <td>11326</td>\n",
       "      <td>9.578125</td>\n",
       "      <td>0.000000</td>\n",
       "      <td>0.000000</td>\n",
       "      <td>NaN</td>\n",
       "      <td>NaN</td>\n",
       "      <td>0.0</td>\n",
       "    </tr>\n",
       "    <tr>\n",
       "      <th>2</th>\n",
       "      <td>CA_1</td>\n",
       "      <td>HOBBIES_1_001</td>\n",
       "      <td>11327</td>\n",
       "      <td>8.257812</td>\n",
       "      <td>-0.137817</td>\n",
       "      <td>0.933594</td>\n",
       "      <td>NaN</td>\n",
       "      <td>NaN</td>\n",
       "      <td>0.0</td>\n",
       "    </tr>\n",
       "    <tr>\n",
       "      <th>3</th>\n",
       "      <td>CA_1</td>\n",
       "      <td>HOBBIES_1_001</td>\n",
       "      <td>11328</td>\n",
       "      <td>8.257812</td>\n",
       "      <td>0.000000</td>\n",
       "      <td>0.000000</td>\n",
       "      <td>0.762207</td>\n",
       "      <td>NaN</td>\n",
       "      <td>0.0</td>\n",
       "    </tr>\n",
       "    <tr>\n",
       "      <th>4</th>\n",
       "      <td>CA_1</td>\n",
       "      <td>HOBBIES_1_001</td>\n",
       "      <td>11329</td>\n",
       "      <td>8.257812</td>\n",
       "      <td>0.000000</td>\n",
       "      <td>0.000000</td>\n",
       "      <td>0.660156</td>\n",
       "      <td>NaN</td>\n",
       "      <td>0.0</td>\n",
       "    </tr>\n",
       "  </tbody>\n",
       "</table>\n",
       "</div>"
      ],
      "text/plain": [
       "  store_id        item_id  wm_yr_wk  sell_price  sell_price_rel_diff  \\\n",
       "0     CA_1  HOBBIES_1_001     11325    9.578125                  NaN   \n",
       "1     CA_1  HOBBIES_1_001     11326    9.578125             0.000000   \n",
       "2     CA_1  HOBBIES_1_001     11327    8.257812            -0.137817   \n",
       "3     CA_1  HOBBIES_1_001     11328    8.257812             0.000000   \n",
       "4     CA_1  HOBBIES_1_001     11329    8.257812             0.000000   \n",
       "\n",
       "   sell_price_roll_sd2  sell_price_roll_sd4  sell_price_roll_sd7  \\\n",
       "0                  NaN                  NaN                  NaN   \n",
       "1             0.000000                  NaN                  NaN   \n",
       "2             0.933594                  NaN                  NaN   \n",
       "3             0.000000             0.762207                  NaN   \n",
       "4             0.000000             0.660156                  NaN   \n",
       "\n",
       "   sell_price_cumrel  \n",
       "0                0.0  \n",
       "1                0.0  \n",
       "2                0.0  \n",
       "3                0.0  \n",
       "4                0.0  "
      ]
     },
     "execution_count": 14,
     "metadata": {},
     "output_type": "execute_result"
    }
   ],
   "source": [
    "selling_prices.head(5)"
   ]
  },
  {
   "cell_type": "markdown",
   "metadata": {},
   "source": [
    "#### Заметки для моделирования\n",
    "\n",
    "**Фичи**:\n",
    "\n",
    "- sell_price и полученные фичи -> numeric\n",
    "\n",
    "**Необходимость решейпа**: Нет\n",
    "\n",
    "**Объединение ключей**: данные о продаже с store_id, item_id, wm_yr_wk (через данные календаря)"
   ]
  },
  {
   "cell_type": "markdown",
   "metadata": {},
   "source": [
    "### Данные о продажах\n",
    "\n",
    "Содержат число проданных товаров (то, что необходимо предсказать), а также некоторые категориальные фичи."
   ]
  },
  {
   "cell_type": "code",
   "execution_count": 15,
   "metadata": {
    "ExecuteTime": {
     "end_time": "2020-05-30T15:18:42.664898Z",
     "start_time": "2020-05-30T15:18:42.645950Z"
    }
   },
   "outputs": [
    {
     "data": {
      "text/html": [
       "<div>\n",
       "<style scoped>\n",
       "    .dataframe tbody tr th:only-of-type {\n",
       "        vertical-align: middle;\n",
       "    }\n",
       "\n",
       "    .dataframe tbody tr th {\n",
       "        vertical-align: top;\n",
       "    }\n",
       "\n",
       "    .dataframe thead th {\n",
       "        text-align: right;\n",
       "    }\n",
       "</style>\n",
       "<table border=\"1\" class=\"dataframe\">\n",
       "  <thead>\n",
       "    <tr style=\"text-align: right;\">\n",
       "      <th></th>\n",
       "      <th>id</th>\n",
       "      <th>item_id</th>\n",
       "      <th>dept_id</th>\n",
       "      <th>cat_id</th>\n",
       "      <th>store_id</th>\n",
       "      <th>state_id</th>\n",
       "      <th>d_1</th>\n",
       "      <th>d_2</th>\n",
       "      <th>d_3</th>\n",
       "      <th>d_4</th>\n",
       "      <th>...</th>\n",
       "      <th>d_1904</th>\n",
       "      <th>d_1905</th>\n",
       "      <th>d_1906</th>\n",
       "      <th>d_1907</th>\n",
       "      <th>d_1908</th>\n",
       "      <th>d_1909</th>\n",
       "      <th>d_1910</th>\n",
       "      <th>d_1911</th>\n",
       "      <th>d_1912</th>\n",
       "      <th>d_1913</th>\n",
       "    </tr>\n",
       "  </thead>\n",
       "  <tbody>\n",
       "    <tr>\n",
       "      <th>0</th>\n",
       "      <td>HOBBIES_1_001_CA_1_validation</td>\n",
       "      <td>HOBBIES_1_001</td>\n",
       "      <td>HOBBIES_1</td>\n",
       "      <td>HOBBIES</td>\n",
       "      <td>CA_1</td>\n",
       "      <td>CA</td>\n",
       "      <td>0</td>\n",
       "      <td>0</td>\n",
       "      <td>0</td>\n",
       "      <td>0</td>\n",
       "      <td>...</td>\n",
       "      <td>1</td>\n",
       "      <td>3</td>\n",
       "      <td>0</td>\n",
       "      <td>1</td>\n",
       "      <td>1</td>\n",
       "      <td>1</td>\n",
       "      <td>3</td>\n",
       "      <td>0</td>\n",
       "      <td>1</td>\n",
       "      <td>1</td>\n",
       "    </tr>\n",
       "    <tr>\n",
       "      <th>1</th>\n",
       "      <td>HOBBIES_1_002_CA_1_validation</td>\n",
       "      <td>HOBBIES_1_002</td>\n",
       "      <td>HOBBIES_1</td>\n",
       "      <td>HOBBIES</td>\n",
       "      <td>CA_1</td>\n",
       "      <td>CA</td>\n",
       "      <td>0</td>\n",
       "      <td>0</td>\n",
       "      <td>0</td>\n",
       "      <td>0</td>\n",
       "      <td>...</td>\n",
       "      <td>0</td>\n",
       "      <td>0</td>\n",
       "      <td>0</td>\n",
       "      <td>0</td>\n",
       "      <td>0</td>\n",
       "      <td>1</td>\n",
       "      <td>0</td>\n",
       "      <td>0</td>\n",
       "      <td>0</td>\n",
       "      <td>0</td>\n",
       "    </tr>\n",
       "    <tr>\n",
       "      <th>2</th>\n",
       "      <td>HOBBIES_1_003_CA_1_validation</td>\n",
       "      <td>HOBBIES_1_003</td>\n",
       "      <td>HOBBIES_1</td>\n",
       "      <td>HOBBIES</td>\n",
       "      <td>CA_1</td>\n",
       "      <td>CA</td>\n",
       "      <td>0</td>\n",
       "      <td>0</td>\n",
       "      <td>0</td>\n",
       "      <td>0</td>\n",
       "      <td>...</td>\n",
       "      <td>2</td>\n",
       "      <td>1</td>\n",
       "      <td>2</td>\n",
       "      <td>1</td>\n",
       "      <td>1</td>\n",
       "      <td>1</td>\n",
       "      <td>0</td>\n",
       "      <td>1</td>\n",
       "      <td>1</td>\n",
       "      <td>1</td>\n",
       "    </tr>\n",
       "    <tr>\n",
       "      <th>3</th>\n",
       "      <td>HOBBIES_1_004_CA_1_validation</td>\n",
       "      <td>HOBBIES_1_004</td>\n",
       "      <td>HOBBIES_1</td>\n",
       "      <td>HOBBIES</td>\n",
       "      <td>CA_1</td>\n",
       "      <td>CA</td>\n",
       "      <td>0</td>\n",
       "      <td>0</td>\n",
       "      <td>0</td>\n",
       "      <td>0</td>\n",
       "      <td>...</td>\n",
       "      <td>1</td>\n",
       "      <td>0</td>\n",
       "      <td>5</td>\n",
       "      <td>4</td>\n",
       "      <td>1</td>\n",
       "      <td>0</td>\n",
       "      <td>1</td>\n",
       "      <td>3</td>\n",
       "      <td>7</td>\n",
       "      <td>2</td>\n",
       "    </tr>\n",
       "    <tr>\n",
       "      <th>4</th>\n",
       "      <td>HOBBIES_1_005_CA_1_validation</td>\n",
       "      <td>HOBBIES_1_005</td>\n",
       "      <td>HOBBIES_1</td>\n",
       "      <td>HOBBIES</td>\n",
       "      <td>CA_1</td>\n",
       "      <td>CA</td>\n",
       "      <td>0</td>\n",
       "      <td>0</td>\n",
       "      <td>0</td>\n",
       "      <td>0</td>\n",
       "      <td>...</td>\n",
       "      <td>2</td>\n",
       "      <td>1</td>\n",
       "      <td>1</td>\n",
       "      <td>0</td>\n",
       "      <td>1</td>\n",
       "      <td>1</td>\n",
       "      <td>2</td>\n",
       "      <td>2</td>\n",
       "      <td>2</td>\n",
       "      <td>4</td>\n",
       "    </tr>\n",
       "  </tbody>\n",
       "</table>\n",
       "<p>5 rows × 1919 columns</p>\n",
       "</div>"
      ],
      "text/plain": [
       "                              id        item_id    dept_id   cat_id store_id  \\\n",
       "0  HOBBIES_1_001_CA_1_validation  HOBBIES_1_001  HOBBIES_1  HOBBIES     CA_1   \n",
       "1  HOBBIES_1_002_CA_1_validation  HOBBIES_1_002  HOBBIES_1  HOBBIES     CA_1   \n",
       "2  HOBBIES_1_003_CA_1_validation  HOBBIES_1_003  HOBBIES_1  HOBBIES     CA_1   \n",
       "3  HOBBIES_1_004_CA_1_validation  HOBBIES_1_004  HOBBIES_1  HOBBIES     CA_1   \n",
       "4  HOBBIES_1_005_CA_1_validation  HOBBIES_1_005  HOBBIES_1  HOBBIES     CA_1   \n",
       "\n",
       "  state_id  d_1  d_2  d_3  d_4  ...  d_1904  d_1905  d_1906  d_1907  d_1908  \\\n",
       "0       CA    0    0    0    0  ...       1       3       0       1       1   \n",
       "1       CA    0    0    0    0  ...       0       0       0       0       0   \n",
       "2       CA    0    0    0    0  ...       2       1       2       1       1   \n",
       "3       CA    0    0    0    0  ...       1       0       5       4       1   \n",
       "4       CA    0    0    0    0  ...       2       1       1       0       1   \n",
       "\n",
       "   d_1909  d_1910  d_1911  d_1912  d_1913  \n",
       "0       1       3       0       1       1  \n",
       "1       1       0       0       0       0  \n",
       "2       1       0       1       1       1  \n",
       "3       0       1       3       7       2  \n",
       "4       1       2       2       2       4  \n",
       "\n",
       "[5 rows x 1919 columns]"
      ]
     },
     "execution_count": 15,
     "metadata": {},
     "output_type": "execute_result"
    }
   ],
   "source": [
    "sales.head(5)"
   ]
  },
  {
   "cell_type": "markdown",
   "metadata": {},
   "source": [
    "Визуализация данных о продажах"
   ]
  },
  {
   "cell_type": "code",
   "execution_count": 16,
   "metadata": {
    "ExecuteTime": {
     "end_time": "2020-05-30T15:18:43.031917Z",
     "start_time": "2020-05-30T15:18:42.666894Z"
    }
   },
   "outputs": [
    {
     "data": {
      "image/png": "[encoded data removed]",
      "text/plain": [
       "<Figure size 432x288 with 1 Axes>"
      ]
     },
     "metadata": {
      "needs_background": "light"
     },
     "output_type": "display_data"
    },
    {
     "data": {
      "image/png": "[encoded data removed]",
      "text/plain": [
       "<Figure size 432x288 with 1 Axes>"
      ]
     },
     "metadata": {
      "needs_background": "light"
     },
     "output_type": "display_data"
    },
    {
     "data": {
      "image/png": "[encoded data removed]",
      "text/plain": [
       "<Figure size 432x288 with 1 Axes>"
      ]
     },
     "metadata": {
      "needs_background": "light"
     },
     "output_type": "display_data"
    },
    {
     "data": {
      "image/png": "[encoded data removed]",
      "text/plain": [
       "<Figure size 432x288 with 1 Axes>"
      ]
     },
     "metadata": {
      "needs_background": "light"
     },
     "output_type": "display_data"
    }
   ],
   "source": [
    "for i, var in enumerate([\"state_id\", \"store_id\", \"cat_id\", \"dept_id\"]):\n",
    "    plt.figure()\n",
    "    g = sns.countplot(sales[var])\n",
    "    g.set_xticklabels(g.get_xticklabels(), rotation=45)\n",
    "    g.set_title(var)"
   ]
  },
  {
   "cell_type": "markdown",
   "metadata": {},
   "source": [
    "Встречаемость каждого продукта"
   ]
  },
  {
   "cell_type": "code",
   "execution_count": 17,
   "metadata": {
    "ExecuteTime": {
     "end_time": "2020-05-30T15:18:43.046279Z",
     "start_time": "2020-05-30T15:18:43.032914Z"
    }
   },
   "outputs": [
    {
     "data": {
      "text/plain": [
       "FOODS_2_064        10\n",
       "HOUSEHOLD_1_410    10\n",
       "HOUSEHOLD_1_211    10\n",
       "HOUSEHOLD_1_127    10\n",
       "FOODS_1_144        10\n",
       "                   ..\n",
       "FOODS_3_134        10\n",
       "HOUSEHOLD_2_471    10\n",
       "HOBBIES_2_120      10\n",
       "HOUSEHOLD_1_422    10\n",
       "HOBBIES_1_021      10\n",
       "Name: item_id, Length: 3049, dtype: int64"
      ]
     },
     "execution_count": 17,
     "metadata": {},
     "output_type": "execute_result"
    }
   ],
   "source": [
    "sales.item_id.value_counts()"
   ]
  },
  {
   "cell_type": "markdown",
   "metadata": {},
   "source": [
    "#### Решейпинг\n",
    "\n",
    "Произведем решейп данных для получения \"длинного\" списка вместо \"широкого\". Используя фиксированный \"id\" и меняя столбцы \"d_x\". Также добавим структуру для данных сабмитта и уменьшим размер данных. "
   ]
  },
  {
   "cell_type": "code",
   "execution_count": 18,
   "metadata": {
    "ExecuteTime": {
     "end_time": "2020-05-30T15:19:11.830220Z",
     "start_time": "2020-05-30T15:18:43.047165Z"
    }
   },
   "outputs": [],
   "source": [
    "def reshape_sales(df, drop_d = None): # drop_d позволяет выбрать день, после которого начнется построение списка\n",
    "    if drop_d is not None:\n",
    "        df = df.drop([\"d_\" + str(i + 1) for i in range(drop_d)], axis=1) # удаление столбцов со значениями ниже drop_d\n",
    "    df = df.assign(id=df.id.str.replace(\"_validation\", \"\")) # Обработка значения столбца id: удаление \"_validation\"\n",
    "    df = df.reindex(columns=df.columns.tolist() + [\"d_\" + str(1913 + i + 1) for i in range(2 * 28)]) \n",
    "    df = df.melt(id_vars=[\"id\", \"item_id\", \"dept_id\", \"cat_id\", \"store_id\", \"state_id\"], # добавление столбцов для предсказаний\n",
    "                 var_name='d', value_name='demand') # решейпинг, т.е. преобразование столбцов с датами (d_1, d_2,..) \n",
    "                            # в один столбец \"d\" (значения d_1, d_2,...) и соответствующие ему хранившиеся значения продаж\n",
    "    df = df.assign(d=df.d.str[2:].astype(\"int16\")) # Обработка значения столбца \"d\": удаление \"d_\" из значения \"d_<id>\" \n",
    "    return df\n",
    "\n",
    "sales = reshape_sales(sales, start_day)"
   ]
  },
  {
   "cell_type": "markdown",
   "metadata": {},
   "source": [
    "Результат:"
   ]
  },
  {
   "cell_type": "code",
   "execution_count": 19,
   "metadata": {
    "ExecuteTime": {
     "end_time": "2020-05-30T15:19:11.840166Z",
     "start_time": "2020-05-30T15:19:11.831191Z"
    }
   },
   "outputs": [
    {
     "data": {
      "text/html": [
       "<div>\n",
       "<style scoped>\n",
       "    .dataframe tbody tr th:only-of-type {\n",
       "        vertical-align: middle;\n",
       "    }\n",
       "\n",
       "    .dataframe tbody tr th {\n",
       "        vertical-align: top;\n",
       "    }\n",
       "\n",
       "    .dataframe thead th {\n",
       "        text-align: right;\n",
       "    }\n",
       "</style>\n",
       "<table border=\"1\" class=\"dataframe\">\n",
       "  <thead>\n",
       "    <tr style=\"text-align: right;\">\n",
       "      <th></th>\n",
       "      <th>id</th>\n",
       "      <th>item_id</th>\n",
       "      <th>dept_id</th>\n",
       "      <th>cat_id</th>\n",
       "      <th>store_id</th>\n",
       "      <th>state_id</th>\n",
       "      <th>d</th>\n",
       "      <th>demand</th>\n",
       "    </tr>\n",
       "  </thead>\n",
       "  <tbody>\n",
       "    <tr>\n",
       "      <th>0</th>\n",
       "      <td>HOBBIES_1_001_CA_1</td>\n",
       "      <td>HOBBIES_1_001</td>\n",
       "      <td>HOBBIES_1</td>\n",
       "      <td>HOBBIES</td>\n",
       "      <td>CA_1</td>\n",
       "      <td>CA</td>\n",
       "      <td>1</td>\n",
       "      <td>0.0</td>\n",
       "    </tr>\n",
       "    <tr>\n",
       "      <th>1</th>\n",
       "      <td>HOBBIES_1_002_CA_1</td>\n",
       "      <td>HOBBIES_1_002</td>\n",
       "      <td>HOBBIES_1</td>\n",
       "      <td>HOBBIES</td>\n",
       "      <td>CA_1</td>\n",
       "      <td>CA</td>\n",
       "      <td>1</td>\n",
       "      <td>0.0</td>\n",
       "    </tr>\n",
       "    <tr>\n",
       "      <th>2</th>\n",
       "      <td>HOBBIES_1_003_CA_1</td>\n",
       "      <td>HOBBIES_1_003</td>\n",
       "      <td>HOBBIES_1</td>\n",
       "      <td>HOBBIES</td>\n",
       "      <td>CA_1</td>\n",
       "      <td>CA</td>\n",
       "      <td>1</td>\n",
       "      <td>0.0</td>\n",
       "    </tr>\n",
       "    <tr>\n",
       "      <th>3</th>\n",
       "      <td>HOBBIES_1_004_CA_1</td>\n",
       "      <td>HOBBIES_1_004</td>\n",
       "      <td>HOBBIES_1</td>\n",
       "      <td>HOBBIES</td>\n",
       "      <td>CA_1</td>\n",
       "      <td>CA</td>\n",
       "      <td>1</td>\n",
       "      <td>0.0</td>\n",
       "    </tr>\n",
       "    <tr>\n",
       "      <th>4</th>\n",
       "      <td>HOBBIES_1_005_CA_1</td>\n",
       "      <td>HOBBIES_1_005</td>\n",
       "      <td>HOBBIES_1</td>\n",
       "      <td>HOBBIES</td>\n",
       "      <td>CA_1</td>\n",
       "      <td>CA</td>\n",
       "      <td>1</td>\n",
       "      <td>0.0</td>\n",
       "    </tr>\n",
       "  </tbody>\n",
       "</table>\n",
       "</div>"
      ],
      "text/plain": [
       "                   id        item_id    dept_id   cat_id store_id state_id  d  \\\n",
       "0  HOBBIES_1_001_CA_1  HOBBIES_1_001  HOBBIES_1  HOBBIES     CA_1       CA  1   \n",
       "1  HOBBIES_1_002_CA_1  HOBBIES_1_002  HOBBIES_1  HOBBIES     CA_1       CA  1   \n",
       "2  HOBBIES_1_003_CA_1  HOBBIES_1_003  HOBBIES_1  HOBBIES     CA_1       CA  1   \n",
       "3  HOBBIES_1_004_CA_1  HOBBIES_1_004  HOBBIES_1  HOBBIES     CA_1       CA  1   \n",
       "4  HOBBIES_1_005_CA_1  HOBBIES_1_005  HOBBIES_1  HOBBIES     CA_1       CA  1   \n",
       "\n",
       "   demand  \n",
       "0     0.0  \n",
       "1     0.0  \n",
       "2     0.0  \n",
       "3     0.0  \n",
       "4     0.0  "
      ]
     },
     "execution_count": 19,
     "metadata": {},
     "output_type": "execute_result"
    }
   ],
   "source": [
    "sales.head()"
   ]
  },
  {
   "cell_type": "markdown",
   "metadata": {},
   "source": [
    "#### Распределение покупок"
   ]
  },
  {
   "cell_type": "code",
   "execution_count": 20,
   "metadata": {
    "ExecuteTime": {
     "end_time": "2020-05-30T15:19:19.010368Z",
     "start_time": "2020-05-30T15:19:11.842161Z"
    }
   },
   "outputs": [
    {
     "data": {
      "image/png": "[encoded data removed]",
      "text/plain": [
       "<Figure size 432x288 with 1 Axes>"
      ]
     },
     "metadata": {
      "needs_background": "light"
     },
     "output_type": "display_data"
    }
   ],
   "source": [
    "sns.countplot(sales[\"demand\"]);"
   ]
  },
  {
   "cell_type": "code",
   "execution_count": 21,
   "metadata": {
    "ExecuteTime": {
     "end_time": "2020-05-30T15:19:22.974765Z",
     "start_time": "2020-05-30T15:19:19.011365Z"
    }
   },
   "outputs": [
    {
     "data": {
      "image/png": "[encoded data removed]",
      "text/plain": [
       "<Figure size 432x288 with 1 Axes>"
      ]
     },
     "metadata": {
      "needs_background": "light"
     },
     "output_type": "display_data"
    }
   ],
   "source": [
    " sns.countplot(sales[\"demand\"][sales[\"demand\"]<= 10]);"
   ]
  },
  {
   "cell_type": "markdown",
   "metadata": {},
   "source": [
    "#### Добавление фич, связанных с временным лагом\n",
    "\n",
    "Добавление фич из https://www.kaggle.com/ragnar123/very-fst-model."
   ]
  },
  {
   "cell_type": "code",
   "execution_count": 22,
   "metadata": {
    "ExecuteTime": {
     "end_time": "2020-05-30T15:33:38.040788Z",
     "start_time": "2020-05-30T15:19:22.975765Z"
    }
   },
   "outputs": [
    {
     "name": "stdout",
     "output_type": "stream",
     "text": [
      "Mem. usage decreased to 4098.77 Mb (45.2% reduction)\n"
     ]
    }
   ],
   "source": [
    "lag = 28\n",
    "def prep_sales(df, lag):\n",
    "    df['lag_t'+str(lag)] = df.groupby(['id'])['demand'].transform(lambda x: x.shift(lag)) # Смещение данных на lag\n",
    "    \n",
    "    rolling_mean_col = list()\n",
    "    for i in [7, 14, 28, 90, 180, 365]: # Скользящее среднее\n",
    "        df['rolling_mean_t'+str(i)] = df.groupby(['id'])['demand'].transform(lambda x: x.shift(lag).rolling(i).mean())\n",
    "        rolling_mean_col.append('rolling_mean_t'+str(i))\n",
    "    \n",
    "    rolling_std_col = list()    \n",
    "    for i in [7, 14, 28]: # Скользящее стандартное отклонение\n",
    "        df['rolling_std_t'+str(i)] = df.groupby(['id'])['demand'].transform(lambda x: x.shift(lag).rolling(i).std())\n",
    "        rolling_std_col.append('rolling_std_t'+str(i))\n",
    "    # Удаление строк с NA за исключением строк с предсказаниями.\n",
    "    df = df[(df.d >= 1914) | (pd.notna(df.rolling_mean_t180))] # rolling_mean_t180 был выбран, т.к. производит большинство пропусков\n",
    "    df = reduce_mem_usage(df)\n",
    "\n",
    "    return df, rolling_mean_col, rolling_std_col\n",
    "\n",
    "sales, rolling_mean_col, rolling_std_col = prep_sales(sales, lag)"
   ]
  },
  {
   "cell_type": "code",
   "execution_count": 23,
   "metadata": {
    "ExecuteTime": {
     "end_time": "2020-05-30T15:33:46.901280Z",
     "start_time": "2020-05-30T15:33:38.399168Z"
    }
   },
   "outputs": [
    {
     "data": {
      "text/html": [
       "<div>\n",
       "<style scoped>\n",
       "    .dataframe tbody tr th:only-of-type {\n",
       "        vertical-align: middle;\n",
       "    }\n",
       "\n",
       "    .dataframe tbody tr th {\n",
       "        vertical-align: top;\n",
       "    }\n",
       "\n",
       "    .dataframe thead th {\n",
       "        text-align: right;\n",
       "    }\n",
       "</style>\n",
       "<table border=\"1\" class=\"dataframe\">\n",
       "  <thead>\n",
       "    <tr style=\"text-align: right;\">\n",
       "      <th></th>\n",
       "      <th>id</th>\n",
       "      <th>item_id</th>\n",
       "      <th>dept_id</th>\n",
       "      <th>cat_id</th>\n",
       "      <th>store_id</th>\n",
       "      <th>state_id</th>\n",
       "      <th>d</th>\n",
       "      <th>demand</th>\n",
       "      <th>lag_t28</th>\n",
       "      <th>rolling_mean_t7</th>\n",
       "      <th>rolling_mean_t14</th>\n",
       "      <th>rolling_mean_t28</th>\n",
       "      <th>rolling_mean_t90</th>\n",
       "      <th>rolling_mean_t180</th>\n",
       "      <th>rolling_mean_t365</th>\n",
       "      <th>rolling_std_t7</th>\n",
       "      <th>rolling_std_t14</th>\n",
       "      <th>rolling_std_t28</th>\n",
       "    </tr>\n",
       "  </thead>\n",
       "  <tbody>\n",
       "    <tr>\n",
       "      <th>6311430</th>\n",
       "      <td>HOBBIES_1_001_CA_1</td>\n",
       "      <td>HOBBIES_1_001</td>\n",
       "      <td>HOBBIES_1</td>\n",
       "      <td>HOBBIES</td>\n",
       "      <td>CA_1</td>\n",
       "      <td>CA</td>\n",
       "      <td>208</td>\n",
       "      <td>0.0</td>\n",
       "      <td>0.0</td>\n",
       "      <td>0.0</td>\n",
       "      <td>0.0</td>\n",
       "      <td>0.0</td>\n",
       "      <td>0.0</td>\n",
       "      <td>0.0</td>\n",
       "      <td>NaN</td>\n",
       "      <td>0.0</td>\n",
       "      <td>0.0</td>\n",
       "      <td>0.0</td>\n",
       "    </tr>\n",
       "    <tr>\n",
       "      <th>6341920</th>\n",
       "      <td>HOBBIES_1_001_CA_1</td>\n",
       "      <td>HOBBIES_1_001</td>\n",
       "      <td>HOBBIES_1</td>\n",
       "      <td>HOBBIES</td>\n",
       "      <td>CA_1</td>\n",
       "      <td>CA</td>\n",
       "      <td>209</td>\n",
       "      <td>0.0</td>\n",
       "      <td>0.0</td>\n",
       "      <td>0.0</td>\n",
       "      <td>0.0</td>\n",
       "      <td>0.0</td>\n",
       "      <td>0.0</td>\n",
       "      <td>0.0</td>\n",
       "      <td>NaN</td>\n",
       "      <td>0.0</td>\n",
       "      <td>0.0</td>\n",
       "      <td>0.0</td>\n",
       "    </tr>\n",
       "    <tr>\n",
       "      <th>6372410</th>\n",
       "      <td>HOBBIES_1_001_CA_1</td>\n",
       "      <td>HOBBIES_1_001</td>\n",
       "      <td>HOBBIES_1</td>\n",
       "      <td>HOBBIES</td>\n",
       "      <td>CA_1</td>\n",
       "      <td>CA</td>\n",
       "      <td>210</td>\n",
       "      <td>0.0</td>\n",
       "      <td>0.0</td>\n",
       "      <td>0.0</td>\n",
       "      <td>0.0</td>\n",
       "      <td>0.0</td>\n",
       "      <td>0.0</td>\n",
       "      <td>0.0</td>\n",
       "      <td>NaN</td>\n",
       "      <td>0.0</td>\n",
       "      <td>0.0</td>\n",
       "      <td>0.0</td>\n",
       "    </tr>\n",
       "    <tr>\n",
       "      <th>6402900</th>\n",
       "      <td>HOBBIES_1_001_CA_1</td>\n",
       "      <td>HOBBIES_1_001</td>\n",
       "      <td>HOBBIES_1</td>\n",
       "      <td>HOBBIES</td>\n",
       "      <td>CA_1</td>\n",
       "      <td>CA</td>\n",
       "      <td>211</td>\n",
       "      <td>0.0</td>\n",
       "      <td>0.0</td>\n",
       "      <td>0.0</td>\n",
       "      <td>0.0</td>\n",
       "      <td>0.0</td>\n",
       "      <td>0.0</td>\n",
       "      <td>0.0</td>\n",
       "      <td>NaN</td>\n",
       "      <td>0.0</td>\n",
       "      <td>0.0</td>\n",
       "      <td>0.0</td>\n",
       "    </tr>\n",
       "    <tr>\n",
       "      <th>6433390</th>\n",
       "      <td>HOBBIES_1_001_CA_1</td>\n",
       "      <td>HOBBIES_1_001</td>\n",
       "      <td>HOBBIES_1</td>\n",
       "      <td>HOBBIES</td>\n",
       "      <td>CA_1</td>\n",
       "      <td>CA</td>\n",
       "      <td>212</td>\n",
       "      <td>0.0</td>\n",
       "      <td>0.0</td>\n",
       "      <td>0.0</td>\n",
       "      <td>0.0</td>\n",
       "      <td>0.0</td>\n",
       "      <td>0.0</td>\n",
       "      <td>0.0</td>\n",
       "      <td>NaN</td>\n",
       "      <td>0.0</td>\n",
       "      <td>0.0</td>\n",
       "      <td>0.0</td>\n",
       "    </tr>\n",
       "  </tbody>\n",
       "</table>\n",
       "</div>"
      ],
      "text/plain": [
       "                         id        item_id    dept_id   cat_id store_id  \\\n",
       "6311430  HOBBIES_1_001_CA_1  HOBBIES_1_001  HOBBIES_1  HOBBIES     CA_1   \n",
       "6341920  HOBBIES_1_001_CA_1  HOBBIES_1_001  HOBBIES_1  HOBBIES     CA_1   \n",
       "6372410  HOBBIES_1_001_CA_1  HOBBIES_1_001  HOBBIES_1  HOBBIES     CA_1   \n",
       "6402900  HOBBIES_1_001_CA_1  HOBBIES_1_001  HOBBIES_1  HOBBIES     CA_1   \n",
       "6433390  HOBBIES_1_001_CA_1  HOBBIES_1_001  HOBBIES_1  HOBBIES     CA_1   \n",
       "\n",
       "        state_id    d  demand  lag_t28  rolling_mean_t7  rolling_mean_t14  \\\n",
       "6311430       CA  208     0.0      0.0              0.0               0.0   \n",
       "6341920       CA  209     0.0      0.0              0.0               0.0   \n",
       "6372410       CA  210     0.0      0.0              0.0               0.0   \n",
       "6402900       CA  211     0.0      0.0              0.0               0.0   \n",
       "6433390       CA  212     0.0      0.0              0.0               0.0   \n",
       "\n",
       "         rolling_mean_t28  rolling_mean_t90  rolling_mean_t180  \\\n",
       "6311430               0.0               0.0                0.0   \n",
       "6341920               0.0               0.0                0.0   \n",
       "6372410               0.0               0.0                0.0   \n",
       "6402900               0.0               0.0                0.0   \n",
       "6433390               0.0               0.0                0.0   \n",
       "\n",
       "         rolling_mean_t365  rolling_std_t7  rolling_std_t14  rolling_std_t28  \n",
       "6311430                NaN             0.0              0.0              0.0  \n",
       "6341920                NaN             0.0              0.0              0.0  \n",
       "6372410                NaN             0.0              0.0              0.0  \n",
       "6402900                NaN             0.0              0.0              0.0  \n",
       "6433390                NaN             0.0              0.0              0.0  "
      ]
     },
     "execution_count": 23,
     "metadata": {},
     "output_type": "execute_result"
    }
   ],
   "source": [
    "sales[sales.id == \"HOBBIES_1_001_CA_1\"].head(5)"
   ]
  },
  {
   "cell_type": "markdown",
   "metadata": {},
   "source": [
    "#### Заметки для моделирования\n",
    "\n",
    "**Фичи**\n",
    "- \"dept_id\", \"item_id\", \"store_id\": Integer coding & embedding\n",
    "- полученные фичи, связанные с временным лагом : Numeric\n",
    "\n",
    "**Необходимость решейпа**:\n",
    "- Решейп дней в \"d\" для формирования из широкого списка в длинный -> столбец \"demand\" содержит значения \n",
    "\n",
    "**Объединения ключей**:\n",
    "1. Объединения календарных фичей через \"d\"\n",
    "2. Объединение цен продаж через \"store_id\", \"item_id\" и (\"wm_yr_wk\" из календаря) \n",
    "\n",
    "Comment: Submission dates: \"d_1914\" - \"d_1969\""
   ]
  },
  {
   "cell_type": "markdown",
   "metadata": {},
   "source": [
    "### Объединение источников данных"
   ]
  },
  {
   "cell_type": "markdown",
   "metadata": {},
   "source": [
    "Объединение данных о продаже и календаря"
   ]
  },
  {
   "cell_type": "code",
   "execution_count": 24,
   "metadata": {
    "ExecuteTime": {
     "end_time": "2020-05-30T15:33:59.904758Z",
     "start_time": "2020-05-30T15:33:46.934982Z"
    }
   },
   "outputs": [
    {
     "data": {
      "text/html": [
       "<div>\n",
       "<style scoped>\n",
       "    .dataframe tbody tr th:only-of-type {\n",
       "        vertical-align: middle;\n",
       "    }\n",
       "\n",
       "    .dataframe tbody tr th {\n",
       "        vertical-align: top;\n",
       "    }\n",
       "\n",
       "    .dataframe thead th {\n",
       "        text-align: right;\n",
       "    }\n",
       "</style>\n",
       "<table border=\"1\" class=\"dataframe\">\n",
       "  <thead>\n",
       "    <tr style=\"text-align: right;\">\n",
       "      <th></th>\n",
       "      <th>id</th>\n",
       "      <th>item_id</th>\n",
       "      <th>dept_id</th>\n",
       "      <th>cat_id</th>\n",
       "      <th>store_id</th>\n",
       "      <th>state_id</th>\n",
       "      <th>d</th>\n",
       "      <th>demand</th>\n",
       "      <th>lag_t28</th>\n",
       "      <th>rolling_mean_t7</th>\n",
       "      <th>...</th>\n",
       "      <th>wday</th>\n",
       "      <th>month</th>\n",
       "      <th>year</th>\n",
       "      <th>event_name_1</th>\n",
       "      <th>event_type_1</th>\n",
       "      <th>event_name_2</th>\n",
       "      <th>event_type_2</th>\n",
       "      <th>snap_CA</th>\n",
       "      <th>snap_TX</th>\n",
       "      <th>snap_WI</th>\n",
       "    </tr>\n",
       "  </thead>\n",
       "  <tbody>\n",
       "    <tr>\n",
       "      <th>0</th>\n",
       "      <td>HOBBIES_1_001_CA_1</td>\n",
       "      <td>HOBBIES_1_001</td>\n",
       "      <td>HOBBIES_1</td>\n",
       "      <td>HOBBIES</td>\n",
       "      <td>CA_1</td>\n",
       "      <td>CA</td>\n",
       "      <td>208</td>\n",
       "      <td>0.0</td>\n",
       "      <td>0.0</td>\n",
       "      <td>0.000000</td>\n",
       "      <td>...</td>\n",
       "      <td>4</td>\n",
       "      <td>7</td>\n",
       "      <td>0</td>\n",
       "      <td>30</td>\n",
       "      <td>4</td>\n",
       "      <td>4</td>\n",
       "      <td>2</td>\n",
       "      <td>0</td>\n",
       "      <td>0</td>\n",
       "      <td>0</td>\n",
       "    </tr>\n",
       "    <tr>\n",
       "      <th>1</th>\n",
       "      <td>HOBBIES_1_002_CA_1</td>\n",
       "      <td>HOBBIES_1_002</td>\n",
       "      <td>HOBBIES_1</td>\n",
       "      <td>HOBBIES</td>\n",
       "      <td>CA_1</td>\n",
       "      <td>CA</td>\n",
       "      <td>208</td>\n",
       "      <td>1.0</td>\n",
       "      <td>0.0</td>\n",
       "      <td>0.142822</td>\n",
       "      <td>...</td>\n",
       "      <td>4</td>\n",
       "      <td>7</td>\n",
       "      <td>0</td>\n",
       "      <td>30</td>\n",
       "      <td>4</td>\n",
       "      <td>4</td>\n",
       "      <td>2</td>\n",
       "      <td>0</td>\n",
       "      <td>0</td>\n",
       "      <td>0</td>\n",
       "    </tr>\n",
       "    <tr>\n",
       "      <th>2</th>\n",
       "      <td>HOBBIES_1_003_CA_1</td>\n",
       "      <td>HOBBIES_1_003</td>\n",
       "      <td>HOBBIES_1</td>\n",
       "      <td>HOBBIES</td>\n",
       "      <td>CA_1</td>\n",
       "      <td>CA</td>\n",
       "      <td>208</td>\n",
       "      <td>0.0</td>\n",
       "      <td>0.0</td>\n",
       "      <td>0.000000</td>\n",
       "      <td>...</td>\n",
       "      <td>4</td>\n",
       "      <td>7</td>\n",
       "      <td>0</td>\n",
       "      <td>30</td>\n",
       "      <td>4</td>\n",
       "      <td>4</td>\n",
       "      <td>2</td>\n",
       "      <td>0</td>\n",
       "      <td>0</td>\n",
       "      <td>0</td>\n",
       "    </tr>\n",
       "    <tr>\n",
       "      <th>3</th>\n",
       "      <td>HOBBIES_1_004_CA_1</td>\n",
       "      <td>HOBBIES_1_004</td>\n",
       "      <td>HOBBIES_1</td>\n",
       "      <td>HOBBIES</td>\n",
       "      <td>CA_1</td>\n",
       "      <td>CA</td>\n",
       "      <td>208</td>\n",
       "      <td>1.0</td>\n",
       "      <td>0.0</td>\n",
       "      <td>1.428711</td>\n",
       "      <td>...</td>\n",
       "      <td>4</td>\n",
       "      <td>7</td>\n",
       "      <td>0</td>\n",
       "      <td>30</td>\n",
       "      <td>4</td>\n",
       "      <td>4</td>\n",
       "      <td>2</td>\n",
       "      <td>0</td>\n",
       "      <td>0</td>\n",
       "      <td>0</td>\n",
       "    </tr>\n",
       "    <tr>\n",
       "      <th>4</th>\n",
       "      <td>HOBBIES_1_005_CA_1</td>\n",
       "      <td>HOBBIES_1_005</td>\n",
       "      <td>HOBBIES_1</td>\n",
       "      <td>HOBBIES</td>\n",
       "      <td>CA_1</td>\n",
       "      <td>CA</td>\n",
       "      <td>208</td>\n",
       "      <td>0.0</td>\n",
       "      <td>0.0</td>\n",
       "      <td>0.000000</td>\n",
       "      <td>...</td>\n",
       "      <td>4</td>\n",
       "      <td>7</td>\n",
       "      <td>0</td>\n",
       "      <td>30</td>\n",
       "      <td>4</td>\n",
       "      <td>4</td>\n",
       "      <td>2</td>\n",
       "      <td>0</td>\n",
       "      <td>0</td>\n",
       "      <td>0</td>\n",
       "    </tr>\n",
       "  </tbody>\n",
       "</table>\n",
       "<p>5 rows × 29 columns</p>\n",
       "</div>"
      ],
      "text/plain": [
       "                   id        item_id    dept_id   cat_id store_id state_id  \\\n",
       "0  HOBBIES_1_001_CA_1  HOBBIES_1_001  HOBBIES_1  HOBBIES     CA_1       CA   \n",
       "1  HOBBIES_1_002_CA_1  HOBBIES_1_002  HOBBIES_1  HOBBIES     CA_1       CA   \n",
       "2  HOBBIES_1_003_CA_1  HOBBIES_1_003  HOBBIES_1  HOBBIES     CA_1       CA   \n",
       "3  HOBBIES_1_004_CA_1  HOBBIES_1_004  HOBBIES_1  HOBBIES     CA_1       CA   \n",
       "4  HOBBIES_1_005_CA_1  HOBBIES_1_005  HOBBIES_1  HOBBIES     CA_1       CA   \n",
       "\n",
       "     d  demand  lag_t28  rolling_mean_t7  ...  wday  month  year  \\\n",
       "0  208     0.0      0.0         0.000000  ...     4      7     0   \n",
       "1  208     1.0      0.0         0.142822  ...     4      7     0   \n",
       "2  208     0.0      0.0         0.000000  ...     4      7     0   \n",
       "3  208     1.0      0.0         1.428711  ...     4      7     0   \n",
       "4  208     0.0      0.0         0.000000  ...     4      7     0   \n",
       "\n",
       "   event_name_1  event_type_1  event_name_2  event_type_2  snap_CA  snap_TX  \\\n",
       "0            30             4             4             2        0        0   \n",
       "1            30             4             4             2        0        0   \n",
       "2            30             4             4             2        0        0   \n",
       "3            30             4             4             2        0        0   \n",
       "4            30             4             4             2        0        0   \n",
       "\n",
       "   snap_WI  \n",
       "0        0  \n",
       "1        0  \n",
       "2        0  \n",
       "3        0  \n",
       "4        0  \n",
       "\n",
       "[5 rows x 29 columns]"
      ]
     },
     "execution_count": 24,
     "metadata": {},
     "output_type": "execute_result"
    }
   ],
   "source": [
    "sales = sales.merge(calendar, how=\"left\", on=\"d\")\n",
    "gc.collect() # Garbage Collector\n",
    "sales.head()"
   ]
  },
  {
   "cell_type": "markdown",
   "metadata": {},
   "source": [
    "Объединение данных о продаже и цен"
   ]
  },
  {
   "cell_type": "code",
   "execution_count": 25,
   "metadata": {
    "ExecuteTime": {
     "end_time": "2020-05-30T15:34:31.913513Z",
     "start_time": "2020-05-30T15:33:59.916726Z"
    }
   },
   "outputs": [
    {
     "data": {
      "text/html": [
       "<div>\n",
       "<style scoped>\n",
       "    .dataframe tbody tr th:only-of-type {\n",
       "        vertical-align: middle;\n",
       "    }\n",
       "\n",
       "    .dataframe tbody tr th {\n",
       "        vertical-align: top;\n",
       "    }\n",
       "\n",
       "    .dataframe thead th {\n",
       "        text-align: right;\n",
       "    }\n",
       "</style>\n",
       "<table border=\"1\" class=\"dataframe\">\n",
       "  <thead>\n",
       "    <tr style=\"text-align: right;\">\n",
       "      <th></th>\n",
       "      <th>id</th>\n",
       "      <th>item_id</th>\n",
       "      <th>dept_id</th>\n",
       "      <th>cat_id</th>\n",
       "      <th>store_id</th>\n",
       "      <th>state_id</th>\n",
       "      <th>d</th>\n",
       "      <th>demand</th>\n",
       "      <th>lag_t28</th>\n",
       "      <th>rolling_mean_t7</th>\n",
       "      <th>...</th>\n",
       "      <th>event_type_2</th>\n",
       "      <th>snap_CA</th>\n",
       "      <th>snap_TX</th>\n",
       "      <th>snap_WI</th>\n",
       "      <th>sell_price</th>\n",
       "      <th>sell_price_rel_diff</th>\n",
       "      <th>sell_price_roll_sd2</th>\n",
       "      <th>sell_price_roll_sd4</th>\n",
       "      <th>sell_price_roll_sd7</th>\n",
       "      <th>sell_price_cumrel</th>\n",
       "    </tr>\n",
       "  </thead>\n",
       "  <tbody>\n",
       "    <tr>\n",
       "      <th>0</th>\n",
       "      <td>HOBBIES_1_001_CA_1</td>\n",
       "      <td>HOBBIES_1_001</td>\n",
       "      <td>HOBBIES_1</td>\n",
       "      <td>HOBBIES</td>\n",
       "      <td>CA_1</td>\n",
       "      <td>CA</td>\n",
       "      <td>208</td>\n",
       "      <td>0.0</td>\n",
       "      <td>0.0</td>\n",
       "      <td>0.000000</td>\n",
       "      <td>...</td>\n",
       "      <td>2</td>\n",
       "      <td>0</td>\n",
       "      <td>0</td>\n",
       "      <td>0</td>\n",
       "      <td>NaN</td>\n",
       "      <td>NaN</td>\n",
       "      <td>NaN</td>\n",
       "      <td>NaN</td>\n",
       "      <td>NaN</td>\n",
       "      <td>NaN</td>\n",
       "    </tr>\n",
       "    <tr>\n",
       "      <th>1</th>\n",
       "      <td>HOBBIES_1_002_CA_1</td>\n",
       "      <td>HOBBIES_1_002</td>\n",
       "      <td>HOBBIES_1</td>\n",
       "      <td>HOBBIES</td>\n",
       "      <td>CA_1</td>\n",
       "      <td>CA</td>\n",
       "      <td>208</td>\n",
       "      <td>1.0</td>\n",
       "      <td>0.0</td>\n",
       "      <td>0.142822</td>\n",
       "      <td>...</td>\n",
       "      <td>2</td>\n",
       "      <td>0</td>\n",
       "      <td>0</td>\n",
       "      <td>0</td>\n",
       "      <td>3.970703</td>\n",
       "      <td>0.0</td>\n",
       "      <td>0.0</td>\n",
       "      <td>0.0</td>\n",
       "      <td>0.0</td>\n",
       "      <td>0.0</td>\n",
       "    </tr>\n",
       "    <tr>\n",
       "      <th>2</th>\n",
       "      <td>HOBBIES_1_003_CA_1</td>\n",
       "      <td>HOBBIES_1_003</td>\n",
       "      <td>HOBBIES_1</td>\n",
       "      <td>HOBBIES</td>\n",
       "      <td>CA_1</td>\n",
       "      <td>CA</td>\n",
       "      <td>208</td>\n",
       "      <td>0.0</td>\n",
       "      <td>0.0</td>\n",
       "      <td>0.000000</td>\n",
       "      <td>...</td>\n",
       "      <td>2</td>\n",
       "      <td>0</td>\n",
       "      <td>0</td>\n",
       "      <td>0</td>\n",
       "      <td>NaN</td>\n",
       "      <td>NaN</td>\n",
       "      <td>NaN</td>\n",
       "      <td>NaN</td>\n",
       "      <td>NaN</td>\n",
       "      <td>NaN</td>\n",
       "    </tr>\n",
       "    <tr>\n",
       "      <th>3</th>\n",
       "      <td>HOBBIES_1_004_CA_1</td>\n",
       "      <td>HOBBIES_1_004</td>\n",
       "      <td>HOBBIES_1</td>\n",
       "      <td>HOBBIES</td>\n",
       "      <td>CA_1</td>\n",
       "      <td>CA</td>\n",
       "      <td>208</td>\n",
       "      <td>1.0</td>\n",
       "      <td>0.0</td>\n",
       "      <td>1.428711</td>\n",
       "      <td>...</td>\n",
       "      <td>2</td>\n",
       "      <td>0</td>\n",
       "      <td>0</td>\n",
       "      <td>0</td>\n",
       "      <td>4.339844</td>\n",
       "      <td>0.0</td>\n",
       "      <td>0.0</td>\n",
       "      <td>0.0</td>\n",
       "      <td>0.0</td>\n",
       "      <td>0.0</td>\n",
       "    </tr>\n",
       "    <tr>\n",
       "      <th>4</th>\n",
       "      <td>HOBBIES_1_005_CA_1</td>\n",
       "      <td>HOBBIES_1_005</td>\n",
       "      <td>HOBBIES_1</td>\n",
       "      <td>HOBBIES</td>\n",
       "      <td>CA_1</td>\n",
       "      <td>CA</td>\n",
       "      <td>208</td>\n",
       "      <td>0.0</td>\n",
       "      <td>0.0</td>\n",
       "      <td>0.000000</td>\n",
       "      <td>...</td>\n",
       "      <td>2</td>\n",
       "      <td>0</td>\n",
       "      <td>0</td>\n",
       "      <td>0</td>\n",
       "      <td>2.980469</td>\n",
       "      <td>0.0</td>\n",
       "      <td>0.0</td>\n",
       "      <td>0.0</td>\n",
       "      <td>0.0</td>\n",
       "      <td>0.0</td>\n",
       "    </tr>\n",
       "  </tbody>\n",
       "</table>\n",
       "<p>5 rows × 34 columns</p>\n",
       "</div>"
      ],
      "text/plain": [
       "                   id        item_id    dept_id   cat_id store_id state_id  \\\n",
       "0  HOBBIES_1_001_CA_1  HOBBIES_1_001  HOBBIES_1  HOBBIES     CA_1       CA   \n",
       "1  HOBBIES_1_002_CA_1  HOBBIES_1_002  HOBBIES_1  HOBBIES     CA_1       CA   \n",
       "2  HOBBIES_1_003_CA_1  HOBBIES_1_003  HOBBIES_1  HOBBIES     CA_1       CA   \n",
       "3  HOBBIES_1_004_CA_1  HOBBIES_1_004  HOBBIES_1  HOBBIES     CA_1       CA   \n",
       "4  HOBBIES_1_005_CA_1  HOBBIES_1_005  HOBBIES_1  HOBBIES     CA_1       CA   \n",
       "\n",
       "     d  demand  lag_t28  rolling_mean_t7  ...  event_type_2  snap_CA  snap_TX  \\\n",
       "0  208     0.0      0.0         0.000000  ...             2        0        0   \n",
       "1  208     1.0      0.0         0.142822  ...             2        0        0   \n",
       "2  208     0.0      0.0         0.000000  ...             2        0        0   \n",
       "3  208     1.0      0.0         1.428711  ...             2        0        0   \n",
       "4  208     0.0      0.0         0.000000  ...             2        0        0   \n",
       "\n",
       "   snap_WI  sell_price  sell_price_rel_diff  sell_price_roll_sd2  \\\n",
       "0        0         NaN                  NaN                  NaN   \n",
       "1        0    3.970703                  0.0                  0.0   \n",
       "2        0         NaN                  NaN                  NaN   \n",
       "3        0    4.339844                  0.0                  0.0   \n",
       "4        0    2.980469                  0.0                  0.0   \n",
       "\n",
       "   sell_price_roll_sd4  sell_price_roll_sd7  sell_price_cumrel  \n",
       "0                  NaN                  NaN                NaN  \n",
       "1                  0.0                  0.0                0.0  \n",
       "2                  NaN                  NaN                NaN  \n",
       "3                  0.0                  0.0                0.0  \n",
       "4                  0.0                  0.0                0.0  \n",
       "\n",
       "[5 rows x 34 columns]"
      ]
     },
     "execution_count": 25,
     "metadata": {},
     "output_type": "execute_result"
    }
   ],
   "source": [
    "sales = sales.merge(selling_prices, how=\"left\", on=[\"wm_yr_wk\", \"store_id\", \"item_id\"])\n",
    "sales.drop([\"wm_yr_wk\"], axis=1, inplace=True)\n",
    "gc.collect()\n",
    "sales.head()"
   ]
  },
  {
   "cell_type": "code",
   "execution_count": 26,
   "metadata": {
    "ExecuteTime": {
     "end_time": "2020-05-30T15:34:32.080683Z",
     "start_time": "2020-05-30T15:34:32.010499Z"
    }
   },
   "outputs": [],
   "source": [
    "del selling_prices"
   ]
  },
  {
   "cell_type": "code",
   "execution_count": 27,
   "metadata": {
    "ExecuteTime": {
     "end_time": "2020-05-30T15:34:32.217406Z",
     "start_time": "2020-05-30T15:34:32.131977Z"
    }
   },
   "outputs": [
    {
     "name": "stdout",
     "output_type": "stream",
     "text": [
      "<class 'pandas.core.frame.DataFrame'>\n",
      "Int64Index: 53723380 entries, 0 to 53723379\n",
      "Data columns (total 34 columns):\n",
      " #   Column               Dtype  \n",
      "---  ------               -----  \n",
      " 0   id                   object \n",
      " 1   item_id              object \n",
      " 2   dept_id              object \n",
      " 3   cat_id               object \n",
      " 4   store_id             object \n",
      " 5   state_id             object \n",
      " 6   d                    int16  \n",
      " 7   demand               float16\n",
      " 8   lag_t28              float16\n",
      " 9   rolling_mean_t7      float16\n",
      " 10  rolling_mean_t14     float16\n",
      " 11  rolling_mean_t28     float16\n",
      " 12  rolling_mean_t90     float16\n",
      " 13  rolling_mean_t180    float16\n",
      " 14  rolling_mean_t365    float16\n",
      " 15  rolling_std_t7       float16\n",
      " 16  rolling_std_t14      float16\n",
      " 17  rolling_std_t28      float16\n",
      " 18  wday                 int8   \n",
      " 19  month                int8   \n",
      " 20  year                 int8   \n",
      " 21  event_name_1         int8   \n",
      " 22  event_type_1         int8   \n",
      " 23  event_name_2         int8   \n",
      " 24  event_type_2         int8   \n",
      " 25  snap_CA              int8   \n",
      " 26  snap_TX              int8   \n",
      " 27  snap_WI              int8   \n",
      " 28  sell_price           float16\n",
      " 29  sell_price_rel_diff  float16\n",
      " 30  sell_price_roll_sd2  float16\n",
      " 31  sell_price_roll_sd4  float16\n",
      " 32  sell_price_roll_sd7  float16\n",
      " 33  sell_price_cumrel    float16\n",
      "dtypes: float16(17), int16(1), int8(10), object(6)\n",
      "memory usage: 5.1+ GB\n"
     ]
    }
   ],
   "source": [
    "sales.info()"
   ]
  },
  {
   "cell_type": "markdown",
   "metadata": {},
   "source": [
    "## Подготовка данных для Keras"
   ]
  },
  {
   "cell_type": "markdown",
   "metadata": {},
   "source": [
    "### Кодирование оставшихся категорий"
   ]
  },
  {
   "cell_type": "code",
   "execution_count": 28,
   "metadata": {
    "ExecuteTime": {
     "end_time": "2020-05-30T15:35:36.824812Z",
     "start_time": "2020-05-30T15:34:32.239375Z"
    }
   },
   "outputs": [
    {
     "data": {
      "application/vnd.jupyter.widget-view+json": {
       "model_id": "faa344b366d14645a6f5b092e8fa83b7",
       "version_major": 2,
       "version_minor": 0
      },
      "text/plain": [
       "HBox(children=(FloatProgress(value=1.0, bar_style='info', max=1.0), HTML(value='')))"
      ]
     },
     "metadata": {},
     "output_type": "display_data"
    },
    {
     "name": "stdout",
     "output_type": "stream",
     "text": [
      "\n",
      "Mem. usage decreased to 3483.95 Mb (17.1% reduction)\n"
     ]
    },
    {
     "data": {
      "text/plain": [
       "15"
      ]
     },
     "execution_count": 28,
     "metadata": {},
     "output_type": "execute_result"
    }
   ],
   "source": [
    "cat_id_cols = [\"item_id\", \"dept_id\", \"store_id\", \"cat_id\", \"state_id\"]\n",
    "cat_cols = cat_id_cols + [\"wday\", \"month\", \"year\", \"event_name_1\", \n",
    "                          \"event_type_1\", \"event_name_2\", \"event_type_2\"]\n",
    "\n",
    "# Минимизация использования памяти\n",
    "for i, v in tqdm(enumerate(cat_id_cols)):\n",
    "    sales[v] = OrdinalEncoder(dtype=\"int\").fit_transform(sales[[v]])\n",
    "\n",
    "sales = reduce_mem_usage(sales)\n",
    "sales.head()\n",
    "gc.collect()"
   ]
  },
  {
   "cell_type": "markdown",
   "metadata": {},
   "source": [
    "#### Подготовка численных колонок"
   ]
  },
  {
   "cell_type": "code",
   "execution_count": 29,
   "metadata": {
    "ExecuteTime": {
     "end_time": "2020-05-30T15:35:50.033857Z",
     "start_time": "2020-05-30T15:35:36.834786Z"
    }
   },
   "outputs": [
    {
     "data": {
      "application/vnd.jupyter.widget-view+json": {
       "model_id": "9d8b7ab93734464aa4b76f4958d92afb",
       "version_major": 2,
       "version_minor": 0
      },
      "text/plain": [
       "HBox(children=(FloatProgress(value=1.0, bar_style='info', max=1.0), HTML(value='')))"
      ]
     },
     "metadata": {},
     "output_type": "display_data"
    },
    {
     "name": "stdout",
     "output_type": "stream",
     "text": [
      "\n"
     ]
    },
    {
     "data": {
      "text/html": [
       "<div>\n",
       "<style scoped>\n",
       "    .dataframe tbody tr th:only-of-type {\n",
       "        vertical-align: middle;\n",
       "    }\n",
       "\n",
       "    .dataframe tbody tr th {\n",
       "        vertical-align: top;\n",
       "    }\n",
       "\n",
       "    .dataframe thead th {\n",
       "        text-align: right;\n",
       "    }\n",
       "</style>\n",
       "<table border=\"1\" class=\"dataframe\">\n",
       "  <thead>\n",
       "    <tr style=\"text-align: right;\">\n",
       "      <th></th>\n",
       "      <th>id</th>\n",
       "      <th>item_id</th>\n",
       "      <th>dept_id</th>\n",
       "      <th>cat_id</th>\n",
       "      <th>store_id</th>\n",
       "      <th>state_id</th>\n",
       "      <th>d</th>\n",
       "      <th>demand</th>\n",
       "      <th>lag_t28</th>\n",
       "      <th>rolling_mean_t7</th>\n",
       "      <th>...</th>\n",
       "      <th>event_type_2</th>\n",
       "      <th>snap_CA</th>\n",
       "      <th>snap_TX</th>\n",
       "      <th>snap_WI</th>\n",
       "      <th>sell_price</th>\n",
       "      <th>sell_price_rel_diff</th>\n",
       "      <th>sell_price_roll_sd2</th>\n",
       "      <th>sell_price_roll_sd4</th>\n",
       "      <th>sell_price_roll_sd7</th>\n",
       "      <th>sell_price_cumrel</th>\n",
       "    </tr>\n",
       "  </thead>\n",
       "  <tbody>\n",
       "    <tr>\n",
       "      <th>0</th>\n",
       "      <td>HOBBIES_1_001_CA_1</td>\n",
       "      <td>1437</td>\n",
       "      <td>3</td>\n",
       "      <td>1</td>\n",
       "      <td>0</td>\n",
       "      <td>0</td>\n",
       "      <td>208</td>\n",
       "      <td>0.0</td>\n",
       "      <td>0.0</td>\n",
       "      <td>0.000000</td>\n",
       "      <td>...</td>\n",
       "      <td>2</td>\n",
       "      <td>0</td>\n",
       "      <td>0</td>\n",
       "      <td>0</td>\n",
       "      <td>3.470703</td>\n",
       "      <td>0.0</td>\n",
       "      <td>0.0</td>\n",
       "      <td>0.0</td>\n",
       "      <td>0.0</td>\n",
       "      <td>0.0</td>\n",
       "    </tr>\n",
       "    <tr>\n",
       "      <th>1</th>\n",
       "      <td>HOBBIES_1_002_CA_1</td>\n",
       "      <td>1438</td>\n",
       "      <td>3</td>\n",
       "      <td>1</td>\n",
       "      <td>0</td>\n",
       "      <td>0</td>\n",
       "      <td>208</td>\n",
       "      <td>1.0</td>\n",
       "      <td>0.0</td>\n",
       "      <td>0.142822</td>\n",
       "      <td>...</td>\n",
       "      <td>2</td>\n",
       "      <td>0</td>\n",
       "      <td>0</td>\n",
       "      <td>0</td>\n",
       "      <td>3.970703</td>\n",
       "      <td>0.0</td>\n",
       "      <td>0.0</td>\n",
       "      <td>0.0</td>\n",
       "      <td>0.0</td>\n",
       "      <td>0.0</td>\n",
       "    </tr>\n",
       "    <tr>\n",
       "      <th>2</th>\n",
       "      <td>HOBBIES_1_003_CA_1</td>\n",
       "      <td>1439</td>\n",
       "      <td>3</td>\n",
       "      <td>1</td>\n",
       "      <td>0</td>\n",
       "      <td>0</td>\n",
       "      <td>208</td>\n",
       "      <td>0.0</td>\n",
       "      <td>0.0</td>\n",
       "      <td>0.000000</td>\n",
       "      <td>...</td>\n",
       "      <td>2</td>\n",
       "      <td>0</td>\n",
       "      <td>0</td>\n",
       "      <td>0</td>\n",
       "      <td>3.470703</td>\n",
       "      <td>0.0</td>\n",
       "      <td>0.0</td>\n",
       "      <td>0.0</td>\n",
       "      <td>0.0</td>\n",
       "      <td>0.0</td>\n",
       "    </tr>\n",
       "    <tr>\n",
       "      <th>3</th>\n",
       "      <td>HOBBIES_1_004_CA_1</td>\n",
       "      <td>1440</td>\n",
       "      <td>3</td>\n",
       "      <td>1</td>\n",
       "      <td>0</td>\n",
       "      <td>0</td>\n",
       "      <td>208</td>\n",
       "      <td>1.0</td>\n",
       "      <td>0.0</td>\n",
       "      <td>1.428711</td>\n",
       "      <td>...</td>\n",
       "      <td>2</td>\n",
       "      <td>0</td>\n",
       "      <td>0</td>\n",
       "      <td>0</td>\n",
       "      <td>4.339844</td>\n",
       "      <td>0.0</td>\n",
       "      <td>0.0</td>\n",
       "      <td>0.0</td>\n",
       "      <td>0.0</td>\n",
       "      <td>0.0</td>\n",
       "    </tr>\n",
       "    <tr>\n",
       "      <th>4</th>\n",
       "      <td>HOBBIES_1_005_CA_1</td>\n",
       "      <td>1441</td>\n",
       "      <td>3</td>\n",
       "      <td>1</td>\n",
       "      <td>0</td>\n",
       "      <td>0</td>\n",
       "      <td>208</td>\n",
       "      <td>0.0</td>\n",
       "      <td>0.0</td>\n",
       "      <td>0.000000</td>\n",
       "      <td>...</td>\n",
       "      <td>2</td>\n",
       "      <td>0</td>\n",
       "      <td>0</td>\n",
       "      <td>0</td>\n",
       "      <td>2.980469</td>\n",
       "      <td>0.0</td>\n",
       "      <td>0.0</td>\n",
       "      <td>0.0</td>\n",
       "      <td>0.0</td>\n",
       "      <td>0.0</td>\n",
       "    </tr>\n",
       "  </tbody>\n",
       "</table>\n",
       "<p>5 rows × 34 columns</p>\n",
       "</div>"
      ],
      "text/plain": [
       "                   id  item_id  dept_id  cat_id  store_id  state_id    d  \\\n",
       "0  HOBBIES_1_001_CA_1     1437        3       1         0         0  208   \n",
       "1  HOBBIES_1_002_CA_1     1438        3       1         0         0  208   \n",
       "2  HOBBIES_1_003_CA_1     1439        3       1         0         0  208   \n",
       "3  HOBBIES_1_004_CA_1     1440        3       1         0         0  208   \n",
       "4  HOBBIES_1_005_CA_1     1441        3       1         0         0  208   \n",
       "\n",
       "   demand  lag_t28  rolling_mean_t7  ...  event_type_2  snap_CA  snap_TX  \\\n",
       "0     0.0      0.0         0.000000  ...             2        0        0   \n",
       "1     1.0      0.0         0.142822  ...             2        0        0   \n",
       "2     0.0      0.0         0.000000  ...             2        0        0   \n",
       "3     1.0      0.0         1.428711  ...             2        0        0   \n",
       "4     0.0      0.0         0.000000  ...             2        0        0   \n",
       "\n",
       "   snap_WI  sell_price  sell_price_rel_diff  sell_price_roll_sd2  \\\n",
       "0        0    3.470703                  0.0                  0.0   \n",
       "1        0    3.970703                  0.0                  0.0   \n",
       "2        0    3.470703                  0.0                  0.0   \n",
       "3        0    4.339844                  0.0                  0.0   \n",
       "4        0    2.980469                  0.0                  0.0   \n",
       "\n",
       "   sell_price_roll_sd4  sell_price_roll_sd7  sell_price_cumrel  \n",
       "0                  0.0                  0.0                0.0  \n",
       "1                  0.0                  0.0                0.0  \n",
       "2                  0.0                  0.0                0.0  \n",
       "3                  0.0                  0.0                0.0  \n",
       "4                  0.0                  0.0                0.0  \n",
       "\n",
       "[5 rows x 34 columns]"
      ]
     },
     "execution_count": 29,
     "metadata": {},
     "output_type": "execute_result"
    }
   ],
   "source": [
    "num_cols = [\"sell_price\", \"sell_price_rel_diff\", \"sell_price_cumrel\"] + sell_price_roll_sd_col+ [('lag_t'+str(lag))] + rolling_mean_col + rolling_std_col \n",
    "bool_cols = [\"snap_CA\", \"snap_TX\", \"snap_WI\"]\n",
    "dense_cols = num_cols + bool_cols\n",
    "\n",
    "# Заполняем пропуски медианным значением\n",
    "for i, v in tqdm(enumerate(num_cols)):\n",
    "    sales[v] = sales[v].fillna(sales[v].median())\n",
    "    \n",
    "sales.head()"
   ]
  },
  {
   "cell_type": "code",
   "execution_count": 30,
   "metadata": {
    "ExecuteTime": {
     "end_time": "2020-05-30T15:35:58.299724Z",
     "start_time": "2020-05-30T15:35:50.034827Z"
    }
   },
   "outputs": [
    {
     "data": {
      "text/html": [
       "<div>\n",
       "<style scoped>\n",
       "    .dataframe tbody tr th:only-of-type {\n",
       "        vertical-align: middle;\n",
       "    }\n",
       "\n",
       "    .dataframe tbody tr th {\n",
       "        vertical-align: top;\n",
       "    }\n",
       "\n",
       "    .dataframe thead th {\n",
       "        text-align: right;\n",
       "    }\n",
       "</style>\n",
       "<table border=\"1\" class=\"dataframe\">\n",
       "  <thead>\n",
       "    <tr style=\"text-align: right;\">\n",
       "      <th></th>\n",
       "      <th>id</th>\n",
       "      <th>item_id</th>\n",
       "      <th>dept_id</th>\n",
       "      <th>cat_id</th>\n",
       "      <th>store_id</th>\n",
       "      <th>state_id</th>\n",
       "      <th>d</th>\n",
       "      <th>demand</th>\n",
       "      <th>lag_t28</th>\n",
       "      <th>rolling_mean_t7</th>\n",
       "      <th>...</th>\n",
       "      <th>event_type_2</th>\n",
       "      <th>snap_CA</th>\n",
       "      <th>snap_TX</th>\n",
       "      <th>snap_WI</th>\n",
       "      <th>sell_price</th>\n",
       "      <th>sell_price_rel_diff</th>\n",
       "      <th>sell_price_roll_sd2</th>\n",
       "      <th>sell_price_roll_sd4</th>\n",
       "      <th>sell_price_roll_sd7</th>\n",
       "      <th>sell_price_cumrel</th>\n",
       "    </tr>\n",
       "  </thead>\n",
       "  <tbody>\n",
       "    <tr>\n",
       "      <th>0</th>\n",
       "      <td>HOBBIES_1_001_CA_1</td>\n",
       "      <td>1437</td>\n",
       "      <td>3</td>\n",
       "      <td>1</td>\n",
       "      <td>0</td>\n",
       "      <td>0</td>\n",
       "      <td>208</td>\n",
       "      <td>0.0</td>\n",
       "      <td>0.0</td>\n",
       "      <td>0.000000</td>\n",
       "      <td>...</td>\n",
       "      <td>2</td>\n",
       "      <td>0</td>\n",
       "      <td>0</td>\n",
       "      <td>0</td>\n",
       "      <td>3.470703</td>\n",
       "      <td>0.0</td>\n",
       "      <td>0.0</td>\n",
       "      <td>0.0</td>\n",
       "      <td>0.0</td>\n",
       "      <td>0.000000</td>\n",
       "    </tr>\n",
       "    <tr>\n",
       "      <th>1</th>\n",
       "      <td>HOBBIES_1_002_CA_1</td>\n",
       "      <td>1438</td>\n",
       "      <td>3</td>\n",
       "      <td>1</td>\n",
       "      <td>0</td>\n",
       "      <td>0</td>\n",
       "      <td>208</td>\n",
       "      <td>1.0</td>\n",
       "      <td>0.0</td>\n",
       "      <td>0.142822</td>\n",
       "      <td>...</td>\n",
       "      <td>2</td>\n",
       "      <td>0</td>\n",
       "      <td>0</td>\n",
       "      <td>0</td>\n",
       "      <td>3.970703</td>\n",
       "      <td>0.0</td>\n",
       "      <td>0.0</td>\n",
       "      <td>0.0</td>\n",
       "      <td>0.0</td>\n",
       "      <td>0.000000</td>\n",
       "    </tr>\n",
       "    <tr>\n",
       "      <th>2</th>\n",
       "      <td>HOBBIES_1_003_CA_1</td>\n",
       "      <td>1439</td>\n",
       "      <td>3</td>\n",
       "      <td>1</td>\n",
       "      <td>0</td>\n",
       "      <td>0</td>\n",
       "      <td>208</td>\n",
       "      <td>0.0</td>\n",
       "      <td>0.0</td>\n",
       "      <td>0.000000</td>\n",
       "      <td>...</td>\n",
       "      <td>2</td>\n",
       "      <td>0</td>\n",
       "      <td>0</td>\n",
       "      <td>0</td>\n",
       "      <td>3.470703</td>\n",
       "      <td>0.0</td>\n",
       "      <td>0.0</td>\n",
       "      <td>0.0</td>\n",
       "      <td>0.0</td>\n",
       "      <td>0.000000</td>\n",
       "    </tr>\n",
       "    <tr>\n",
       "      <th>3</th>\n",
       "      <td>HOBBIES_1_004_CA_1</td>\n",
       "      <td>1440</td>\n",
       "      <td>3</td>\n",
       "      <td>1</td>\n",
       "      <td>0</td>\n",
       "      <td>0</td>\n",
       "      <td>208</td>\n",
       "      <td>1.0</td>\n",
       "      <td>0.0</td>\n",
       "      <td>1.428711</td>\n",
       "      <td>...</td>\n",
       "      <td>2</td>\n",
       "      <td>0</td>\n",
       "      <td>0</td>\n",
       "      <td>0</td>\n",
       "      <td>4.339844</td>\n",
       "      <td>0.0</td>\n",
       "      <td>0.0</td>\n",
       "      <td>0.0</td>\n",
       "      <td>0.0</td>\n",
       "      <td>0.000000</td>\n",
       "    </tr>\n",
       "    <tr>\n",
       "      <th>4</th>\n",
       "      <td>HOBBIES_1_005_CA_1</td>\n",
       "      <td>1441</td>\n",
       "      <td>3</td>\n",
       "      <td>1</td>\n",
       "      <td>0</td>\n",
       "      <td>0</td>\n",
       "      <td>208</td>\n",
       "      <td>0.0</td>\n",
       "      <td>0.0</td>\n",
       "      <td>0.000000</td>\n",
       "      <td>...</td>\n",
       "      <td>2</td>\n",
       "      <td>0</td>\n",
       "      <td>0</td>\n",
       "      <td>0</td>\n",
       "      <td>2.980469</td>\n",
       "      <td>0.0</td>\n",
       "      <td>0.0</td>\n",
       "      <td>0.0</td>\n",
       "      <td>0.0</td>\n",
       "      <td>0.000000</td>\n",
       "    </tr>\n",
       "    <tr>\n",
       "      <th>...</th>\n",
       "      <td>...</td>\n",
       "      <td>...</td>\n",
       "      <td>...</td>\n",
       "      <td>...</td>\n",
       "      <td>...</td>\n",
       "      <td>...</td>\n",
       "      <td>...</td>\n",
       "      <td>...</td>\n",
       "      <td>...</td>\n",
       "      <td>...</td>\n",
       "      <td>...</td>\n",
       "      <td>...</td>\n",
       "      <td>...</td>\n",
       "      <td>...</td>\n",
       "      <td>...</td>\n",
       "      <td>...</td>\n",
       "      <td>...</td>\n",
       "      <td>...</td>\n",
       "      <td>...</td>\n",
       "      <td>...</td>\n",
       "      <td>...</td>\n",
       "    </tr>\n",
       "    <tr>\n",
       "      <th>53723375</th>\n",
       "      <td>FOODS_3_823_WI_3</td>\n",
       "      <td>1432</td>\n",
       "      <td>2</td>\n",
       "      <td>0</td>\n",
       "      <td>9</td>\n",
       "      <td>2</td>\n",
       "      <td>1969</td>\n",
       "      <td>NaN</td>\n",
       "      <td>0.0</td>\n",
       "      <td>0.285645</td>\n",
       "      <td>...</td>\n",
       "      <td>0</td>\n",
       "      <td>0</td>\n",
       "      <td>0</td>\n",
       "      <td>0</td>\n",
       "      <td>2.980469</td>\n",
       "      <td>0.0</td>\n",
       "      <td>0.0</td>\n",
       "      <td>0.0</td>\n",
       "      <td>0.0</td>\n",
       "      <td>0.333252</td>\n",
       "    </tr>\n",
       "    <tr>\n",
       "      <th>53723376</th>\n",
       "      <td>FOODS_3_824_WI_3</td>\n",
       "      <td>1433</td>\n",
       "      <td>2</td>\n",
       "      <td>0</td>\n",
       "      <td>9</td>\n",
       "      <td>2</td>\n",
       "      <td>1969</td>\n",
       "      <td>NaN</td>\n",
       "      <td>0.0</td>\n",
       "      <td>0.285645</td>\n",
       "      <td>...</td>\n",
       "      <td>0</td>\n",
       "      <td>0</td>\n",
       "      <td>0</td>\n",
       "      <td>0</td>\n",
       "      <td>2.480469</td>\n",
       "      <td>0.0</td>\n",
       "      <td>0.0</td>\n",
       "      <td>0.0</td>\n",
       "      <td>0.0</td>\n",
       "      <td>0.285645</td>\n",
       "    </tr>\n",
       "    <tr>\n",
       "      <th>53723377</th>\n",
       "      <td>FOODS_3_825_WI_3</td>\n",
       "      <td>1434</td>\n",
       "      <td>2</td>\n",
       "      <td>0</td>\n",
       "      <td>9</td>\n",
       "      <td>2</td>\n",
       "      <td>1969</td>\n",
       "      <td>NaN</td>\n",
       "      <td>0.0</td>\n",
       "      <td>0.285645</td>\n",
       "      <td>...</td>\n",
       "      <td>0</td>\n",
       "      <td>0</td>\n",
       "      <td>0</td>\n",
       "      <td>0</td>\n",
       "      <td>3.980469</td>\n",
       "      <td>0.0</td>\n",
       "      <td>0.0</td>\n",
       "      <td>0.0</td>\n",
       "      <td>0.0</td>\n",
       "      <td>0.000000</td>\n",
       "    </tr>\n",
       "    <tr>\n",
       "      <th>53723378</th>\n",
       "      <td>FOODS_3_826_WI_3</td>\n",
       "      <td>1435</td>\n",
       "      <td>2</td>\n",
       "      <td>0</td>\n",
       "      <td>9</td>\n",
       "      <td>2</td>\n",
       "      <td>1969</td>\n",
       "      <td>NaN</td>\n",
       "      <td>0.0</td>\n",
       "      <td>0.285645</td>\n",
       "      <td>...</td>\n",
       "      <td>0</td>\n",
       "      <td>0</td>\n",
       "      <td>0</td>\n",
       "      <td>0</td>\n",
       "      <td>1.280273</td>\n",
       "      <td>0.0</td>\n",
       "      <td>0.0</td>\n",
       "      <td>0.0</td>\n",
       "      <td>0.0</td>\n",
       "      <td>0.000000</td>\n",
       "    </tr>\n",
       "    <tr>\n",
       "      <th>53723379</th>\n",
       "      <td>FOODS_3_827_WI_3</td>\n",
       "      <td>1436</td>\n",
       "      <td>2</td>\n",
       "      <td>0</td>\n",
       "      <td>9</td>\n",
       "      <td>2</td>\n",
       "      <td>1969</td>\n",
       "      <td>NaN</td>\n",
       "      <td>0.0</td>\n",
       "      <td>0.285645</td>\n",
       "      <td>...</td>\n",
       "      <td>0</td>\n",
       "      <td>0</td>\n",
       "      <td>0</td>\n",
       "      <td>0</td>\n",
       "      <td>1.000000</td>\n",
       "      <td>0.0</td>\n",
       "      <td>0.0</td>\n",
       "      <td>0.0</td>\n",
       "      <td>0.0</td>\n",
       "      <td>0.000000</td>\n",
       "    </tr>\n",
       "  </tbody>\n",
       "</table>\n",
       "<p>53723380 rows × 34 columns</p>\n",
       "</div>"
      ],
      "text/plain": [
       "                          id  item_id  dept_id  cat_id  store_id  state_id  \\\n",
       "0         HOBBIES_1_001_CA_1     1437        3       1         0         0   \n",
       "1         HOBBIES_1_002_CA_1     1438        3       1         0         0   \n",
       "2         HOBBIES_1_003_CA_1     1439        3       1         0         0   \n",
       "3         HOBBIES_1_004_CA_1     1440        3       1         0         0   \n",
       "4         HOBBIES_1_005_CA_1     1441        3       1         0         0   \n",
       "...                      ...      ...      ...     ...       ...       ...   \n",
       "53723375    FOODS_3_823_WI_3     1432        2       0         9         2   \n",
       "53723376    FOODS_3_824_WI_3     1433        2       0         9         2   \n",
       "53723377    FOODS_3_825_WI_3     1434        2       0         9         2   \n",
       "53723378    FOODS_3_826_WI_3     1435        2       0         9         2   \n",
       "53723379    FOODS_3_827_WI_3     1436        2       0         9         2   \n",
       "\n",
       "             d  demand  lag_t28  rolling_mean_t7  ...  event_type_2  snap_CA  \\\n",
       "0          208     0.0      0.0         0.000000  ...             2        0   \n",
       "1          208     1.0      0.0         0.142822  ...             2        0   \n",
       "2          208     0.0      0.0         0.000000  ...             2        0   \n",
       "3          208     1.0      0.0         1.428711  ...             2        0   \n",
       "4          208     0.0      0.0         0.000000  ...             2        0   \n",
       "...        ...     ...      ...              ...  ...           ...      ...   \n",
       "53723375  1969     NaN      0.0         0.285645  ...             0        0   \n",
       "53723376  1969     NaN      0.0         0.285645  ...             0        0   \n",
       "53723377  1969     NaN      0.0         0.285645  ...             0        0   \n",
       "53723378  1969     NaN      0.0         0.285645  ...             0        0   \n",
       "53723379  1969     NaN      0.0         0.285645  ...             0        0   \n",
       "\n",
       "          snap_TX  snap_WI  sell_price  sell_price_rel_diff  \\\n",
       "0               0        0    3.470703                  0.0   \n",
       "1               0        0    3.970703                  0.0   \n",
       "2               0        0    3.470703                  0.0   \n",
       "3               0        0    4.339844                  0.0   \n",
       "4               0        0    2.980469                  0.0   \n",
       "...           ...      ...         ...                  ...   \n",
       "53723375        0        0    2.980469                  0.0   \n",
       "53723376        0        0    2.480469                  0.0   \n",
       "53723377        0        0    3.980469                  0.0   \n",
       "53723378        0        0    1.280273                  0.0   \n",
       "53723379        0        0    1.000000                  0.0   \n",
       "\n",
       "          sell_price_roll_sd2  sell_price_roll_sd4  sell_price_roll_sd7  \\\n",
       "0                         0.0                  0.0                  0.0   \n",
       "1                         0.0                  0.0                  0.0   \n",
       "2                         0.0                  0.0                  0.0   \n",
       "3                         0.0                  0.0                  0.0   \n",
       "4                         0.0                  0.0                  0.0   \n",
       "...                       ...                  ...                  ...   \n",
       "53723375                  0.0                  0.0                  0.0   \n",
       "53723376                  0.0                  0.0                  0.0   \n",
       "53723377                  0.0                  0.0                  0.0   \n",
       "53723378                  0.0                  0.0                  0.0   \n",
       "53723379                  0.0                  0.0                  0.0   \n",
       "\n",
       "          sell_price_cumrel  \n",
       "0                  0.000000  \n",
       "1                  0.000000  \n",
       "2                  0.000000  \n",
       "3                  0.000000  \n",
       "4                  0.000000  \n",
       "...                     ...  \n",
       "53723375           0.333252  \n",
       "53723376           0.285645  \n",
       "53723377           0.000000  \n",
       "53723378           0.000000  \n",
       "53723379           0.000000  \n",
       "\n",
       "[53723380 rows x 34 columns]"
      ]
     },
     "execution_count": 30,
     "metadata": {},
     "output_type": "execute_result"
    }
   ],
   "source": [
    "sales"
   ]
  },
  {
   "cell_type": "markdown",
   "metadata": {},
   "source": [
    "#### Разделение тестовых данных и восстановление столбцов с id (validation, evaluation)"
   ]
  },
  {
   "cell_type": "code",
   "execution_count": 31,
   "metadata": {
    "ExecuteTime": {
     "end_time": "2020-05-30T15:36:01.052478Z",
     "start_time": "2020-05-30T15:35:58.300721Z"
    }
   },
   "outputs": [
    {
     "data": {
      "text/html": [
       "<div>\n",
       "<style scoped>\n",
       "    .dataframe tbody tr th:only-of-type {\n",
       "        vertical-align: middle;\n",
       "    }\n",
       "\n",
       "    .dataframe tbody tr th {\n",
       "        vertical-align: top;\n",
       "    }\n",
       "\n",
       "    .dataframe thead th {\n",
       "        text-align: right;\n",
       "    }\n",
       "</style>\n",
       "<table border=\"1\" class=\"dataframe\">\n",
       "  <thead>\n",
       "    <tr style=\"text-align: right;\">\n",
       "      <th></th>\n",
       "      <th>id</th>\n",
       "      <th>item_id</th>\n",
       "      <th>dept_id</th>\n",
       "      <th>cat_id</th>\n",
       "      <th>store_id</th>\n",
       "      <th>state_id</th>\n",
       "      <th>d</th>\n",
       "      <th>demand</th>\n",
       "      <th>lag_t28</th>\n",
       "      <th>rolling_mean_t7</th>\n",
       "      <th>...</th>\n",
       "      <th>snap_CA</th>\n",
       "      <th>snap_TX</th>\n",
       "      <th>snap_WI</th>\n",
       "      <th>sell_price</th>\n",
       "      <th>sell_price_rel_diff</th>\n",
       "      <th>sell_price_roll_sd2</th>\n",
       "      <th>sell_price_roll_sd4</th>\n",
       "      <th>sell_price_roll_sd7</th>\n",
       "      <th>sell_price_cumrel</th>\n",
       "      <th>F</th>\n",
       "    </tr>\n",
       "  </thead>\n",
       "  <tbody>\n",
       "    <tr>\n",
       "      <th>52015940</th>\n",
       "      <td>HOBBIES_1_001_CA_1_validation</td>\n",
       "      <td>1437</td>\n",
       "      <td>3</td>\n",
       "      <td>1</td>\n",
       "      <td>0</td>\n",
       "      <td>0</td>\n",
       "      <td>1914</td>\n",
       "      <td>NaN</td>\n",
       "      <td>1.0</td>\n",
       "      <td>1.142578</td>\n",
       "      <td>...</td>\n",
       "      <td>0</td>\n",
       "      <td>0</td>\n",
       "      <td>0</td>\n",
       "      <td>8.382812</td>\n",
       "      <td>0.0</td>\n",
       "      <td>0.0</td>\n",
       "      <td>0.059998</td>\n",
       "      <td>0.064148</td>\n",
       "      <td>0.051727</td>\n",
       "      <td>F1</td>\n",
       "    </tr>\n",
       "    <tr>\n",
       "      <th>52015941</th>\n",
       "      <td>HOBBIES_1_002_CA_1_validation</td>\n",
       "      <td>1438</td>\n",
       "      <td>3</td>\n",
       "      <td>1</td>\n",
       "      <td>0</td>\n",
       "      <td>0</td>\n",
       "      <td>1914</td>\n",
       "      <td>NaN</td>\n",
       "      <td>1.0</td>\n",
       "      <td>0.714355</td>\n",
       "      <td>...</td>\n",
       "      <td>0</td>\n",
       "      <td>0</td>\n",
       "      <td>0</td>\n",
       "      <td>3.970703</td>\n",
       "      <td>0.0</td>\n",
       "      <td>0.0</td>\n",
       "      <td>0.000000</td>\n",
       "      <td>0.000000</td>\n",
       "      <td>0.000000</td>\n",
       "      <td>F1</td>\n",
       "    </tr>\n",
       "    <tr>\n",
       "      <th>52015942</th>\n",
       "      <td>HOBBIES_1_003_CA_1_validation</td>\n",
       "      <td>1439</td>\n",
       "      <td>3</td>\n",
       "      <td>1</td>\n",
       "      <td>0</td>\n",
       "      <td>0</td>\n",
       "      <td>1914</td>\n",
       "      <td>NaN</td>\n",
       "      <td>0.0</td>\n",
       "      <td>0.285645</td>\n",
       "      <td>...</td>\n",
       "      <td>0</td>\n",
       "      <td>0</td>\n",
       "      <td>0</td>\n",
       "      <td>2.970703</td>\n",
       "      <td>0.0</td>\n",
       "      <td>0.0</td>\n",
       "      <td>0.000000</td>\n",
       "      <td>0.000000</td>\n",
       "      <td>0.000000</td>\n",
       "      <td>F1</td>\n",
       "    </tr>\n",
       "    <tr>\n",
       "      <th>52015943</th>\n",
       "      <td>HOBBIES_1_004_CA_1_validation</td>\n",
       "      <td>1440</td>\n",
       "      <td>3</td>\n",
       "      <td>1</td>\n",
       "      <td>0</td>\n",
       "      <td>0</td>\n",
       "      <td>1914</td>\n",
       "      <td>NaN</td>\n",
       "      <td>0.0</td>\n",
       "      <td>3.000000</td>\n",
       "      <td>...</td>\n",
       "      <td>0</td>\n",
       "      <td>0</td>\n",
       "      <td>0</td>\n",
       "      <td>4.640625</td>\n",
       "      <td>0.0</td>\n",
       "      <td>0.0</td>\n",
       "      <td>0.000000</td>\n",
       "      <td>0.000000</td>\n",
       "      <td>0.230713</td>\n",
       "      <td>F1</td>\n",
       "    </tr>\n",
       "    <tr>\n",
       "      <th>52015944</th>\n",
       "      <td>HOBBIES_1_005_CA_1_validation</td>\n",
       "      <td>1441</td>\n",
       "      <td>3</td>\n",
       "      <td>1</td>\n",
       "      <td>0</td>\n",
       "      <td>0</td>\n",
       "      <td>1914</td>\n",
       "      <td>NaN</td>\n",
       "      <td>1.0</td>\n",
       "      <td>0.714355</td>\n",
       "      <td>...</td>\n",
       "      <td>0</td>\n",
       "      <td>0</td>\n",
       "      <td>0</td>\n",
       "      <td>2.880859</td>\n",
       "      <td>0.0</td>\n",
       "      <td>0.0</td>\n",
       "      <td>0.000000</td>\n",
       "      <td>0.000000</td>\n",
       "      <td>0.250000</td>\n",
       "      <td>F1</td>\n",
       "    </tr>\n",
       "  </tbody>\n",
       "</table>\n",
       "<p>5 rows × 35 columns</p>\n",
       "</div>"
      ],
      "text/plain": [
       "                                     id  item_id  dept_id  cat_id  store_id  \\\n",
       "52015940  HOBBIES_1_001_CA_1_validation     1437        3       1         0   \n",
       "52015941  HOBBIES_1_002_CA_1_validation     1438        3       1         0   \n",
       "52015942  HOBBIES_1_003_CA_1_validation     1439        3       1         0   \n",
       "52015943  HOBBIES_1_004_CA_1_validation     1440        3       1         0   \n",
       "52015944  HOBBIES_1_005_CA_1_validation     1441        3       1         0   \n",
       "\n",
       "          state_id     d  demand  lag_t28  rolling_mean_t7  ...  snap_CA  \\\n",
       "52015940         0  1914     NaN      1.0         1.142578  ...        0   \n",
       "52015941         0  1914     NaN      1.0         0.714355  ...        0   \n",
       "52015942         0  1914     NaN      0.0         0.285645  ...        0   \n",
       "52015943         0  1914     NaN      0.0         3.000000  ...        0   \n",
       "52015944         0  1914     NaN      1.0         0.714355  ...        0   \n",
       "\n",
       "          snap_TX  snap_WI  sell_price  sell_price_rel_diff  \\\n",
       "52015940        0        0    8.382812                  0.0   \n",
       "52015941        0        0    3.970703                  0.0   \n",
       "52015942        0        0    2.970703                  0.0   \n",
       "52015943        0        0    4.640625                  0.0   \n",
       "52015944        0        0    2.880859                  0.0   \n",
       "\n",
       "          sell_price_roll_sd2  sell_price_roll_sd4  sell_price_roll_sd7  \\\n",
       "52015940                  0.0             0.059998             0.064148   \n",
       "52015941                  0.0             0.000000             0.000000   \n",
       "52015942                  0.0             0.000000             0.000000   \n",
       "52015943                  0.0             0.000000             0.000000   \n",
       "52015944                  0.0             0.000000             0.000000   \n",
       "\n",
       "          sell_price_cumrel   F  \n",
       "52015940           0.051727  F1  \n",
       "52015941           0.000000  F1  \n",
       "52015942           0.000000  F1  \n",
       "52015943           0.230713  F1  \n",
       "52015944           0.250000  F1  \n",
       "\n",
       "[5 rows x 35 columns]"
      ]
     },
     "execution_count": 31,
     "metadata": {},
     "output_type": "execute_result"
    }
   ],
   "source": [
    "test = sales[sales.d >= 1914]\n",
    "test = test.assign(id=test.id + \"_\" + np.where(test.d <= 1941, \"validation\", \"evaluation\"),\n",
    "                   F=\"F\" + (test.d - 1913 - 28 * (test.d > 1941)).astype(\"str\"))\n",
    "\n",
    "gc.collect()\n",
    "test.head()"
   ]
  },
  {
   "cell_type": "code",
   "execution_count": 32,
   "metadata": {
    "ExecuteTime": {
     "end_time": "2020-05-30T15:36:01.073457Z",
     "start_time": "2020-05-30T15:36:01.053475Z"
    }
   },
   "outputs": [
    {
     "data": {
      "text/html": [
       "<div>\n",
       "<style scoped>\n",
       "    .dataframe tbody tr th:only-of-type {\n",
       "        vertical-align: middle;\n",
       "    }\n",
       "\n",
       "    .dataframe tbody tr th {\n",
       "        vertical-align: top;\n",
       "    }\n",
       "\n",
       "    .dataframe thead th {\n",
       "        text-align: right;\n",
       "    }\n",
       "</style>\n",
       "<table border=\"1\" class=\"dataframe\">\n",
       "  <thead>\n",
       "    <tr style=\"text-align: right;\">\n",
       "      <th></th>\n",
       "      <th>id</th>\n",
       "      <th>item_id</th>\n",
       "      <th>dept_id</th>\n",
       "      <th>cat_id</th>\n",
       "      <th>store_id</th>\n",
       "      <th>state_id</th>\n",
       "      <th>d</th>\n",
       "      <th>demand</th>\n",
       "      <th>lag_t28</th>\n",
       "      <th>rolling_mean_t7</th>\n",
       "      <th>...</th>\n",
       "      <th>snap_CA</th>\n",
       "      <th>snap_TX</th>\n",
       "      <th>snap_WI</th>\n",
       "      <th>sell_price</th>\n",
       "      <th>sell_price_rel_diff</th>\n",
       "      <th>sell_price_roll_sd2</th>\n",
       "      <th>sell_price_roll_sd4</th>\n",
       "      <th>sell_price_roll_sd7</th>\n",
       "      <th>sell_price_cumrel</th>\n",
       "      <th>F</th>\n",
       "    </tr>\n",
       "  </thead>\n",
       "  <tbody>\n",
       "    <tr>\n",
       "      <th>52015940</th>\n",
       "      <td>HOBBIES_1_001_CA_1_validation</td>\n",
       "      <td>1437</td>\n",
       "      <td>3</td>\n",
       "      <td>1</td>\n",
       "      <td>0</td>\n",
       "      <td>0</td>\n",
       "      <td>1914</td>\n",
       "      <td>NaN</td>\n",
       "      <td>1.0</td>\n",
       "      <td>1.142578</td>\n",
       "      <td>...</td>\n",
       "      <td>0</td>\n",
       "      <td>0</td>\n",
       "      <td>0</td>\n",
       "      <td>8.382812</td>\n",
       "      <td>0.0</td>\n",
       "      <td>0.0</td>\n",
       "      <td>0.059998</td>\n",
       "      <td>0.064148</td>\n",
       "      <td>0.051727</td>\n",
       "      <td>F1</td>\n",
       "    </tr>\n",
       "    <tr>\n",
       "      <th>52015941</th>\n",
       "      <td>HOBBIES_1_002_CA_1_validation</td>\n",
       "      <td>1438</td>\n",
       "      <td>3</td>\n",
       "      <td>1</td>\n",
       "      <td>0</td>\n",
       "      <td>0</td>\n",
       "      <td>1914</td>\n",
       "      <td>NaN</td>\n",
       "      <td>1.0</td>\n",
       "      <td>0.714355</td>\n",
       "      <td>...</td>\n",
       "      <td>0</td>\n",
       "      <td>0</td>\n",
       "      <td>0</td>\n",
       "      <td>3.970703</td>\n",
       "      <td>0.0</td>\n",
       "      <td>0.0</td>\n",
       "      <td>0.000000</td>\n",
       "      <td>0.000000</td>\n",
       "      <td>0.000000</td>\n",
       "      <td>F1</td>\n",
       "    </tr>\n",
       "    <tr>\n",
       "      <th>52015942</th>\n",
       "      <td>HOBBIES_1_003_CA_1_validation</td>\n",
       "      <td>1439</td>\n",
       "      <td>3</td>\n",
       "      <td>1</td>\n",
       "      <td>0</td>\n",
       "      <td>0</td>\n",
       "      <td>1914</td>\n",
       "      <td>NaN</td>\n",
       "      <td>0.0</td>\n",
       "      <td>0.285645</td>\n",
       "      <td>...</td>\n",
       "      <td>0</td>\n",
       "      <td>0</td>\n",
       "      <td>0</td>\n",
       "      <td>2.970703</td>\n",
       "      <td>0.0</td>\n",
       "      <td>0.0</td>\n",
       "      <td>0.000000</td>\n",
       "      <td>0.000000</td>\n",
       "      <td>0.000000</td>\n",
       "      <td>F1</td>\n",
       "    </tr>\n",
       "    <tr>\n",
       "      <th>52015943</th>\n",
       "      <td>HOBBIES_1_004_CA_1_validation</td>\n",
       "      <td>1440</td>\n",
       "      <td>3</td>\n",
       "      <td>1</td>\n",
       "      <td>0</td>\n",
       "      <td>0</td>\n",
       "      <td>1914</td>\n",
       "      <td>NaN</td>\n",
       "      <td>0.0</td>\n",
       "      <td>3.000000</td>\n",
       "      <td>...</td>\n",
       "      <td>0</td>\n",
       "      <td>0</td>\n",
       "      <td>0</td>\n",
       "      <td>4.640625</td>\n",
       "      <td>0.0</td>\n",
       "      <td>0.0</td>\n",
       "      <td>0.000000</td>\n",
       "      <td>0.000000</td>\n",
       "      <td>0.230713</td>\n",
       "      <td>F1</td>\n",
       "    </tr>\n",
       "    <tr>\n",
       "      <th>52015944</th>\n",
       "      <td>HOBBIES_1_005_CA_1_validation</td>\n",
       "      <td>1441</td>\n",
       "      <td>3</td>\n",
       "      <td>1</td>\n",
       "      <td>0</td>\n",
       "      <td>0</td>\n",
       "      <td>1914</td>\n",
       "      <td>NaN</td>\n",
       "      <td>1.0</td>\n",
       "      <td>0.714355</td>\n",
       "      <td>...</td>\n",
       "      <td>0</td>\n",
       "      <td>0</td>\n",
       "      <td>0</td>\n",
       "      <td>2.880859</td>\n",
       "      <td>0.0</td>\n",
       "      <td>0.0</td>\n",
       "      <td>0.000000</td>\n",
       "      <td>0.000000</td>\n",
       "      <td>0.250000</td>\n",
       "      <td>F1</td>\n",
       "    </tr>\n",
       "  </tbody>\n",
       "</table>\n",
       "<p>5 rows × 35 columns</p>\n",
       "</div>"
      ],
      "text/plain": [
       "                                     id  item_id  dept_id  cat_id  store_id  \\\n",
       "52015940  HOBBIES_1_001_CA_1_validation     1437        3       1         0   \n",
       "52015941  HOBBIES_1_002_CA_1_validation     1438        3       1         0   \n",
       "52015942  HOBBIES_1_003_CA_1_validation     1439        3       1         0   \n",
       "52015943  HOBBIES_1_004_CA_1_validation     1440        3       1         0   \n",
       "52015944  HOBBIES_1_005_CA_1_validation     1441        3       1         0   \n",
       "\n",
       "          state_id     d  demand  lag_t28  rolling_mean_t7  ...  snap_CA  \\\n",
       "52015940         0  1914     NaN      1.0         1.142578  ...        0   \n",
       "52015941         0  1914     NaN      1.0         0.714355  ...        0   \n",
       "52015942         0  1914     NaN      0.0         0.285645  ...        0   \n",
       "52015943         0  1914     NaN      0.0         3.000000  ...        0   \n",
       "52015944         0  1914     NaN      1.0         0.714355  ...        0   \n",
       "\n",
       "          snap_TX  snap_WI  sell_price  sell_price_rel_diff  \\\n",
       "52015940        0        0    8.382812                  0.0   \n",
       "52015941        0        0    3.970703                  0.0   \n",
       "52015942        0        0    2.970703                  0.0   \n",
       "52015943        0        0    4.640625                  0.0   \n",
       "52015944        0        0    2.880859                  0.0   \n",
       "\n",
       "          sell_price_roll_sd2  sell_price_roll_sd4  sell_price_roll_sd7  \\\n",
       "52015940                  0.0             0.059998             0.064148   \n",
       "52015941                  0.0             0.000000             0.000000   \n",
       "52015942                  0.0             0.000000             0.000000   \n",
       "52015943                  0.0             0.000000             0.000000   \n",
       "52015944                  0.0             0.000000             0.000000   \n",
       "\n",
       "          sell_price_cumrel   F  \n",
       "52015940           0.051727  F1  \n",
       "52015941           0.000000  F1  \n",
       "52015942           0.000000  F1  \n",
       "52015943           0.230713  F1  \n",
       "52015944           0.250000  F1  \n",
       "\n",
       "[5 rows x 35 columns]"
      ]
     },
     "execution_count": 32,
     "metadata": {},
     "output_type": "execute_result"
    }
   ],
   "source": [
    "test.head()"
   ]
  },
  {
   "cell_type": "markdown",
   "metadata": {},
   "source": [
    "## Полносвязная модель"
   ]
  },
  {
   "cell_type": "markdown",
   "metadata": {},
   "source": [
    "### Создание обучающего набора данных"
   ]
  },
  {
   "cell_type": "code",
   "execution_count": 33,
   "metadata": {
    "ExecuteTime": {
     "end_time": "2020-05-30T15:36:01.078409Z",
     "start_time": "2020-05-30T15:36:01.074419Z"
    }
   },
   "outputs": [],
   "source": [
    "# Подготовка данных\n",
    "# Создание словаря чисел для слоя dense и деление входящих данных на каждый embedding вход\n",
    "def make_X(df):\n",
    "    X = {\"dense1\": df[dense_cols].to_numpy()}\n",
    "    for i, v in enumerate(cat_cols):\n",
    "        X[v] = df[[v]].to_numpy()\n",
    "    return X"
   ]
  },
  {
   "cell_type": "code",
   "execution_count": 34,
   "metadata": {
    "ExecuteTime": {
     "end_time": "2020-05-30T15:36:01.315802Z",
     "start_time": "2020-05-30T15:36:01.079406Z"
    }
   },
   "outputs": [],
   "source": [
    "# Submission data\n",
    "X_test = make_X(test)"
   ]
  },
  {
   "cell_type": "code",
   "execution_count": 35,
   "metadata": {
    "ExecuteTime": {
     "end_time": "2020-05-30T15:36:13.677551Z",
     "start_time": "2020-05-30T15:36:01.332851Z"
    }
   },
   "outputs": [
    {
     "data": {
      "text/plain": [
       "20"
      ]
     },
     "execution_count": 35,
     "metadata": {},
     "output_type": "execute_result"
    }
   ],
   "source": [
    "# Месяц для валидации данных\n",
    "flag = (sales.d < 1914) & (sales.d >= 1914 - 28)\n",
    "valid = (make_X(sales[flag]),\n",
    "         sales[\"demand\"][flag])\n",
    "\n",
    "# Остальное для тренировки\n",
    "flag = sales.d < 1914 - 28\n",
    "X_train = make_X(sales[flag])\n",
    "y_train = sales[\"demand\"][flag]\n",
    "                             \n",
    "del sales, flag\n",
    "gc.collect()"
   ]
  },
  {
   "cell_type": "code",
   "execution_count": 36,
   "metadata": {
    "ExecuteTime": {
     "end_time": "2020-05-30T15:36:14.443616Z",
     "start_time": "2020-05-30T15:36:13.683511Z"
    }
   },
   "outputs": [
    {
     "data": {
      "text/plain": [
       "array([0, 1, 2], dtype=int8)"
      ]
     },
     "execution_count": 36,
     "metadata": {},
     "output_type": "execute_result"
    }
   ],
   "source": [
    "np.unique(X_train[\"state_id\"])"
   ]
  },
  {
   "cell_type": "code",
   "execution_count": 37,
   "metadata": {
    "ExecuteTime": {
     "end_time": "2020-05-30T15:36:14.679409Z",
     "start_time": "2020-05-30T15:36:14.444582Z"
    }
   },
   "outputs": [
    {
     "data": {
      "text/plain": [
       "{'dense1': array([[3.47, 0.  , 0.  , ..., 0.  , 0.  , 0.  ],\n",
       "        [3.97, 0.  , 0.  , ..., 0.  , 0.  , 0.  ],\n",
       "        [3.47, 0.  , 0.  , ..., 0.  , 0.  , 0.  ],\n",
       "        ...,\n",
       "        [3.98, 0.  , 0.  , ..., 0.  , 0.  , 0.  ],\n",
       "        [1.28, 0.  , 0.  , ..., 0.  , 0.  , 0.  ],\n",
       "        [1.  , 0.  , 0.  , ..., 0.  , 0.  , 0.  ]], dtype=float16),\n",
       " 'item_id': array([[1437],\n",
       "        [1438],\n",
       "        [1439],\n",
       "        ...,\n",
       "        [1434],\n",
       "        [1435],\n",
       "        [1436]], dtype=int16),\n",
       " 'dept_id': array([[3],\n",
       "        [3],\n",
       "        [3],\n",
       "        ...,\n",
       "        [2],\n",
       "        [2],\n",
       "        [2]], dtype=int8),\n",
       " 'store_id': array([[0],\n",
       "        [0],\n",
       "        [0],\n",
       "        ...,\n",
       "        [9],\n",
       "        [9],\n",
       "        [9]], dtype=int8),\n",
       " 'cat_id': array([[1],\n",
       "        [1],\n",
       "        [1],\n",
       "        ...,\n",
       "        [0],\n",
       "        [0],\n",
       "        [0]], dtype=int8),\n",
       " 'state_id': array([[0],\n",
       "        [0],\n",
       "        [0],\n",
       "        ...,\n",
       "        [2],\n",
       "        [2],\n",
       "        [2]], dtype=int8),\n",
       " 'wday': array([[4],\n",
       "        [4],\n",
       "        [4],\n",
       "        ...,\n",
       "        [1],\n",
       "        [1],\n",
       "        [1]], dtype=int8),\n",
       " 'month': array([[7],\n",
       "        [7],\n",
       "        [7],\n",
       "        ...,\n",
       "        [2],\n",
       "        [2],\n",
       "        [2]], dtype=int8),\n",
       " 'year': array([[0],\n",
       "        [0],\n",
       "        [0],\n",
       "        ...,\n",
       "        [5],\n",
       "        [5],\n",
       "        [5]], dtype=int8),\n",
       " 'event_name_1': array([[30],\n",
       "        [30],\n",
       "        [30],\n",
       "        ...,\n",
       "        [ 4],\n",
       "        [ 4],\n",
       "        [ 4]], dtype=int8),\n",
       " 'event_type_1': array([[4],\n",
       "        [4],\n",
       "        [4],\n",
       "        ...,\n",
       "        [0],\n",
       "        [0],\n",
       "        [0]], dtype=int8),\n",
       " 'event_name_2': array([[4],\n",
       "        [4],\n",
       "        [4],\n",
       "        ...,\n",
       "        [4],\n",
       "        [4],\n",
       "        [4]], dtype=int8),\n",
       " 'event_type_2': array([[2],\n",
       "        [2],\n",
       "        [2],\n",
       "        ...,\n",
       "        [2],\n",
       "        [2],\n",
       "        [2]], dtype=int8)}"
      ]
     },
     "execution_count": 37,
     "metadata": {},
     "output_type": "execute_result"
    }
   ],
   "source": [
    "X_train"
   ]
  },
  {
   "cell_type": "markdown",
   "metadata": {},
   "source": [
    "### Imports"
   ]
  },
  {
   "cell_type": "code",
   "execution_count": 38,
   "metadata": {
    "ExecuteTime": {
     "end_time": "2020-05-30T15:36:40.572241Z",
     "start_time": "2020-05-30T15:36:15.055869Z"
    }
   },
   "outputs": [],
   "source": [
    "import tensorflow as tf\n",
    "import tensorflow.keras as keras\n",
    "\n",
    "from tensorflow.keras import regularizers\n",
    "from tensorflow.keras.layers import Dense, Input, Embedding, Dropout, concatenate, Flatten, SimpleRNN, Reshape, LSTM\n",
    "from tensorflow.keras.models import Model, Sequential"
   ]
  },
  {
   "cell_type": "markdown",
   "metadata": {},
   "source": [
    "### Архитектура"
   ]
  },
  {
   "cell_type": "code",
   "execution_count": 49,
   "metadata": {
    "ExecuteTime": {
     "end_time": "2020-05-30T17:38:35.472430Z",
     "start_time": "2020-05-30T17:38:35.456444Z"
    }
   },
   "outputs": [],
   "source": [
    "def create_model(lr=0.002):\n",
    "    tf.random.set_seed(173)\n",
    "\n",
    "    tf.keras.backend.clear_session()\n",
    "    gc.collect()\n",
    "\n",
    "    # Ввод числовых данных\n",
    "    dense_input = Input(shape=(len(dense_cols), ), name='dense1')\n",
    "\n",
    "    # Ввод категориальных данных\n",
    "    \n",
    "    wday_input = Input(shape=(1,), name='wday')\n",
    "    month_input = Input(shape=(1,), name='month')\n",
    "    year_input = Input(shape=(1,), name='year')\n",
    "    event_name_1_input = Input(shape=(1,), name='event_name_1')\n",
    "    event_type_1_input = Input(shape=(1,), name='event_type_1')\n",
    "    event_name_2_input = Input(shape=(1,), name='event_name_2')\n",
    "    event_type_2_input = Input(shape=(1,), name='event_type_2')\n",
    "    item_id_input = Input(shape=(1,), name='item_id')\n",
    "    dept_id_input = Input(shape=(1,), name='dept_id')\n",
    "    store_id_input = Input(shape=(1,), name='store_id')\n",
    "    cat_id_input = Input(shape=(1,), name='cat_id')\n",
    "    state_id_input = Input(shape=(1,), name='state_id')\n",
    "\n",
    "    # Обработка категориальных данных слоями Flatten\n",
    "    wday_emb = Flatten()(Embedding(7, 1)(wday_input))\n",
    "    month_emb = Flatten()(Embedding(12, 1)(month_input))\n",
    "    year_emb = Flatten()(Embedding(6, 1)(year_input))\n",
    "    event_name_1_emb = Flatten()(Embedding(31, 1)(event_name_1_input))\n",
    "    event_type_1_emb = Flatten()(Embedding(5, 1)(event_type_1_input))\n",
    "    event_name_2_emb = Flatten()(Embedding(5, 1)(event_name_2_input))\n",
    "    event_type_2_emb = Flatten()(Embedding(5, 1)(event_type_2_input))\n",
    "\n",
    "    item_id_emb = Flatten()(Embedding(3049, 30)(item_id_input))#3\n",
    "    dept_id_emb = Flatten()(Embedding(7, 1)(dept_id_input))\n",
    "    store_id_emb = Flatten()(Embedding(10, 1)(store_id_input))\n",
    "    cat_id_emb = Flatten()(Embedding(3, 1)(cat_id_input))\n",
    "    state_id_emb = Flatten()(Embedding(3, 1)(state_id_input))\n",
    "    \n",
    "    # Совмещение числовых и категориальных частей и добавление полносвязных слоев. На выходе линейная функция активации.\n",
    "    # Combine dense and embedding parts and add dense layers. Exit on linear scale.\n",
    "    x = concatenate([dense_input, wday_emb, month_emb, year_emb, \n",
    "                     event_name_1_emb, event_type_1_emb, \n",
    "                     event_name_2_emb, event_type_2_emb, \n",
    "                     item_id_emb, dept_id_emb, store_id_emb,\n",
    "                     cat_id_emb, state_id_emb])\n",
    "    x = Dense(250, activation=\"tanh\")(x)\n",
    "    x = Dense(150, activation=\"tanh\")(x)\n",
    "    x = Dense(75, activation=\"tanh\")(x)\n",
    "    x = Dense(10, activation=\"tanh\")(x)\n",
    "    outputs = Dense(1, activation=\"linear\", name='output')(x)\n",
    "\n",
    "    inputs = {\"dense1\": dense_input, \"wday\": wday_input, \"month\": month_input, \"year\": year_input, \n",
    "              \"event_name_1\": event_name_1_input, \"event_type_1\": event_type_1_input,\n",
    "              \"event_name_2\": event_name_2_input, \"event_type_2\": event_type_2_input,\n",
    "              \"item_id\": item_id_input, \"dept_id\": dept_id_input, \"store_id\": store_id_input, \n",
    "              \"cat_id\": cat_id_input, \"state_id\": state_id_input}\n",
    "\n",
    "    # Соединение входа и выхода\n",
    "    model = Model(inputs, outputs)\n",
    "\n",
    "    model.compile(loss=keras.losses.mean_squared_error,\n",
    "                  metrics=[tf.keras.metrics.RootMeanSquaredError()],\n",
    "                  optimizer=keras.optimizers.RMSprop(learning_rate=lr))\n",
    "    return model"
   ]
  },
  {
   "cell_type": "code",
   "execution_count": 50,
   "metadata": {
    "ExecuteTime": {
     "end_time": "2020-05-30T17:38:36.759313Z",
     "start_time": "2020-05-30T17:38:36.019297Z"
    }
   },
   "outputs": [
    {
     "name": "stdout",
     "output_type": "stream",
     "text": [
      "Model: \"model\"\n",
      "__________________________________________________________________________________________________\n",
      "Layer (type)                    Output Shape         Param #     Connected to                     \n",
      "==================================================================================================\n",
      "wday (InputLayer)               [(None, 1)]          0                                            \n",
      "__________________________________________________________________________________________________\n",
      "month (InputLayer)              [(None, 1)]          0                                            \n",
      "__________________________________________________________________________________________________\n",
      "year (InputLayer)               [(None, 1)]          0                                            \n",
      "__________________________________________________________________________________________________\n",
      "event_name_1 (InputLayer)       [(None, 1)]          0                                            \n",
      "__________________________________________________________________________________________________\n",
      "event_type_1 (InputLayer)       [(None, 1)]          0                                            \n",
      "__________________________________________________________________________________________________\n",
      "event_name_2 (InputLayer)       [(None, 1)]          0                                            \n",
      "__________________________________________________________________________________________________\n",
      "event_type_2 (InputLayer)       [(None, 1)]          0                                            \n",
      "__________________________________________________________________________________________________\n",
      "item_id (InputLayer)            [(None, 1)]          0                                            \n",
      "__________________________________________________________________________________________________\n",
      "dept_id (InputLayer)            [(None, 1)]          0                                            \n",
      "__________________________________________________________________________________________________\n",
      "store_id (InputLayer)           [(None, 1)]          0                                            \n",
      "__________________________________________________________________________________________________\n",
      "cat_id (InputLayer)             [(None, 1)]          0                                            \n",
      "__________________________________________________________________________________________________\n",
      "state_id (InputLayer)           [(None, 1)]          0                                            \n",
      "__________________________________________________________________________________________________\n",
      "embedding (Embedding)           (None, 1, 1)         7           wday[0][0]                       \n",
      "__________________________________________________________________________________________________\n",
      "embedding_1 (Embedding)         (None, 1, 1)         12          month[0][0]                      \n",
      "__________________________________________________________________________________________________\n",
      "embedding_2 (Embedding)         (None, 1, 1)         6           year[0][0]                       \n",
      "__________________________________________________________________________________________________\n",
      "embedding_3 (Embedding)         (None, 1, 1)         31          event_name_1[0][0]               \n",
      "__________________________________________________________________________________________________\n",
      "embedding_4 (Embedding)         (None, 1, 1)         5           event_type_1[0][0]               \n",
      "__________________________________________________________________________________________________\n",
      "embedding_5 (Embedding)         (None, 1, 1)         5           event_name_2[0][0]               \n",
      "__________________________________________________________________________________________________\n",
      "embedding_6 (Embedding)         (None, 1, 1)         5           event_type_2[0][0]               \n",
      "__________________________________________________________________________________________________\n",
      "embedding_7 (Embedding)         (None, 1, 30)        91470       item_id[0][0]                    \n",
      "__________________________________________________________________________________________________\n",
      "embedding_8 (Embedding)         (None, 1, 1)         7           dept_id[0][0]                    \n",
      "__________________________________________________________________________________________________\n",
      "embedding_9 (Embedding)         (None, 1, 1)         10          store_id[0][0]                   \n",
      "__________________________________________________________________________________________________\n",
      "embedding_10 (Embedding)        (None, 1, 1)         3           cat_id[0][0]                     \n",
      "__________________________________________________________________________________________________\n",
      "embedding_11 (Embedding)        (None, 1, 1)         3           state_id[0][0]                   \n",
      "__________________________________________________________________________________________________\n",
      "dense1 (InputLayer)             [(None, 19)]         0                                            \n",
      "__________________________________________________________________________________________________\n",
      "flatten (Flatten)               (None, 1)            0           embedding[0][0]                  \n",
      "__________________________________________________________________________________________________\n",
      "flatten_1 (Flatten)             (None, 1)            0           embedding_1[0][0]                \n",
      "__________________________________________________________________________________________________\n",
      "flatten_2 (Flatten)             (None, 1)            0           embedding_2[0][0]                \n",
      "__________________________________________________________________________________________________\n",
      "flatten_3 (Flatten)             (None, 1)            0           embedding_3[0][0]                \n",
      "__________________________________________________________________________________________________\n",
      "flatten_4 (Flatten)             (None, 1)            0           embedding_4[0][0]                \n",
      "__________________________________________________________________________________________________\n",
      "flatten_5 (Flatten)             (None, 1)            0           embedding_5[0][0]                \n",
      "__________________________________________________________________________________________________\n",
      "flatten_6 (Flatten)             (None, 1)            0           embedding_6[0][0]                \n",
      "__________________________________________________________________________________________________\n",
      "flatten_7 (Flatten)             (None, 30)           0           embedding_7[0][0]                \n",
      "__________________________________________________________________________________________________\n",
      "flatten_8 (Flatten)             (None, 1)            0           embedding_8[0][0]                \n",
      "__________________________________________________________________________________________________\n",
      "flatten_9 (Flatten)             (None, 1)            0           embedding_9[0][0]                \n",
      "__________________________________________________________________________________________________\n",
      "flatten_10 (Flatten)            (None, 1)            0           embedding_10[0][0]               \n",
      "__________________________________________________________________________________________________\n",
      "flatten_11 (Flatten)            (None, 1)            0           embedding_11[0][0]               \n",
      "__________________________________________________________________________________________________\n",
      "concatenate (Concatenate)       (None, 60)           0           dense1[0][0]                     \n",
      "                                                                 flatten[0][0]                    \n",
      "                                                                 flatten_1[0][0]                  \n",
      "                                                                 flatten_2[0][0]                  \n",
      "                                                                 flatten_3[0][0]                  \n",
      "                                                                 flatten_4[0][0]                  \n",
      "                                                                 flatten_5[0][0]                  \n",
      "                                                                 flatten_6[0][0]                  \n",
      "                                                                 flatten_7[0][0]                  \n",
      "                                                                 flatten_8[0][0]                  \n",
      "                                                                 flatten_9[0][0]                  \n",
      "                                                                 flatten_10[0][0]                 \n",
      "                                                                 flatten_11[0][0]                 \n",
      "__________________________________________________________________________________________________\n",
      "dense (Dense)                   (None, 250)          15250       concatenate[0][0]                \n",
      "__________________________________________________________________________________________________\n",
      "dense_1 (Dense)                 (None, 150)          37650       dense[0][0]                      \n",
      "__________________________________________________________________________________________________\n",
      "dense_2 (Dense)                 (None, 75)           11325       dense_1[0][0]                    \n",
      "__________________________________________________________________________________________________\n",
      "dense_3 (Dense)                 (None, 10)           760         dense_2[0][0]                    \n",
      "__________________________________________________________________________________________________\n",
      "output (Dense)                  (None, 1)            11          dense_3[0][0]                    \n",
      "==================================================================================================\n",
      "Total params: 156,560\n",
      "Trainable params: 156,560\n",
      "Non-trainable params: 0\n",
      "__________________________________________________________________________________________________\n"
     ]
    },
    {
     "data": {
      "image/png": "[encoded data removed]",
      "text/plain": [
       "<IPython.core.display.Image object>"
      ]
     },
     "execution_count": 50,
     "metadata": {},
     "output_type": "execute_result"
    }
   ],
   "source": [
    "model = create_model(0.0002)\n",
    "model.summary()\n",
    "keras.utils.plot_model(model, 'model.png', show_shapes=True)"
   ]
  },
  {
   "cell_type": "markdown",
   "metadata": {},
   "source": [
    "### Обучение модели"
   ]
  },
  {
   "cell_type": "code",
   "execution_count": 51,
   "metadata": {
    "ExecuteTime": {
     "end_time": "2020-05-30T18:02:04.303291Z",
     "start_time": "2020-05-30T17:38:37.850816Z"
    },
    "scrolled": true
   },
   "outputs": [
    {
     "name": "stdout",
     "output_type": "stream",
     "text": [
      "Train on 51162220 samples, validate on 853720 samples\n",
      "Epoch 1/30\n",
      "51162220/51162220 [==============================] - 51s 1us/sample - loss: 10.5905 - root_mean_squared_error: 3.2543 - val_loss: 6.9148 - val_root_mean_squared_error: 2.6296\n",
      "Epoch 2/30\n",
      "51162220/51162220 [==============================] - 47s 1us/sample - loss: 8.5006 - root_mean_squared_error: 2.9156 - val_loss: 5.9625 - val_root_mean_squared_error: 2.4418\n",
      "Epoch 3/30\n",
      "51162220/51162220 [==============================] - 47s 1us/sample - loss: 7.7436 - root_mean_squared_error: 2.7827 - val_loss: 5.5756 - val_root_mean_squared_error: 2.3613\n",
      "Epoch 4/30\n",
      "51162220/51162220 [==============================] - 47s 1us/sample - loss: 7.3463 - root_mean_squared_error: 2.7104 - val_loss: 5.3412 - val_root_mean_squared_error: 2.3111\n",
      "Epoch 5/30\n",
      "51162220/51162220 [==============================] - 47s 1us/sample - loss: 7.0754 - root_mean_squared_error: 2.6600 - val_loss: 5.2272 - val_root_mean_squared_error: 2.2863\n",
      "Epoch 6/30\n",
      "51162220/51162220 [==============================] - 47s 1us/sample - loss: 6.8652 - root_mean_squared_error: 2.6201 - val_loss: 5.1723 - val_root_mean_squared_error: 2.2743\n",
      "Epoch 7/30\n",
      "51162220/51162220 [==============================] - 47s 1us/sample - loss: 6.6956 - root_mean_squared_error: 2.5876 - val_loss: 5.0420 - val_root_mean_squared_error: 2.2454\n",
      "Epoch 8/30\n",
      "51162220/51162220 [==============================] - 47s 1us/sample - loss: 6.5610 - root_mean_squared_error: 2.5614 - val_loss: 4.9746 - val_root_mean_squared_error: 2.2304\n",
      "Epoch 9/30\n",
      "51162220/51162220 [==============================] - 47s 1us/sample - loss: 6.4456 - root_mean_squared_error: 2.5388 - val_loss: 4.9246 - val_root_mean_squared_error: 2.2191\n",
      "Epoch 10/30\n",
      "51162220/51162220 [==============================] - 47s 1us/sample - loss: 6.3470 - root_mean_squared_error: 2.5193 - val_loss: 5.1923 - val_root_mean_squared_error: 2.2787\n",
      "Epoch 11/30\n",
      "51162220/51162220 [==============================] - 47s 1us/sample - loss: 6.2605 - root_mean_squared_error: 2.5021 - val_loss: 4.8682 - val_root_mean_squared_error: 2.2064\n",
      "Epoch 12/30\n",
      "51162220/51162220 [==============================] - 47s 1us/sample - loss: 6.1862 - root_mean_squared_error: 2.4872 - val_loss: 4.8387 - val_root_mean_squared_error: 2.1997\n",
      "Epoch 13/30\n",
      "51162220/51162220 [==============================] - 47s 1us/sample - loss: 6.1152 - root_mean_squared_error: 2.4729 - val_loss: 4.7632 - val_root_mean_squared_error: 2.1825\n",
      "Epoch 14/30\n",
      "51162220/51162220 [==============================] - 47s 1us/sample - loss: 6.0534 - root_mean_squared_error: 2.4604 - val_loss: 4.7553 - val_root_mean_squared_error: 2.1807\n",
      "Epoch 15/30\n",
      "51162220/51162220 [==============================] - 47s 1us/sample - loss: 5.9935 - root_mean_squared_error: 2.4482 - val_loss: 4.8376 - val_root_mean_squared_error: 2.1995\n",
      "Epoch 16/30\n",
      "51162220/51162220 [==============================] - 47s 1us/sample - loss: 5.9421 - root_mean_squared_error: 2.4376 - val_loss: 4.7480 - val_root_mean_squared_error: 2.1790\n",
      "Epoch 17/30\n",
      "51162220/51162220 [==============================] - 47s 1us/sample - loss: 5.8901 - root_mean_squared_error: 2.4270 - val_loss: 4.8147 - val_root_mean_squared_error: 2.1942\n",
      "Epoch 18/30\n",
      "51162220/51162220 [==============================] - 47s 1us/sample - loss: 5.8477 - root_mean_squared_error: 2.4182 - val_loss: 4.8380 - val_root_mean_squared_error: 2.1995\n",
      "Epoch 19/30\n",
      "51162220/51162220 [==============================] - 47s 1us/sample - loss: 5.8039 - root_mean_squared_error: 2.4091 - val_loss: 4.7336 - val_root_mean_squared_error: 2.1757\n",
      "Epoch 20/30\n",
      "51162220/51162220 [==============================] - 47s 1us/sample - loss: 5.7605 - root_mean_squared_error: 2.4001 - val_loss: 4.6869 - val_root_mean_squared_error: 2.1649\n",
      "Epoch 21/30\n",
      "51162220/51162220 [==============================] - 47s 1us/sample - loss: 5.7233 - root_mean_squared_error: 2.3923 - val_loss: 4.8945 - val_root_mean_squared_error: 2.2123\n",
      "Epoch 22/30\n",
      "51162220/51162220 [==============================] - 47s 1us/sample - loss: 5.6838 - root_mean_squared_error: 2.3841 - val_loss: 4.6691 - val_root_mean_squared_error: 2.1608\n",
      "Epoch 23/30\n",
      "51162220/51162220 [==============================] - 47s 1us/sample - loss: 5.6502 - root_mean_squared_error: 2.3770 - val_loss: 4.6909 - val_root_mean_squared_error: 2.1658\n",
      "Epoch 24/30\n",
      "51162220/51162220 [==============================] - 47s 1us/sample - loss: 5.6160 - root_mean_squared_error: 2.3698 - val_loss: 4.7854 - val_root_mean_squared_error: 2.1876\n",
      "Epoch 25/30\n",
      "51162220/51162220 [==============================] - 47s 1us/sample - loss: 5.5801 - root_mean_squared_error: 2.3622 - val_loss: 4.6993 - val_root_mean_squared_error: 2.1678\n",
      "Epoch 26/30\n",
      "51162220/51162220 [==============================] - 46s 1us/sample - loss: 5.5509 - root_mean_squared_error: 2.3560 - val_loss: 4.7558 - val_root_mean_squared_error: 2.1808\n",
      "Epoch 27/30\n",
      "51162220/51162220 [==============================] - 47s 1us/sample - loss: 5.5218 - root_mean_squared_error: 2.3498 - val_loss: 4.8307 - val_root_mean_squared_error: 2.1979\n",
      "Epoch 28/30\n",
      "51162220/51162220 [==============================] - 47s 1us/sample - loss: 5.4904 - root_mean_squared_error: 2.3432 - val_loss: 4.7394 - val_root_mean_squared_error: 2.1770\n",
      "Epoch 29/30\n",
      "51162220/51162220 [==============================] - 47s 1us/sample - loss: 5.4633 - root_mean_squared_error: 2.3374 - val_loss: 4.6941 - val_root_mean_squared_error: 2.1666\n",
      "Epoch 30/30\n",
      "51162220/51162220 [==============================] - 47s 1us/sample - loss: 5.4357 - root_mean_squared_error: 2.3315 - val_loss: 4.7517 - val_root_mean_squared_error: 2.1799\n"
     ]
    }
   ],
   "source": [
    "history = model.fit(X_train, \n",
    "                    y_train,\n",
    "                    batch_size=10000,\n",
    "                    epochs=30,\n",
    "                    shuffle=True,\n",
    "                    validation_data=valid)"
   ]
  },
  {
   "cell_type": "markdown",
   "metadata": {},
   "source": [
    "#### Построение графика метрики по эпохам"
   ]
  },
  {
   "cell_type": "code",
   "execution_count": 52,
   "metadata": {
    "ExecuteTime": {
     "end_time": "2020-05-30T18:02:04.410976Z",
     "start_time": "2020-05-30T18:02:04.304261Z"
    }
   },
   "outputs": [
    {
     "data": {
      "image/png": "[encoded data removed]",
      "text/plain": [
       "<Figure size 432x288 with 1 Axes>"
      ]
     },
     "metadata": {
      "needs_background": "light"
     },
     "output_type": "display_data"
    }
   ],
   "source": [
    "plt.plot(history.history['loss'])\n",
    "plt.plot(history.history['val_loss'])\n",
    "plt.title('model loss')\n",
    "plt.ylabel('loss')\n",
    "plt.xlabel('epoch')\n",
    "plt.legend(['train', 'valid'], loc='upper left')\n",
    "plt.show()"
   ]
  },
  {
   "cell_type": "code",
   "execution_count": 53,
   "metadata": {
    "ExecuteTime": {
     "end_time": "2020-05-30T18:02:04.416991Z",
     "start_time": "2020-05-30T18:02:04.411995Z"
    }
   },
   "outputs": [
    {
     "data": {
      "text/plain": [
       "[6.914766116424447,\n",
       " 5.962462244488242,\n",
       " 5.575572080164903,\n",
       " 5.341237819078059,\n",
       " 5.227183146356771,\n",
       " 5.172347422387413,\n",
       " 5.042025266142508,\n",
       " 4.974564893664714,\n",
       " 4.9245596531209035,\n",
       " 5.192341346121413,\n",
       " 4.868160625264375,\n",
       " 4.838733736925707,\n",
       " 4.7632458970165015,\n",
       " 4.755258793762283,\n",
       " 4.837600621344675,\n",
       " 4.748036683334639,\n",
       " 4.814702447160128,\n",
       " 4.837956787200171,\n",
       " 4.733646276824584,\n",
       " 4.686917920884066,\n",
       " 4.894472323780804,\n",
       " 4.669099434343792,\n",
       " 4.690899707292129,\n",
       " 4.785411659580851,\n",
       " 4.699259619410547,\n",
       " 4.755810169417828,\n",
       " 4.830732635083744,\n",
       " 4.7394166431526195,\n",
       " 4.694086893202578,\n",
       " 4.751746862913113]"
      ]
     },
     "execution_count": 53,
     "metadata": {},
     "output_type": "execute_result"
    }
   ],
   "source": [
    "history.history[\"val_loss\"]"
   ]
  },
  {
   "cell_type": "code",
   "execution_count": 54,
   "metadata": {
    "ExecuteTime": {
     "end_time": "2020-05-30T18:02:04.505822Z",
     "start_time": "2020-05-30T18:02:04.417956Z"
    }
   },
   "outputs": [],
   "source": [
    "model.save('model4.h5')"
   ]
  },
  {
   "cell_type": "markdown",
   "metadata": {},
   "source": [
    "### Submission"
   ]
  },
  {
   "cell_type": "code",
   "execution_count": 55,
   "metadata": {
    "ExecuteTime": {
     "end_time": "2020-05-30T18:02:05.267080Z",
     "start_time": "2020-05-30T18:02:04.506796Z"
    }
   },
   "outputs": [],
   "source": [
    "pred = model.predict(X_test, batch_size=10000)"
   ]
  },
  {
   "cell_type": "code",
   "execution_count": 56,
   "metadata": {
    "ExecuteTime": {
     "end_time": "2020-05-30T18:02:06.255441Z",
     "start_time": "2020-05-30T18:02:05.268053Z"
    }
   },
   "outputs": [
    {
     "data": {
      "text/html": [
       "<div>\n",
       "<style scoped>\n",
       "    .dataframe tbody tr th:only-of-type {\n",
       "        vertical-align: middle;\n",
       "    }\n",
       "\n",
       "    .dataframe tbody tr th {\n",
       "        vertical-align: top;\n",
       "    }\n",
       "\n",
       "    .dataframe thead th {\n",
       "        text-align: right;\n",
       "    }\n",
       "</style>\n",
       "<table border=\"1\" class=\"dataframe\">\n",
       "  <thead>\n",
       "    <tr style=\"text-align: right;\">\n",
       "      <th></th>\n",
       "      <th>id</th>\n",
       "      <th>F1</th>\n",
       "      <th>F2</th>\n",
       "      <th>F3</th>\n",
       "      <th>F4</th>\n",
       "      <th>F5</th>\n",
       "      <th>F6</th>\n",
       "      <th>F7</th>\n",
       "      <th>F8</th>\n",
       "      <th>F9</th>\n",
       "      <th>...</th>\n",
       "      <th>F19</th>\n",
       "      <th>F20</th>\n",
       "      <th>F21</th>\n",
       "      <th>F22</th>\n",
       "      <th>F23</th>\n",
       "      <th>F24</th>\n",
       "      <th>F25</th>\n",
       "      <th>F26</th>\n",
       "      <th>F27</th>\n",
       "      <th>F28</th>\n",
       "    </tr>\n",
       "  </thead>\n",
       "  <tbody>\n",
       "    <tr>\n",
       "      <th>0</th>\n",
       "      <td>HOBBIES_1_001_CA_1_validation</td>\n",
       "      <td>0.940343</td>\n",
       "      <td>0.866247</td>\n",
       "      <td>0.850177</td>\n",
       "      <td>0.853508</td>\n",
       "      <td>0.904059</td>\n",
       "      <td>1.021441</td>\n",
       "      <td>0.984151</td>\n",
       "      <td>0.820854</td>\n",
       "      <td>0.834902</td>\n",
       "      <td>...</td>\n",
       "      <td>0.993174</td>\n",
       "      <td>1.241599</td>\n",
       "      <td>1.167244</td>\n",
       "      <td>0.946512</td>\n",
       "      <td>0.861797</td>\n",
       "      <td>0.834385</td>\n",
       "      <td>0.893410</td>\n",
       "      <td>0.978101</td>\n",
       "      <td>1.148383</td>\n",
       "      <td>1.156401</td>\n",
       "    </tr>\n",
       "    <tr>\n",
       "      <th>1</th>\n",
       "      <td>HOBBIES_1_002_CA_1_validation</td>\n",
       "      <td>0.281572</td>\n",
       "      <td>0.250094</td>\n",
       "      <td>0.244885</td>\n",
       "      <td>0.243206</td>\n",
       "      <td>0.282912</td>\n",
       "      <td>0.372899</td>\n",
       "      <td>0.451553</td>\n",
       "      <td>0.283067</td>\n",
       "      <td>0.279069</td>\n",
       "      <td>...</td>\n",
       "      <td>0.216229</td>\n",
       "      <td>0.273852</td>\n",
       "      <td>0.306755</td>\n",
       "      <td>0.171070</td>\n",
       "      <td>0.155530</td>\n",
       "      <td>0.178936</td>\n",
       "      <td>0.173444</td>\n",
       "      <td>0.199753</td>\n",
       "      <td>0.271111</td>\n",
       "      <td>0.267814</td>\n",
       "    </tr>\n",
       "    <tr>\n",
       "      <th>2</th>\n",
       "      <td>HOBBIES_1_003_CA_1_validation</td>\n",
       "      <td>0.420757</td>\n",
       "      <td>0.390187</td>\n",
       "      <td>0.382231</td>\n",
       "      <td>0.389161</td>\n",
       "      <td>0.413445</td>\n",
       "      <td>0.359908</td>\n",
       "      <td>0.519814</td>\n",
       "      <td>0.327101</td>\n",
       "      <td>0.283196</td>\n",
       "      <td>...</td>\n",
       "      <td>0.477937</td>\n",
       "      <td>0.590336</td>\n",
       "      <td>0.746363</td>\n",
       "      <td>0.513286</td>\n",
       "      <td>0.510828</td>\n",
       "      <td>0.524019</td>\n",
       "      <td>0.499240</td>\n",
       "      <td>0.606767</td>\n",
       "      <td>0.778480</td>\n",
       "      <td>0.811772</td>\n",
       "    </tr>\n",
       "    <tr>\n",
       "      <th>3</th>\n",
       "      <td>HOBBIES_1_004_CA_1_validation</td>\n",
       "      <td>2.069252</td>\n",
       "      <td>1.861792</td>\n",
       "      <td>1.805990</td>\n",
       "      <td>1.835059</td>\n",
       "      <td>2.391312</td>\n",
       "      <td>3.025042</td>\n",
       "      <td>2.912126</td>\n",
       "      <td>1.984019</td>\n",
       "      <td>1.943749</td>\n",
       "      <td>...</td>\n",
       "      <td>2.264511</td>\n",
       "      <td>2.743743</td>\n",
       "      <td>3.187917</td>\n",
       "      <td>2.167789</td>\n",
       "      <td>1.829611</td>\n",
       "      <td>1.725821</td>\n",
       "      <td>1.794117</td>\n",
       "      <td>2.337952</td>\n",
       "      <td>3.384286</td>\n",
       "      <td>3.061347</td>\n",
       "    </tr>\n",
       "    <tr>\n",
       "      <th>4</th>\n",
       "      <td>HOBBIES_1_005_CA_1_validation</td>\n",
       "      <td>1.023224</td>\n",
       "      <td>0.895671</td>\n",
       "      <td>1.031814</td>\n",
       "      <td>1.178790</td>\n",
       "      <td>1.181890</td>\n",
       "      <td>1.461908</td>\n",
       "      <td>1.591926</td>\n",
       "      <td>1.222620</td>\n",
       "      <td>1.181811</td>\n",
       "      <td>...</td>\n",
       "      <td>1.214449</td>\n",
       "      <td>1.402374</td>\n",
       "      <td>1.380444</td>\n",
       "      <td>0.991997</td>\n",
       "      <td>0.936441</td>\n",
       "      <td>0.927773</td>\n",
       "      <td>1.008435</td>\n",
       "      <td>1.204637</td>\n",
       "      <td>1.485774</td>\n",
       "      <td>1.707962</td>\n",
       "    </tr>\n",
       "  </tbody>\n",
       "</table>\n",
       "<p>5 rows × 29 columns</p>\n",
       "</div>"
      ],
      "text/plain": [
       "                              id        F1        F2        F3        F4  \\\n",
       "0  HOBBIES_1_001_CA_1_validation  0.940343  0.866247  0.850177  0.853508   \n",
       "1  HOBBIES_1_002_CA_1_validation  0.281572  0.250094  0.244885  0.243206   \n",
       "2  HOBBIES_1_003_CA_1_validation  0.420757  0.390187  0.382231  0.389161   \n",
       "3  HOBBIES_1_004_CA_1_validation  2.069252  1.861792  1.805990  1.835059   \n",
       "4  HOBBIES_1_005_CA_1_validation  1.023224  0.895671  1.031814  1.178790   \n",
       "\n",
       "         F5        F6        F7        F8        F9  ...       F19       F20  \\\n",
       "0  0.904059  1.021441  0.984151  0.820854  0.834902  ...  0.993174  1.241599   \n",
       "1  0.282912  0.372899  0.451553  0.283067  0.279069  ...  0.216229  0.273852   \n",
       "2  0.413445  0.359908  0.519814  0.327101  0.283196  ...  0.477937  0.590336   \n",
       "3  2.391312  3.025042  2.912126  1.984019  1.943749  ...  2.264511  2.743743   \n",
       "4  1.181890  1.461908  1.591926  1.222620  1.181811  ...  1.214449  1.402374   \n",
       "\n",
       "        F21       F22       F23       F24       F25       F26       F27  \\\n",
       "0  1.167244  0.946512  0.861797  0.834385  0.893410  0.978101  1.148383   \n",
       "1  0.306755  0.171070  0.155530  0.178936  0.173444  0.199753  0.271111   \n",
       "2  0.746363  0.513286  0.510828  0.524019  0.499240  0.606767  0.778480   \n",
       "3  3.187917  2.167789  1.829611  1.725821  1.794117  2.337952  3.384286   \n",
       "4  1.380444  0.991997  0.936441  0.927773  1.008435  1.204637  1.485774   \n",
       "\n",
       "        F28  \n",
       "0  1.156401  \n",
       "1  0.267814  \n",
       "2  0.811772  \n",
       "3  3.061347  \n",
       "4  1.707962  \n",
       "\n",
       "[5 rows x 29 columns]"
      ]
     },
     "execution_count": 56,
     "metadata": {},
     "output_type": "execute_result"
    }
   ],
   "source": [
    "test[\"demand\"] = pred.clip(0)\n",
    "submission = test.pivot(index=\"id\", columns=\"F\", values=\"demand\").reset_index()[sample_submission.columns]\n",
    "submission = sample_submission[[\"id\"]].merge(submission, how=\"left\", on=\"id\")\n",
    "submission.head()"
   ]
  },
  {
   "cell_type": "code",
   "execution_count": 57,
   "metadata": {
    "ExecuteTime": {
     "end_time": "2020-05-30T18:02:06.274362Z",
     "start_time": "2020-05-30T18:02:06.256411Z"
    }
   },
   "outputs": [
    {
     "data": {
      "text/html": [
       "<div>\n",
       "<style scoped>\n",
       "    .dataframe tbody tr th:only-of-type {\n",
       "        vertical-align: middle;\n",
       "    }\n",
       "\n",
       "    .dataframe tbody tr th {\n",
       "        vertical-align: top;\n",
       "    }\n",
       "\n",
       "    .dataframe thead th {\n",
       "        text-align: right;\n",
       "    }\n",
       "</style>\n",
       "<table border=\"1\" class=\"dataframe\">\n",
       "  <thead>\n",
       "    <tr style=\"text-align: right;\">\n",
       "      <th></th>\n",
       "      <th>id</th>\n",
       "      <th>F1</th>\n",
       "      <th>F2</th>\n",
       "      <th>F3</th>\n",
       "      <th>F4</th>\n",
       "      <th>F5</th>\n",
       "      <th>F6</th>\n",
       "      <th>F7</th>\n",
       "      <th>F8</th>\n",
       "      <th>F9</th>\n",
       "      <th>...</th>\n",
       "      <th>F19</th>\n",
       "      <th>F20</th>\n",
       "      <th>F21</th>\n",
       "      <th>F22</th>\n",
       "      <th>F23</th>\n",
       "      <th>F24</th>\n",
       "      <th>F25</th>\n",
       "      <th>F26</th>\n",
       "      <th>F27</th>\n",
       "      <th>F28</th>\n",
       "    </tr>\n",
       "  </thead>\n",
       "  <tbody>\n",
       "    <tr>\n",
       "      <th>16857</th>\n",
       "      <td>FOODS_1_001_TX_2_validation</td>\n",
       "      <td>0.506525</td>\n",
       "      <td>0.466773</td>\n",
       "      <td>0.459717</td>\n",
       "      <td>0.502338</td>\n",
       "      <td>0.514476</td>\n",
       "      <td>0.563355</td>\n",
       "      <td>0.581438</td>\n",
       "      <td>0.492935</td>\n",
       "      <td>0.486249</td>\n",
       "      <td>...</td>\n",
       "      <td>0.575338</td>\n",
       "      <td>0.58327</td>\n",
       "      <td>0.633677</td>\n",
       "      <td>0.490129</td>\n",
       "      <td>0.457022</td>\n",
       "      <td>0.448328</td>\n",
       "      <td>0.44629</td>\n",
       "      <td>0.467564</td>\n",
       "      <td>0.570109</td>\n",
       "      <td>0.544013</td>\n",
       "    </tr>\n",
       "  </tbody>\n",
       "</table>\n",
       "<p>1 rows × 29 columns</p>\n",
       "</div>"
      ],
      "text/plain": [
       "                                id        F1        F2        F3        F4  \\\n",
       "16857  FOODS_1_001_TX_2_validation  0.506525  0.466773  0.459717  0.502338   \n",
       "\n",
       "             F5        F6        F7        F8        F9  ...       F19  \\\n",
       "16857  0.514476  0.563355  0.581438  0.492935  0.486249  ...  0.575338   \n",
       "\n",
       "           F20       F21       F22       F23       F24      F25       F26  \\\n",
       "16857  0.58327  0.633677  0.490129  0.457022  0.448328  0.44629  0.467564   \n",
       "\n",
       "            F27       F28  \n",
       "16857  0.570109  0.544013  \n",
       "\n",
       "[1 rows x 29 columns]"
      ]
     },
     "execution_count": 57,
     "metadata": {},
     "output_type": "execute_result"
    }
   ],
   "source": [
    "submission[sample_submission.id==\"FOODS_1_001_TX_2_validation\"].head()"
   ]
  },
  {
   "cell_type": "code",
   "execution_count": 58,
   "metadata": {
    "ExecuteTime": {
     "end_time": "2020-05-30T18:02:07.889679Z",
     "start_time": "2020-05-30T18:02:06.275360Z"
    }
   },
   "outputs": [],
   "source": [
    "submission.to_csv(\"submission.csv\", index=False)"
   ]
  },
  {
   "cell_type": "markdown",
   "metadata": {},
   "source": [
    "## RNN"
   ]
  },
  {
   "cell_type": "markdown",
   "metadata": {},
   "source": [
    "Пример реализации RNN хорошо описан на [Хабре](https://habr.com/ru/post/495884/)"
   ]
  },
  {
   "cell_type": "markdown",
   "metadata": {},
   "source": [
    "В данном разделе пробовал сделать рекурентную нейронную сеть для решения данной задачи. Работать с преобразованными данными стало сложнее, полноценно реализовать не получилось."
   ]
  },
  {
   "cell_type": "code",
   "execution_count": 33,
   "metadata": {
    "ExecuteTime": {
     "end_time": "2020-05-25T17:13:48.266540Z",
     "start_time": "2020-05-25T17:13:48.249585Z"
    }
   },
   "outputs": [
    {
     "data": {
      "text/html": [
       "<div>\n",
       "<style scoped>\n",
       "    .dataframe tbody tr th:only-of-type {\n",
       "        vertical-align: middle;\n",
       "    }\n",
       "\n",
       "    .dataframe tbody tr th {\n",
       "        vertical-align: top;\n",
       "    }\n",
       "\n",
       "    .dataframe thead th {\n",
       "        text-align: right;\n",
       "    }\n",
       "</style>\n",
       "<table border=\"1\" class=\"dataframe\">\n",
       "  <thead>\n",
       "    <tr style=\"text-align: right;\">\n",
       "      <th></th>\n",
       "      <th>id</th>\n",
       "      <th>item_id</th>\n",
       "      <th>dept_id</th>\n",
       "      <th>cat_id</th>\n",
       "      <th>store_id</th>\n",
       "      <th>state_id</th>\n",
       "      <th>d</th>\n",
       "      <th>demand</th>\n",
       "      <th>lag_t28</th>\n",
       "      <th>rolling_mean_t7</th>\n",
       "      <th>...</th>\n",
       "      <th>event_type_2</th>\n",
       "      <th>snap_CA</th>\n",
       "      <th>snap_TX</th>\n",
       "      <th>snap_WI</th>\n",
       "      <th>sell_price</th>\n",
       "      <th>sell_price_rel_diff</th>\n",
       "      <th>sell_price_roll_sd2</th>\n",
       "      <th>sell_price_roll_sd4</th>\n",
       "      <th>sell_price_roll_sd7</th>\n",
       "      <th>sell_price_cumrel</th>\n",
       "    </tr>\n",
       "  </thead>\n",
       "  <tbody>\n",
       "    <tr>\n",
       "      <th>0</th>\n",
       "      <td>HOBBIES_1_001_CA_1</td>\n",
       "      <td>1437</td>\n",
       "      <td>3</td>\n",
       "      <td>1</td>\n",
       "      <td>0</td>\n",
       "      <td>0</td>\n",
       "      <td>1608</td>\n",
       "      <td>1.0</td>\n",
       "      <td>0.0</td>\n",
       "      <td>0.000000</td>\n",
       "      <td>...</td>\n",
       "      <td>2</td>\n",
       "      <td>0</td>\n",
       "      <td>0</td>\n",
       "      <td>0</td>\n",
       "      <td>8.257812</td>\n",
       "      <td>0.0</td>\n",
       "      <td>0.0</td>\n",
       "      <td>0.0</td>\n",
       "      <td>0.0</td>\n",
       "      <td>0.000000</td>\n",
       "    </tr>\n",
       "    <tr>\n",
       "      <th>1</th>\n",
       "      <td>HOBBIES_1_002_CA_1</td>\n",
       "      <td>1438</td>\n",
       "      <td>3</td>\n",
       "      <td>1</td>\n",
       "      <td>0</td>\n",
       "      <td>0</td>\n",
       "      <td>1608</td>\n",
       "      <td>0.0</td>\n",
       "      <td>0.0</td>\n",
       "      <td>0.285645</td>\n",
       "      <td>...</td>\n",
       "      <td>2</td>\n",
       "      <td>0</td>\n",
       "      <td>0</td>\n",
       "      <td>0</td>\n",
       "      <td>3.970703</td>\n",
       "      <td>0.0</td>\n",
       "      <td>0.0</td>\n",
       "      <td>0.0</td>\n",
       "      <td>0.0</td>\n",
       "      <td>0.000000</td>\n",
       "    </tr>\n",
       "    <tr>\n",
       "      <th>2</th>\n",
       "      <td>HOBBIES_1_003_CA_1</td>\n",
       "      <td>1439</td>\n",
       "      <td>3</td>\n",
       "      <td>1</td>\n",
       "      <td>0</td>\n",
       "      <td>0</td>\n",
       "      <td>1608</td>\n",
       "      <td>0.0</td>\n",
       "      <td>1.0</td>\n",
       "      <td>0.571289</td>\n",
       "      <td>...</td>\n",
       "      <td>2</td>\n",
       "      <td>0</td>\n",
       "      <td>0</td>\n",
       "      <td>0</td>\n",
       "      <td>2.970703</td>\n",
       "      <td>0.0</td>\n",
       "      <td>0.0</td>\n",
       "      <td>0.0</td>\n",
       "      <td>0.0</td>\n",
       "      <td>0.000000</td>\n",
       "    </tr>\n",
       "    <tr>\n",
       "      <th>3</th>\n",
       "      <td>HOBBIES_1_004_CA_1</td>\n",
       "      <td>1440</td>\n",
       "      <td>3</td>\n",
       "      <td>1</td>\n",
       "      <td>0</td>\n",
       "      <td>0</td>\n",
       "      <td>1608</td>\n",
       "      <td>1.0</td>\n",
       "      <td>2.0</td>\n",
       "      <td>2.285156</td>\n",
       "      <td>...</td>\n",
       "      <td>2</td>\n",
       "      <td>0</td>\n",
       "      <td>0</td>\n",
       "      <td>0</td>\n",
       "      <td>4.640625</td>\n",
       "      <td>0.0</td>\n",
       "      <td>0.0</td>\n",
       "      <td>0.0</td>\n",
       "      <td>0.0</td>\n",
       "      <td>0.230713</td>\n",
       "    </tr>\n",
       "    <tr>\n",
       "      <th>4</th>\n",
       "      <td>HOBBIES_1_005_CA_1</td>\n",
       "      <td>1441</td>\n",
       "      <td>3</td>\n",
       "      <td>1</td>\n",
       "      <td>0</td>\n",
       "      <td>0</td>\n",
       "      <td>1608</td>\n",
       "      <td>1.0</td>\n",
       "      <td>0.0</td>\n",
       "      <td>0.571289</td>\n",
       "      <td>...</td>\n",
       "      <td>2</td>\n",
       "      <td>0</td>\n",
       "      <td>0</td>\n",
       "      <td>0</td>\n",
       "      <td>2.880859</td>\n",
       "      <td>0.0</td>\n",
       "      <td>0.0</td>\n",
       "      <td>0.0</td>\n",
       "      <td>0.0</td>\n",
       "      <td>0.250000</td>\n",
       "    </tr>\n",
       "  </tbody>\n",
       "</table>\n",
       "<p>5 rows × 34 columns</p>\n",
       "</div>"
      ],
      "text/plain": [
       "                   id  item_id  dept_id  cat_id  store_id  state_id     d  \\\n",
       "0  HOBBIES_1_001_CA_1     1437        3       1         0         0  1608   \n",
       "1  HOBBIES_1_002_CA_1     1438        3       1         0         0  1608   \n",
       "2  HOBBIES_1_003_CA_1     1439        3       1         0         0  1608   \n",
       "3  HOBBIES_1_004_CA_1     1440        3       1         0         0  1608   \n",
       "4  HOBBIES_1_005_CA_1     1441        3       1         0         0  1608   \n",
       "\n",
       "   demand  lag_t28  rolling_mean_t7  ...  event_type_2  snap_CA  snap_TX  \\\n",
       "0     1.0      0.0         0.000000  ...             2        0        0   \n",
       "1     0.0      0.0         0.285645  ...             2        0        0   \n",
       "2     0.0      1.0         0.571289  ...             2        0        0   \n",
       "3     1.0      2.0         2.285156  ...             2        0        0   \n",
       "4     1.0      0.0         0.571289  ...             2        0        0   \n",
       "\n",
       "   snap_WI  sell_price  sell_price_rel_diff  sell_price_roll_sd2  \\\n",
       "0        0    8.257812                  0.0                  0.0   \n",
       "1        0    3.970703                  0.0                  0.0   \n",
       "2        0    2.970703                  0.0                  0.0   \n",
       "3        0    4.640625                  0.0                  0.0   \n",
       "4        0    2.880859                  0.0                  0.0   \n",
       "\n",
       "   sell_price_roll_sd4  sell_price_roll_sd7  sell_price_cumrel  \n",
       "0                  0.0                  0.0           0.000000  \n",
       "1                  0.0                  0.0           0.000000  \n",
       "2                  0.0                  0.0           0.000000  \n",
       "3                  0.0                  0.0           0.230713  \n",
       "4                  0.0                  0.0           0.250000  \n",
       "\n",
       "[5 rows x 34 columns]"
      ]
     },
     "execution_count": 33,
     "metadata": {},
     "output_type": "execute_result"
    }
   ],
   "source": [
    "sales.head()"
   ]
  },
  {
   "cell_type": "code",
   "execution_count": 34,
   "metadata": {
    "ExecuteTime": {
     "end_time": "2020-05-25T17:13:50.419227Z",
     "start_time": "2020-05-25T17:13:49.942528Z"
    }
   },
   "outputs": [
    {
     "data": {
      "text/html": [
       "<div>\n",
       "<style scoped>\n",
       "    .dataframe tbody tr th:only-of-type {\n",
       "        vertical-align: middle;\n",
       "    }\n",
       "\n",
       "    .dataframe tbody tr th {\n",
       "        vertical-align: top;\n",
       "    }\n",
       "\n",
       "    .dataframe thead th {\n",
       "        text-align: right;\n",
       "    }\n",
       "</style>\n",
       "<table border=\"1\" class=\"dataframe\">\n",
       "  <thead>\n",
       "    <tr style=\"text-align: right;\">\n",
       "      <th></th>\n",
       "      <th>index</th>\n",
       "      <th>id</th>\n",
       "      <th>item_id</th>\n",
       "      <th>dept_id</th>\n",
       "      <th>cat_id</th>\n",
       "      <th>store_id</th>\n",
       "      <th>state_id</th>\n",
       "      <th>d</th>\n",
       "      <th>demand</th>\n",
       "      <th>lag_t28</th>\n",
       "      <th>...</th>\n",
       "      <th>event_type_2</th>\n",
       "      <th>snap_CA</th>\n",
       "      <th>snap_TX</th>\n",
       "      <th>snap_WI</th>\n",
       "      <th>sell_price</th>\n",
       "      <th>sell_price_rel_diff</th>\n",
       "      <th>sell_price_roll_sd2</th>\n",
       "      <th>sell_price_roll_sd4</th>\n",
       "      <th>sell_price_roll_sd7</th>\n",
       "      <th>sell_price_cumrel</th>\n",
       "    </tr>\n",
       "  </thead>\n",
       "  <tbody>\n",
       "    <tr>\n",
       "      <th>0</th>\n",
       "      <td>0</td>\n",
       "      <td>HOBBIES_1_001_CA_1</td>\n",
       "      <td>1437</td>\n",
       "      <td>3</td>\n",
       "      <td>1</td>\n",
       "      <td>0</td>\n",
       "      <td>0</td>\n",
       "      <td>1608</td>\n",
       "      <td>1.0</td>\n",
       "      <td>0.0</td>\n",
       "      <td>...</td>\n",
       "      <td>2</td>\n",
       "      <td>0</td>\n",
       "      <td>0</td>\n",
       "      <td>0</td>\n",
       "      <td>8.257812</td>\n",
       "      <td>0.0</td>\n",
       "      <td>0.0</td>\n",
       "      <td>0.0</td>\n",
       "      <td>0.0</td>\n",
       "      <td>0.000000</td>\n",
       "    </tr>\n",
       "    <tr>\n",
       "      <th>1</th>\n",
       "      <td>30490</td>\n",
       "      <td>HOBBIES_1_001_CA_1</td>\n",
       "      <td>1437</td>\n",
       "      <td>3</td>\n",
       "      <td>1</td>\n",
       "      <td>0</td>\n",
       "      <td>0</td>\n",
       "      <td>1609</td>\n",
       "      <td>0.0</td>\n",
       "      <td>0.0</td>\n",
       "      <td>...</td>\n",
       "      <td>2</td>\n",
       "      <td>0</td>\n",
       "      <td>0</td>\n",
       "      <td>0</td>\n",
       "      <td>8.257812</td>\n",
       "      <td>0.0</td>\n",
       "      <td>0.0</td>\n",
       "      <td>0.0</td>\n",
       "      <td>0.0</td>\n",
       "      <td>0.000000</td>\n",
       "    </tr>\n",
       "    <tr>\n",
       "      <th>2</th>\n",
       "      <td>60980</td>\n",
       "      <td>HOBBIES_1_001_CA_1</td>\n",
       "      <td>1437</td>\n",
       "      <td>3</td>\n",
       "      <td>1</td>\n",
       "      <td>0</td>\n",
       "      <td>0</td>\n",
       "      <td>1610</td>\n",
       "      <td>0.0</td>\n",
       "      <td>0.0</td>\n",
       "      <td>...</td>\n",
       "      <td>2</td>\n",
       "      <td>0</td>\n",
       "      <td>0</td>\n",
       "      <td>0</td>\n",
       "      <td>8.257812</td>\n",
       "      <td>0.0</td>\n",
       "      <td>0.0</td>\n",
       "      <td>0.0</td>\n",
       "      <td>0.0</td>\n",
       "      <td>0.000000</td>\n",
       "    </tr>\n",
       "    <tr>\n",
       "      <th>3</th>\n",
       "      <td>91470</td>\n",
       "      <td>HOBBIES_1_001_CA_1</td>\n",
       "      <td>1437</td>\n",
       "      <td>3</td>\n",
       "      <td>1</td>\n",
       "      <td>0</td>\n",
       "      <td>0</td>\n",
       "      <td>1611</td>\n",
       "      <td>0.0</td>\n",
       "      <td>0.0</td>\n",
       "      <td>...</td>\n",
       "      <td>2</td>\n",
       "      <td>0</td>\n",
       "      <td>0</td>\n",
       "      <td>0</td>\n",
       "      <td>8.257812</td>\n",
       "      <td>0.0</td>\n",
       "      <td>0.0</td>\n",
       "      <td>0.0</td>\n",
       "      <td>0.0</td>\n",
       "      <td>0.000000</td>\n",
       "    </tr>\n",
       "    <tr>\n",
       "      <th>4</th>\n",
       "      <td>121960</td>\n",
       "      <td>HOBBIES_1_001_CA_1</td>\n",
       "      <td>1437</td>\n",
       "      <td>3</td>\n",
       "      <td>1</td>\n",
       "      <td>0</td>\n",
       "      <td>0</td>\n",
       "      <td>1612</td>\n",
       "      <td>1.0</td>\n",
       "      <td>0.0</td>\n",
       "      <td>...</td>\n",
       "      <td>2</td>\n",
       "      <td>0</td>\n",
       "      <td>0</td>\n",
       "      <td>0</td>\n",
       "      <td>8.257812</td>\n",
       "      <td>0.0</td>\n",
       "      <td>0.0</td>\n",
       "      <td>0.0</td>\n",
       "      <td>0.0</td>\n",
       "      <td>0.000000</td>\n",
       "    </tr>\n",
       "    <tr>\n",
       "      <th>...</th>\n",
       "      <td>...</td>\n",
       "      <td>...</td>\n",
       "      <td>...</td>\n",
       "      <td>...</td>\n",
       "      <td>...</td>\n",
       "      <td>...</td>\n",
       "      <td>...</td>\n",
       "      <td>...</td>\n",
       "      <td>...</td>\n",
       "      <td>...</td>\n",
       "      <td>...</td>\n",
       "      <td>...</td>\n",
       "      <td>...</td>\n",
       "      <td>...</td>\n",
       "      <td>...</td>\n",
       "      <td>...</td>\n",
       "      <td>...</td>\n",
       "      <td>...</td>\n",
       "      <td>...</td>\n",
       "      <td>...</td>\n",
       "      <td>...</td>\n",
       "    </tr>\n",
       "    <tr>\n",
       "      <th>357</th>\n",
       "      <td>10884930</td>\n",
       "      <td>HOBBIES_1_001_CA_1</td>\n",
       "      <td>1437</td>\n",
       "      <td>3</td>\n",
       "      <td>1</td>\n",
       "      <td>0</td>\n",
       "      <td>0</td>\n",
       "      <td>1965</td>\n",
       "      <td>NaN</td>\n",
       "      <td>0.0</td>\n",
       "      <td>...</td>\n",
       "      <td>2</td>\n",
       "      <td>0</td>\n",
       "      <td>1</td>\n",
       "      <td>1</td>\n",
       "      <td>8.382812</td>\n",
       "      <td>0.0</td>\n",
       "      <td>0.0</td>\n",
       "      <td>0.0</td>\n",
       "      <td>0.0</td>\n",
       "      <td>0.051727</td>\n",
       "    </tr>\n",
       "    <tr>\n",
       "      <th>358</th>\n",
       "      <td>10915420</td>\n",
       "      <td>HOBBIES_1_001_CA_1</td>\n",
       "      <td>1437</td>\n",
       "      <td>3</td>\n",
       "      <td>1</td>\n",
       "      <td>0</td>\n",
       "      <td>0</td>\n",
       "      <td>1966</td>\n",
       "      <td>NaN</td>\n",
       "      <td>0.0</td>\n",
       "      <td>...</td>\n",
       "      <td>2</td>\n",
       "      <td>0</td>\n",
       "      <td>0</td>\n",
       "      <td>0</td>\n",
       "      <td>8.382812</td>\n",
       "      <td>0.0</td>\n",
       "      <td>0.0</td>\n",
       "      <td>0.0</td>\n",
       "      <td>0.0</td>\n",
       "      <td>0.051727</td>\n",
       "    </tr>\n",
       "    <tr>\n",
       "      <th>359</th>\n",
       "      <td>10945910</td>\n",
       "      <td>HOBBIES_1_001_CA_1</td>\n",
       "      <td>1437</td>\n",
       "      <td>3</td>\n",
       "      <td>1</td>\n",
       "      <td>0</td>\n",
       "      <td>0</td>\n",
       "      <td>1967</td>\n",
       "      <td>NaN</td>\n",
       "      <td>0.0</td>\n",
       "      <td>...</td>\n",
       "      <td>2</td>\n",
       "      <td>0</td>\n",
       "      <td>0</td>\n",
       "      <td>0</td>\n",
       "      <td>8.382812</td>\n",
       "      <td>0.0</td>\n",
       "      <td>0.0</td>\n",
       "      <td>0.0</td>\n",
       "      <td>0.0</td>\n",
       "      <td>0.051727</td>\n",
       "    </tr>\n",
       "    <tr>\n",
       "      <th>360</th>\n",
       "      <td>10976400</td>\n",
       "      <td>HOBBIES_1_001_CA_1</td>\n",
       "      <td>1437</td>\n",
       "      <td>3</td>\n",
       "      <td>1</td>\n",
       "      <td>0</td>\n",
       "      <td>0</td>\n",
       "      <td>1968</td>\n",
       "      <td>NaN</td>\n",
       "      <td>0.0</td>\n",
       "      <td>...</td>\n",
       "      <td>2</td>\n",
       "      <td>0</td>\n",
       "      <td>0</td>\n",
       "      <td>0</td>\n",
       "      <td>8.382812</td>\n",
       "      <td>0.0</td>\n",
       "      <td>0.0</td>\n",
       "      <td>0.0</td>\n",
       "      <td>0.0</td>\n",
       "      <td>0.051727</td>\n",
       "    </tr>\n",
       "    <tr>\n",
       "      <th>361</th>\n",
       "      <td>11006890</td>\n",
       "      <td>HOBBIES_1_001_CA_1</td>\n",
       "      <td>1437</td>\n",
       "      <td>3</td>\n",
       "      <td>1</td>\n",
       "      <td>0</td>\n",
       "      <td>0</td>\n",
       "      <td>1969</td>\n",
       "      <td>NaN</td>\n",
       "      <td>0.0</td>\n",
       "      <td>...</td>\n",
       "      <td>0</td>\n",
       "      <td>0</td>\n",
       "      <td>0</td>\n",
       "      <td>0</td>\n",
       "      <td>8.382812</td>\n",
       "      <td>0.0</td>\n",
       "      <td>0.0</td>\n",
       "      <td>0.0</td>\n",
       "      <td>0.0</td>\n",
       "      <td>0.051727</td>\n",
       "    </tr>\n",
       "  </tbody>\n",
       "</table>\n",
       "<p>362 rows × 35 columns</p>\n",
       "</div>"
      ],
      "text/plain": [
       "        index                  id  item_id  dept_id  cat_id  store_id  \\\n",
       "0           0  HOBBIES_1_001_CA_1     1437        3       1         0   \n",
       "1       30490  HOBBIES_1_001_CA_1     1437        3       1         0   \n",
       "2       60980  HOBBIES_1_001_CA_1     1437        3       1         0   \n",
       "3       91470  HOBBIES_1_001_CA_1     1437        3       1         0   \n",
       "4      121960  HOBBIES_1_001_CA_1     1437        3       1         0   \n",
       "..        ...                 ...      ...      ...     ...       ...   \n",
       "357  10884930  HOBBIES_1_001_CA_1     1437        3       1         0   \n",
       "358  10915420  HOBBIES_1_001_CA_1     1437        3       1         0   \n",
       "359  10945910  HOBBIES_1_001_CA_1     1437        3       1         0   \n",
       "360  10976400  HOBBIES_1_001_CA_1     1437        3       1         0   \n",
       "361  11006890  HOBBIES_1_001_CA_1     1437        3       1         0   \n",
       "\n",
       "     state_id     d  demand  lag_t28  ...  event_type_2  snap_CA  snap_TX  \\\n",
       "0           0  1608     1.0      0.0  ...             2        0        0   \n",
       "1           0  1609     0.0      0.0  ...             2        0        0   \n",
       "2           0  1610     0.0      0.0  ...             2        0        0   \n",
       "3           0  1611     0.0      0.0  ...             2        0        0   \n",
       "4           0  1612     1.0      0.0  ...             2        0        0   \n",
       "..        ...   ...     ...      ...  ...           ...      ...      ...   \n",
       "357         0  1965     NaN      0.0  ...             2        0        1   \n",
       "358         0  1966     NaN      0.0  ...             2        0        0   \n",
       "359         0  1967     NaN      0.0  ...             2        0        0   \n",
       "360         0  1968     NaN      0.0  ...             2        0        0   \n",
       "361         0  1969     NaN      0.0  ...             0        0        0   \n",
       "\n",
       "     snap_WI  sell_price  sell_price_rel_diff  sell_price_roll_sd2  \\\n",
       "0          0    8.257812                  0.0                  0.0   \n",
       "1          0    8.257812                  0.0                  0.0   \n",
       "2          0    8.257812                  0.0                  0.0   \n",
       "3          0    8.257812                  0.0                  0.0   \n",
       "4          0    8.257812                  0.0                  0.0   \n",
       "..       ...         ...                  ...                  ...   \n",
       "357        1    8.382812                  0.0                  0.0   \n",
       "358        0    8.382812                  0.0                  0.0   \n",
       "359        0    8.382812                  0.0                  0.0   \n",
       "360        0    8.382812                  0.0                  0.0   \n",
       "361        0    8.382812                  0.0                  0.0   \n",
       "\n",
       "     sell_price_roll_sd4  sell_price_roll_sd7  sell_price_cumrel  \n",
       "0                    0.0                  0.0           0.000000  \n",
       "1                    0.0                  0.0           0.000000  \n",
       "2                    0.0                  0.0           0.000000  \n",
       "3                    0.0                  0.0           0.000000  \n",
       "4                    0.0                  0.0           0.000000  \n",
       "..                   ...                  ...                ...  \n",
       "357                  0.0                  0.0           0.051727  \n",
       "358                  0.0                  0.0           0.051727  \n",
       "359                  0.0                  0.0           0.051727  \n",
       "360                  0.0                  0.0           0.051727  \n",
       "361                  0.0                  0.0           0.051727  \n",
       "\n",
       "[362 rows x 35 columns]"
      ]
     },
     "execution_count": 34,
     "metadata": {},
     "output_type": "execute_result"
    }
   ],
   "source": [
    "df1 = sales[sales['id']=='HOBBIES_1_001_CA_1'] # eq groupby item_id and store_id\n",
    "df1 = df1.reset_index()\n",
    "df1"
   ]
  },
  {
   "cell_type": "code",
   "execution_count": 36,
   "metadata": {
    "ExecuteTime": {
     "end_time": "2020-05-24T17:13:02.949122Z",
     "start_time": "2020-05-24T17:13:02.923165Z"
    }
   },
   "outputs": [
    {
     "data": {
      "text/plain": [
       "40"
      ]
     },
     "execution_count": 36,
     "metadata": {},
     "output_type": "execute_result"
    }
   ],
   "source": [
    "del sales\n",
    "gc.collect()"
   ]
  },
  {
   "cell_type": "code",
   "execution_count": 39,
   "metadata": {
    "ExecuteTime": {
     "end_time": "2020-05-25T17:15:06.055764Z",
     "start_time": "2020-05-25T17:15:06.050776Z"
    }
   },
   "outputs": [],
   "source": [
    "def make_X(df, windows_size=14, start_day=start_day):\n",
    "    data = []\n",
    "    labels = []\n",
    "    targetdf = df['demand']\n",
    "    print(windows_size, df.shape[0])\n",
    "    \n",
    "    df = df.drop(['demand','id','d', 'index'], axis=1)\n",
    "    df = df.values\n",
    "    targetdf = targetdf.values\n",
    "    #df = df[[cat_cols+dense_cols]]\n",
    "    for i in range(windows_size,df.shape[0]):\n",
    "        data.append(df[i-windows_size:i])\n",
    "        labels.append(targetdf[i])\n",
    "    \n",
    "    return np.array(data), np.array(labels)"
   ]
  },
  {
   "cell_type": "code",
   "execution_count": 40,
   "metadata": {
    "ExecuteTime": {
     "end_time": "2020-05-25T17:15:07.515377Z",
     "start_time": "2020-05-25T17:15:07.482489Z"
    }
   },
   "outputs": [
    {
     "name": "stdout",
     "output_type": "stream",
     "text": [
      "14 362\n"
     ]
    },
    {
     "data": {
      "text/plain": [
       "(362, 35)"
      ]
     },
     "execution_count": 40,
     "metadata": {},
     "output_type": "execute_result"
    }
   ],
   "source": [
    "X_train, y_train = make_X(df1)\n",
    "\n",
    "gc.collect()\n",
    "df1.shape"
   ]
  },
  {
   "cell_type": "code",
   "execution_count": 67,
   "metadata": {
    "ExecuteTime": {
     "end_time": "2020-05-25T16:38:37.200884Z",
     "start_time": "2020-05-25T16:38:37.100153Z"
    }
   },
   "outputs": [
    {
     "name": "stdout",
     "output_type": "stream",
     "text": [
      "[] []\n",
      "[] []\n"
     ]
    },
    {
     "data": {
      "text/plain": [
       "20"
      ]
     },
     "execution_count": 67,
     "metadata": {},
     "output_type": "execute_result"
    }
   ],
   "source": [
    "flag = df1.d < 1914 - 28\n",
    "X_train, y_train = make_X(df1[flag], df1['demand'][flag])\n",
    "\n",
    "flag = (df1.d < 1914) & (df1.d >= 1914 - 28)\n",
    "valid = make_X(df1[flag], df1[\"demand\"][flag])\n",
    "\n",
    "del flag\n",
    "gc.collect()"
   ]
  },
  {
   "cell_type": "code",
   "execution_count": 41,
   "metadata": {
    "ExecuteTime": {
     "end_time": "2020-05-25T17:15:12.159264Z",
     "start_time": "2020-05-25T17:15:12.118379Z"
    }
   },
   "outputs": [
    {
     "name": "stdout",
     "output_type": "stream",
     "text": [
      "14 28\n"
     ]
    }
   ],
   "source": [
    "flag = (df1.d < 1914) & (df1.d >= 1914 - 28)\n",
    "valid = (make_X(df1[flag]))\n",
    "\n",
    "gc.collect()\n",
    "del flag"
   ]
  },
  {
   "cell_type": "code",
   "execution_count": 44,
   "metadata": {
    "ExecuteTime": {
     "end_time": "2020-05-25T17:15:23.049198Z",
     "start_time": "2020-05-25T17:15:23.042218Z"
    }
   },
   "outputs": [
    {
     "data": {
      "text/plain": [
       "(14, 14, 31)"
      ]
     },
     "execution_count": 44,
     "metadata": {},
     "output_type": "execute_result"
    }
   ],
   "source": [
    "valid[0].shape"
   ]
  },
  {
   "cell_type": "code",
   "execution_count": 43,
   "metadata": {
    "ExecuteTime": {
     "end_time": "2020-05-25T17:15:15.857743Z",
     "start_time": "2020-05-25T17:15:15.851785Z"
    }
   },
   "outputs": [
    {
     "data": {
      "text/plain": [
       "((348, 14, 31), (348,))"
      ]
     },
     "execution_count": 43,
     "metadata": {},
     "output_type": "execute_result"
    }
   ],
   "source": [
    "X_train.shape, y_train.shape"
   ]
  },
  {
   "cell_type": "code",
   "execution_count": 170,
   "metadata": {
    "ExecuteTime": {
     "end_time": "2020-05-24T16:14:33.265706Z",
     "start_time": "2020-05-24T16:14:32.789848Z"
    }
   },
   "outputs": [
    {
     "data": {
      "text/plain": [
       "30490"
      ]
     },
     "execution_count": 170,
     "metadata": {},
     "output_type": "execute_result"
    }
   ],
   "source": [
    "len(sales['id'].unique())"
   ]
  },
  {
   "cell_type": "code",
   "execution_count": null,
   "metadata": {
    "ExecuteTime": {
     "end_time": "2020-05-25T17:36:57.669863Z",
     "start_time": "2020-05-25T17:36:48.574430Z"
    }
   },
   "outputs": [],
   "source": [
    "un_x=[]\n",
    "un_y=[]\n",
    "for un in sales['id'].unique():\n",
    "    df1 = sales[sales['id']==un]\n",
    "    df1 = df1[df1['d']<1914]\n",
    "    df1 = df1.reset_index()\n",
    "    x, y = make_X(df1)\n",
    "    un_x.append(x)\n",
    "    un_y.append(y)\n",
    "X_train, y_train = un_x, un_y"
   ]
  },
  {
   "cell_type": "code",
   "execution_count": 68,
   "metadata": {
    "ExecuteTime": {
     "end_time": "2020-05-24T17:54:54.012133Z",
     "start_time": "2020-05-24T17:54:54.007174Z"
    }
   },
   "outputs": [
    {
     "data": {
      "text/plain": [
       "array([array([], shape=(0, 31), dtype=float32),\n",
       "       array([], shape=(0, 31), dtype=float32),\n",
       "       array([], shape=(0, 31), dtype=float32), ...,\n",
       "       array([[1.437e+03, 3.000e+00, 1.000e+00, ..., 0.000e+00, 0.000e+00,\n",
       "        0.000e+00],\n",
       "       [1.437e+03, 3.000e+00, 1.000e+00, ..., 0.000e+00, 0.000e+00,\n",
       "        0.000e+00],\n",
       "       [1.437e+03, 3.000e+00, 1.000e+00, ..., 0.000e+00, 0.000e+00,\n",
       "        0.000e+00],\n",
       "       ...,\n",
       "       [1.437e+03, 3.000e+00, 1.000e+00, ..., 0.000e+00, 0.000e+00,\n",
       "        0.000e+00],\n",
       "       [1.437e+03, 3.000e+00, 1.000e+00, ..., 0.000e+00, 0.000e+00,\n",
       "        0.000e+00],\n",
       "       [1.437e+03, 3.000e+00, 1.000e+00, ..., 0.000e+00, 0.000e+00,\n",
       "        0.000e+00]], dtype=float32),\n",
       "       array([[1.437e+03, 3.000e+00, 1.000e+00, ..., 0.000e+00, 0.000e+00,\n",
       "        0.000e+00],\n",
       "       [1.437e+03, 3.000e+00, 1.000e+00, ..., 0.000e+00, 0.000e+00,\n",
       "        0.000e+00],\n",
       "       [1.437e+03, 3.000e+00, 1.000e+00, ..., 0.000e+00, 0.000e+00,\n",
       "        0.000e+00],\n",
       "       ...,\n",
       "       [1.437e+03, 3.000e+00, 1.000e+00, ..., 0.000e+00, 0.000e+00,\n",
       "        0.000e+00],\n",
       "       [1.437e+03, 3.000e+00, 1.000e+00, ..., 0.000e+00, 0.000e+00,\n",
       "        0.000e+00],\n",
       "       [1.437e+03, 3.000e+00, 1.000e+00, ..., 0.000e+00, 0.000e+00,\n",
       "        0.000e+00]], dtype=float32),\n",
       "       array([[1.437e+03, 3.000e+00, 1.000e+00, ..., 0.000e+00, 0.000e+00,\n",
       "        0.000e+00],\n",
       "       [1.437e+03, 3.000e+00, 1.000e+00, ..., 0.000e+00, 0.000e+00,\n",
       "        0.000e+00],\n",
       "       [1.437e+03, 3.000e+00, 1.000e+00, ..., 0.000e+00, 0.000e+00,\n",
       "        0.000e+00],\n",
       "       ...,\n",
       "       [1.437e+03, 3.000e+00, 1.000e+00, ..., 0.000e+00, 0.000e+00,\n",
       "        0.000e+00],\n",
       "       [1.437e+03, 3.000e+00, 1.000e+00, ..., 0.000e+00, 0.000e+00,\n",
       "        0.000e+00],\n",
       "       [1.437e+03, 3.000e+00, 1.000e+00, ..., 0.000e+00, 0.000e+00,\n",
       "        0.000e+00]], dtype=float32)], dtype=object)"
      ]
     },
     "execution_count": 68,
     "metadata": {},
     "output_type": "execute_result"
    }
   ],
   "source": [
    "X_train"
   ]
  },
  {
   "cell_type": "code",
   "execution_count": 72,
   "metadata": {
    "ExecuteTime": {
     "end_time": "2020-05-24T17:56:37.860228Z",
     "start_time": "2020-05-24T17:56:37.856214Z"
    }
   },
   "outputs": [
    {
     "data": {
      "text/plain": [
       "(1762, 35)"
      ]
     },
     "execution_count": 72,
     "metadata": {},
     "output_type": "execute_result"
    }
   ],
   "source": [
    "df1.shape"
   ]
  },
  {
   "cell_type": "code",
   "execution_count": 91,
   "metadata": {
    "ExecuteTime": {
     "end_time": "2020-05-24T18:07:54.460545Z",
     "start_time": "2020-05-24T18:07:54.457554Z"
    }
   },
   "outputs": [
    {
     "data": {
      "text/plain": [
       "((750, 778, 31), (778, 28))"
      ]
     },
     "execution_count": 91,
     "metadata": {},
     "output_type": "execute_result"
    }
   ],
   "source": [
    "X_train.shape, y_train.shape"
   ]
  },
  {
   "cell_type": "code",
   "execution_count": 90,
   "metadata": {
    "ExecuteTime": {
     "end_time": "2020-05-24T18:07:53.120912Z",
     "start_time": "2020-05-24T18:07:53.117914Z"
    }
   },
   "outputs": [],
   "source": [
    "X_train = X_train.reshape((750,778,31))"
   ]
  },
  {
   "cell_type": "code",
   "execution_count": null,
   "metadata": {},
   "outputs": [],
   "source": []
  },
  {
   "cell_type": "code",
   "execution_count": 53,
   "metadata": {
    "ExecuteTime": {
     "end_time": "2020-05-24T10:46:42.102845Z",
     "start_time": "2020-05-24T10:46:42.087884Z"
    },
    "scrolled": true
   },
   "outputs": [
    {
     "data": {
      "text/html": [
       "<div>\n",
       "<style scoped>\n",
       "    .dataframe tbody tr th:only-of-type {\n",
       "        vertical-align: middle;\n",
       "    }\n",
       "\n",
       "    .dataframe tbody tr th {\n",
       "        vertical-align: top;\n",
       "    }\n",
       "\n",
       "    .dataframe thead th {\n",
       "        text-align: right;\n",
       "    }\n",
       "</style>\n",
       "<table border=\"1\" class=\"dataframe\">\n",
       "  <thead>\n",
       "    <tr style=\"text-align: right;\">\n",
       "      <th></th>\n",
       "      <th>id</th>\n",
       "      <th>item_id</th>\n",
       "      <th>dept_id</th>\n",
       "      <th>cat_id</th>\n",
       "      <th>store_id</th>\n",
       "      <th>state_id</th>\n",
       "      <th>d</th>\n",
       "      <th>demand</th>\n",
       "      <th>lag_t28</th>\n",
       "      <th>rolling_mean_t7</th>\n",
       "      <th>...</th>\n",
       "      <th>event_type_2</th>\n",
       "      <th>snap_CA</th>\n",
       "      <th>snap_TX</th>\n",
       "      <th>snap_WI</th>\n",
       "      <th>sell_price</th>\n",
       "      <th>sell_price_rel_diff</th>\n",
       "      <th>sell_price_roll_sd2</th>\n",
       "      <th>sell_price_roll_sd4</th>\n",
       "      <th>sell_price_roll_sd7</th>\n",
       "      <th>sell_price_cumrel</th>\n",
       "    </tr>\n",
       "  </thead>\n",
       "  <tbody>\n",
       "    <tr>\n",
       "      <th>0</th>\n",
       "      <td>HOBBIES_1_001_CA_1</td>\n",
       "      <td>1437</td>\n",
       "      <td>3</td>\n",
       "      <td>1</td>\n",
       "      <td>0</td>\n",
       "      <td>0</td>\n",
       "      <td>208</td>\n",
       "      <td>0.0</td>\n",
       "      <td>0.0</td>\n",
       "      <td>0.000000</td>\n",
       "      <td>...</td>\n",
       "      <td>2</td>\n",
       "      <td>0</td>\n",
       "      <td>0</td>\n",
       "      <td>0</td>\n",
       "      <td>3.470703</td>\n",
       "      <td>0.0</td>\n",
       "      <td>0.0</td>\n",
       "      <td>0.0</td>\n",
       "      <td>0.0</td>\n",
       "      <td>0.0</td>\n",
       "    </tr>\n",
       "    <tr>\n",
       "      <th>1</th>\n",
       "      <td>HOBBIES_1_002_CA_1</td>\n",
       "      <td>1438</td>\n",
       "      <td>3</td>\n",
       "      <td>1</td>\n",
       "      <td>0</td>\n",
       "      <td>0</td>\n",
       "      <td>208</td>\n",
       "      <td>1.0</td>\n",
       "      <td>0.0</td>\n",
       "      <td>0.142822</td>\n",
       "      <td>...</td>\n",
       "      <td>2</td>\n",
       "      <td>0</td>\n",
       "      <td>0</td>\n",
       "      <td>0</td>\n",
       "      <td>3.970703</td>\n",
       "      <td>0.0</td>\n",
       "      <td>0.0</td>\n",
       "      <td>0.0</td>\n",
       "      <td>0.0</td>\n",
       "      <td>0.0</td>\n",
       "    </tr>\n",
       "    <tr>\n",
       "      <th>2</th>\n",
       "      <td>HOBBIES_1_003_CA_1</td>\n",
       "      <td>1439</td>\n",
       "      <td>3</td>\n",
       "      <td>1</td>\n",
       "      <td>0</td>\n",
       "      <td>0</td>\n",
       "      <td>208</td>\n",
       "      <td>0.0</td>\n",
       "      <td>0.0</td>\n",
       "      <td>0.000000</td>\n",
       "      <td>...</td>\n",
       "      <td>2</td>\n",
       "      <td>0</td>\n",
       "      <td>0</td>\n",
       "      <td>0</td>\n",
       "      <td>3.470703</td>\n",
       "      <td>0.0</td>\n",
       "      <td>0.0</td>\n",
       "      <td>0.0</td>\n",
       "      <td>0.0</td>\n",
       "      <td>0.0</td>\n",
       "    </tr>\n",
       "    <tr>\n",
       "      <th>3</th>\n",
       "      <td>HOBBIES_1_004_CA_1</td>\n",
       "      <td>1440</td>\n",
       "      <td>3</td>\n",
       "      <td>1</td>\n",
       "      <td>0</td>\n",
       "      <td>0</td>\n",
       "      <td>208</td>\n",
       "      <td>1.0</td>\n",
       "      <td>0.0</td>\n",
       "      <td>1.428711</td>\n",
       "      <td>...</td>\n",
       "      <td>2</td>\n",
       "      <td>0</td>\n",
       "      <td>0</td>\n",
       "      <td>0</td>\n",
       "      <td>4.339844</td>\n",
       "      <td>0.0</td>\n",
       "      <td>0.0</td>\n",
       "      <td>0.0</td>\n",
       "      <td>0.0</td>\n",
       "      <td>0.0</td>\n",
       "    </tr>\n",
       "    <tr>\n",
       "      <th>4</th>\n",
       "      <td>HOBBIES_1_005_CA_1</td>\n",
       "      <td>1441</td>\n",
       "      <td>3</td>\n",
       "      <td>1</td>\n",
       "      <td>0</td>\n",
       "      <td>0</td>\n",
       "      <td>208</td>\n",
       "      <td>0.0</td>\n",
       "      <td>0.0</td>\n",
       "      <td>0.000000</td>\n",
       "      <td>...</td>\n",
       "      <td>2</td>\n",
       "      <td>0</td>\n",
       "      <td>0</td>\n",
       "      <td>0</td>\n",
       "      <td>2.980469</td>\n",
       "      <td>0.0</td>\n",
       "      <td>0.0</td>\n",
       "      <td>0.0</td>\n",
       "      <td>0.0</td>\n",
       "      <td>0.0</td>\n",
       "    </tr>\n",
       "  </tbody>\n",
       "</table>\n",
       "<p>5 rows × 34 columns</p>\n",
       "</div>"
      ],
      "text/plain": [
       "                   id  item_id  dept_id  cat_id  store_id  state_id    d  \\\n",
       "0  HOBBIES_1_001_CA_1     1437        3       1         0         0  208   \n",
       "1  HOBBIES_1_002_CA_1     1438        3       1         0         0  208   \n",
       "2  HOBBIES_1_003_CA_1     1439        3       1         0         0  208   \n",
       "3  HOBBIES_1_004_CA_1     1440        3       1         0         0  208   \n",
       "4  HOBBIES_1_005_CA_1     1441        3       1         0         0  208   \n",
       "\n",
       "   demand  lag_t28  rolling_mean_t7  ...  event_type_2  snap_CA  snap_TX  \\\n",
       "0     0.0      0.0         0.000000  ...             2        0        0   \n",
       "1     1.0      0.0         0.142822  ...             2        0        0   \n",
       "2     0.0      0.0         0.000000  ...             2        0        0   \n",
       "3     1.0      0.0         1.428711  ...             2        0        0   \n",
       "4     0.0      0.0         0.000000  ...             2        0        0   \n",
       "\n",
       "   snap_WI  sell_price  sell_price_rel_diff  sell_price_roll_sd2  \\\n",
       "0        0    3.470703                  0.0                  0.0   \n",
       "1        0    3.970703                  0.0                  0.0   \n",
       "2        0    3.470703                  0.0                  0.0   \n",
       "3        0    4.339844                  0.0                  0.0   \n",
       "4        0    2.980469                  0.0                  0.0   \n",
       "\n",
       "   sell_price_roll_sd4  sell_price_roll_sd7  sell_price_cumrel  \n",
       "0                  0.0                  0.0                0.0  \n",
       "1                  0.0                  0.0                0.0  \n",
       "2                  0.0                  0.0                0.0  \n",
       "3                  0.0                  0.0                0.0  \n",
       "4                  0.0                  0.0                0.0  \n",
       "\n",
       "[5 rows x 34 columns]"
      ]
     },
     "execution_count": 53,
     "metadata": {},
     "output_type": "execute_result"
    }
   ],
   "source": [
    "sales.head()"
   ]
  },
  {
   "cell_type": "code",
   "execution_count": 45,
   "metadata": {
    "ExecuteTime": {
     "end_time": "2020-05-25T17:15:56.920673Z",
     "start_time": "2020-05-25T17:15:56.915661Z"
    }
   },
   "outputs": [],
   "source": [
    "import tensorflow as tf\n",
    "import tensorflow.keras as keras\n",
    "\n",
    "from tensorflow.keras import regularizers\n",
    "from tensorflow.keras.layers import Dense, Input, Embedding, Dropout, concatenate, Flatten, SimpleRNN, Reshape, LSTM\n",
    "from tensorflow.keras.models import Model, Sequential"
   ]
  },
  {
   "cell_type": "code",
   "execution_count": 46,
   "metadata": {
    "ExecuteTime": {
     "end_time": "2020-05-25T17:15:56.930640Z",
     "start_time": "2020-05-25T17:15:56.921646Z"
    }
   },
   "outputs": [],
   "source": [
    "def create_model(lr=0.002):\n",
    "    tf.random.set_seed(173)\n",
    "\n",
    "    tf.keras.backend.clear_session()\n",
    "    gc.collect()\n",
    "    \n",
    "    model = Sequential()\n",
    "    model.add(LSTM(300, input_shape=(X_train.shape[1],X_train.shape[2])))\n",
    "    model.add(Dense(300, activation=\"tanh\"))\n",
    "    model.add(Dense(150, activation=\"tanh\"))\n",
    "    model.add(Dense(75, activation=\"tanh\"))\n",
    "    model.add(Dense(10, activation=\"tanh\"))\n",
    "    model.add(Dense(1, activation=\"linear\", name='output'))\n",
    "    model.compile(loss=keras.losses.mean_squared_error,\n",
    "                  metrics=[tf.keras.metrics.RootMeanSquaredError()],\n",
    "                  optimizer=keras.optimizers.RMSprop(learning_rate=lr))\n",
    "    \n",
    "    return model"
   ]
  },
  {
   "cell_type": "code",
   "execution_count": 47,
   "metadata": {
    "ExecuteTime": {
     "end_time": "2020-05-25T17:15:58.880167Z",
     "start_time": "2020-05-25T17:15:57.491976Z"
    }
   },
   "outputs": [
    {
     "name": "stdout",
     "output_type": "stream",
     "text": [
      "Model: \"sequential\"\n",
      "_________________________________________________________________\n",
      "Layer (type)                 Output Shape              Param #   \n",
      "=================================================================\n",
      "lstm (LSTM)                  (None, 300)               398400    \n",
      "_________________________________________________________________\n",
      "dense (Dense)                (None, 300)               90300     \n",
      "_________________________________________________________________\n",
      "dense_1 (Dense)              (None, 150)               45150     \n",
      "_________________________________________________________________\n",
      "dense_2 (Dense)              (None, 75)                11325     \n",
      "_________________________________________________________________\n",
      "dense_3 (Dense)              (None, 10)                760       \n",
      "_________________________________________________________________\n",
      "output (Dense)               (None, 1)                 11        \n",
      "=================================================================\n",
      "Total params: 545,946\n",
      "Trainable params: 545,946\n",
      "Non-trainable params: 0\n",
      "_________________________________________________________________\n"
     ]
    },
    {
     "data": {
      "image/png": "[encoded data removed]",
      "text/plain": [
       "<IPython.core.display.Image object>"
      ]
     },
     "execution_count": 47,
     "metadata": {},
     "output_type": "execute_result"
    }
   ],
   "source": [
    "model = create_model()\n",
    "model.summary()\n",
    "keras.utils.plot_model(model, 'model.png', show_shapes=True)"
   ]
  },
  {
   "cell_type": "code",
   "execution_count": 48,
   "metadata": {
    "ExecuteTime": {
     "end_time": "2020-05-25T17:16:01.849829Z",
     "start_time": "2020-05-25T17:15:58.881137Z"
    },
    "scrolled": true
   },
   "outputs": [
    {
     "name": "stdout",
     "output_type": "stream",
     "text": [
      "Train on 348 samples, validate on 14 samples\n",
      "Epoch 1/30\n",
      "348/348 [==============================] - 2s 7ms/sample - loss: nan - root_mean_squared_error: nan - val_loss: nan - val_root_mean_squared_error: nan\n",
      "Epoch 2/30\n",
      "348/348 [==============================] - 0s 47us/sample - loss: nan - root_mean_squared_error: nan - val_loss: nan - val_root_mean_squared_error: nan\n",
      "Epoch 3/30\n",
      "348/348 [==============================] - 0s 48us/sample - loss: nan - root_mean_squared_error: nan - val_loss: nan - val_root_mean_squared_error: nan\n",
      "Epoch 4/30\n",
      "348/348 [==============================] - 0s 48us/sample - loss: nan - root_mean_squared_error: nan - val_loss: nan - val_root_mean_squared_error: nan\n",
      "Epoch 5/30\n",
      "348/348 [==============================] - 0s 46us/sample - loss: nan - root_mean_squared_error: nan - val_loss: nan - val_root_mean_squared_error: nan\n",
      "Epoch 6/30\n",
      "348/348 [==============================] - 0s 47us/sample - loss: nan - root_mean_squared_error: nan - val_loss: nan - val_root_mean_squared_error: nan\n",
      "Epoch 7/30\n",
      "348/348 [==============================] - 0s 46us/sample - loss: nan - root_mean_squared_error: nan - val_loss: nan - val_root_mean_squared_error: nan\n",
      "Epoch 8/30\n",
      "348/348 [==============================] - 0s 47us/sample - loss: nan - root_mean_squared_error: nan - val_loss: nan - val_root_mean_squared_error: nan\n",
      "Epoch 9/30\n",
      "348/348 [==============================] - 0s 49us/sample - loss: nan - root_mean_squared_error: nan - val_loss: nan - val_root_mean_squared_error: nan\n",
      "Epoch 10/30\n",
      "348/348 [==============================] - 0s 49us/sample - loss: nan - root_mean_squared_error: nan - val_loss: nan - val_root_mean_squared_error: nan\n",
      "Epoch 11/30\n",
      "348/348 [==============================] - 0s 47us/sample - loss: nan - root_mean_squared_error: nan - val_loss: nan - val_root_mean_squared_error: nan\n",
      "Epoch 12/30\n",
      "348/348 [==============================] - 0s 49us/sample - loss: nan - root_mean_squared_error: nan - val_loss: nan - val_root_mean_squared_error: nan\n",
      "Epoch 13/30\n",
      "348/348 [==============================] - 0s 49us/sample - loss: nan - root_mean_squared_error: nan - val_loss: nan - val_root_mean_squared_error: nan\n",
      "Epoch 14/30\n",
      "348/348 [==============================] - 0s 46us/sample - loss: nan - root_mean_squared_error: nan - val_loss: nan - val_root_mean_squared_error: nan\n",
      "Epoch 15/30\n",
      "348/348 [==============================] - 0s 49us/sample - loss: nan - root_mean_squared_error: nan - val_loss: nan - val_root_mean_squared_error: nan\n",
      "Epoch 16/30\n",
      "348/348 [==============================] - 0s 46us/sample - loss: nan - root_mean_squared_error: nan - val_loss: nan - val_root_mean_squared_error: nan\n",
      "Epoch 17/30\n",
      "348/348 [==============================] - 0s 48us/sample - loss: nan - root_mean_squared_error: nan - val_loss: nan - val_root_mean_squared_error: nan\n",
      "Epoch 18/30\n",
      "348/348 [==============================] - 0s 48us/sample - loss: nan - root_mean_squared_error: nan - val_loss: nan - val_root_mean_squared_error: nan\n",
      "Epoch 19/30\n",
      "348/348 [==============================] - 0s 46us/sample - loss: nan - root_mean_squared_error: nan - val_loss: nan - val_root_mean_squared_error: nan\n",
      "Epoch 20/30\n",
      "348/348 [==============================] - 0s 46us/sample - loss: nan - root_mean_squared_error: nan - val_loss: nan - val_root_mean_squared_error: nan\n",
      "Epoch 21/30\n",
      "348/348 [==============================] - 0s 43us/sample - loss: nan - root_mean_squared_error: nan - val_loss: nan - val_root_mean_squared_error: nan\n",
      "Epoch 22/30\n",
      "348/348 [==============================] - 0s 46us/sample - loss: nan - root_mean_squared_error: nan - val_loss: nan - val_root_mean_squared_error: nan\n",
      "Epoch 23/30\n",
      "348/348 [==============================] - 0s 46us/sample - loss: nan - root_mean_squared_error: nan - val_loss: nan - val_root_mean_squared_error: nan\n",
      "Epoch 24/30\n",
      "348/348 [==============================] - 0s 46us/sample - loss: nan - root_mean_squared_error: nan - val_loss: nan - val_root_mean_squared_error: nan\n",
      "Epoch 25/30\n",
      "348/348 [==============================] - 0s 46us/sample - loss: nan - root_mean_squared_error: nan - val_loss: nan - val_root_mean_squared_error: nan\n",
      "Epoch 26/30\n",
      "348/348 [==============================] - 0s 43us/sample - loss: nan - root_mean_squared_error: nan - val_loss: nan - val_root_mean_squared_error: nan\n",
      "Epoch 27/30\n",
      "348/348 [==============================] - 0s 43us/sample - loss: nan - root_mean_squared_error: nan - val_loss: nan - val_root_mean_squared_error: nan\n",
      "Epoch 28/30\n",
      "348/348 [==============================] - 0s 46us/sample - loss: nan - root_mean_squared_error: nan - val_loss: nan - val_root_mean_squared_error: nan\n",
      "Epoch 29/30\n",
      "348/348 [==============================] - 0s 44us/sample - loss: nan - root_mean_squared_error: nan - val_loss: nan - val_root_mean_squared_error: nan\n",
      "Epoch 30/30\n",
      "348/348 [==============================] - 0s 46us/sample - loss: nan - root_mean_squared_error: nan - val_loss: nan - val_root_mean_squared_error: nan\n"
     ]
    }
   ],
   "source": [
    "history = model.fit(X_train, \n",
    "                    y_train,\n",
    "                    batch_size=10000,\n",
    "                    epochs=30,\n",
    "                    shuffle=True,\n",
    "                    validation_data=valid)"
   ]
  },
  {
   "cell_type": "markdown",
   "metadata": {},
   "source": [
    "Есть [блокнот](https://www.kaggle.com/bountyhunters/baseline-lstm-with-keras-0-7) с реализованной RNN (LSTM), но без предварительной подготовки данных."
   ]
  }
 ],
 "metadata": {
  "kernelspec": {
   "display_name": "Python 3",
   "language": "python",
   "name": "python3"
  },
  "language_info": {
   "codemirror_mode": {
    "name": "ipython",
    "version": 3
   },
   "file_extension": ".py",
   "mimetype": "text/x-python",
   "name": "python",
   "nbconvert_exporter": "python",
   "pygments_lexer": "ipython3",
   "version": "3.7.6"
  },
  "toc": {
   "base_numbering": 1,
   "nav_menu": {},
   "number_sections": false,
   "sideBar": true,
   "skip_h1_title": true,
   "title_cell": "Table of Contents",
   "title_sidebar": "Contents",
   "toc_cell": false,
   "toc_position": {},
   "toc_section_display": true,
   "toc_window_display": true
  },
  "widgets": {
   "application/vnd.jupyter.widget-state+json": {
    "state": {
     "0c34d6daff4a4a9f8bdec7376c146261": {
      "model_module": "@jupyter-widgets/base",
      "model_module_version": "1.2.0",
      "model_name": "LayoutModel",
      "state": {
       "_model_module": "@jupyter-widgets/base",
       "_model_module_version": "1.2.0",
       "_model_name": "LayoutModel",
       "_view_count": null,
       "_view_module": "@jupyter-widgets/base",
       "_view_module_version": "1.2.0",
       "_view_name": "LayoutView",
       "align_content": null,
       "align_items": null,
       "align_self": null,
       "border": null,
       "bottom": null,
       "display": null,
       "flex": null,
       "flex_flow": null,
       "grid_area": null,
       "grid_auto_columns": null,
       "grid_auto_flow": null,
       "grid_auto_rows": null,
       "grid_column": null,
       "grid_gap": null,
       "grid_row": null,
       "grid_template_areas": null,
       "grid_template_columns": null,
       "grid_template_rows": null,
       "height": null,
       "justify_content": null,
       "justify_items": null,
       "left": null,
       "margin": null,
       "max_height": null,
       "max_width": null,
       "min_height": null,
       "min_width": null,
       "object_fit": null,
       "object_position": null,
       "order": null,
       "overflow": null,
       "overflow_x": null,
       "overflow_y": null,
       "padding": null,
       "right": null,
       "top": null,
       "visibility": null,
       "width": null
      }
     },
     "1ca1428bf2aa4dcfb3fde63ff6bf0e92": {
      "model_module": "@jupyter-widgets/controls",
      "model_module_version": "1.5.0",
      "model_name": "FloatProgressModel",
      "state": {
       "_dom_classes": [],
       "_model_module": "@jupyter-widgets/controls",
       "_model_module_version": "1.5.0",
       "_model_name": "FloatProgressModel",
       "_view_count": null,
       "_view_module": "@jupyter-widgets/controls",
       "_view_module_version": "1.5.0",
       "_view_name": "ProgressView",
       "bar_style": "success",
       "description": "",
       "description_tooltip": null,
       "layout": "IPY_MODEL_a9556dcd8c8a4636b6d3c775ab2697b5",
       "max": 1,
       "min": 0,
       "orientation": "horizontal",
       "style": "IPY_MODEL_c65fa588a1d74c21a231cc4b32045279",
       "value": 1
      }
     },
     "2276faae79d943dcb7543f8805a3bd80": {
      "model_module": "@jupyter-widgets/controls",
      "model_module_version": "1.5.0",
      "model_name": "HBoxModel",
      "state": {
       "_dom_classes": [],
       "_model_module": "@jupyter-widgets/controls",
       "_model_module_version": "1.5.0",
       "_model_name": "HBoxModel",
       "_view_count": null,
       "_view_module": "@jupyter-widgets/controls",
       "_view_module_version": "1.5.0",
       "_view_name": "HBoxView",
       "box_style": "",
       "children": [
        "IPY_MODEL_fd9df0dd8a8943cbb40d5b26e0d653cd",
        "IPY_MODEL_234a4af7b42b496197a78759afc9d9bc"
       ],
       "layout": "IPY_MODEL_5e4b34b3b107477bb2d8532c692a6df7"
      }
     },
     "234a4af7b42b496197a78759afc9d9bc": {
      "model_module": "@jupyter-widgets/controls",
      "model_module_version": "1.5.0",
      "model_name": "HTMLModel",
      "state": {
       "_dom_classes": [],
       "_model_module": "@jupyter-widgets/controls",
       "_model_module_version": "1.5.0",
       "_model_name": "HTMLModel",
       "_view_count": null,
       "_view_module": "@jupyter-widgets/controls",
       "_view_module_version": "1.5.0",
       "_view_name": "HTMLView",
       "description": "",
       "description_tooltip": null,
       "layout": "IPY_MODEL_3f6351c893ad48b3a7e2ff02af9ed555",
       "placeholder": "​",
       "style": "IPY_MODEL_547322720773428ea198149a30647bfc",
       "value": " 12/? [00:10&lt;00:00,  1.10it/s]"
      }
     },
     "3f6351c893ad48b3a7e2ff02af9ed555": {
      "model_module": "@jupyter-widgets/base",
      "model_module_version": "1.2.0",
      "model_name": "LayoutModel",
      "state": {
       "_model_module": "@jupyter-widgets/base",
       "_model_module_version": "1.2.0",
       "_model_name": "LayoutModel",
       "_view_count": null,
       "_view_module": "@jupyter-widgets/base",
       "_view_module_version": "1.2.0",
       "_view_name": "LayoutView",
       "align_content": null,
       "align_items": null,
       "align_self": null,
       "border": null,
       "bottom": null,
       "display": null,
       "flex": null,
       "flex_flow": null,
       "grid_area": null,
       "grid_auto_columns": null,
       "grid_auto_flow": null,
       "grid_auto_rows": null,
       "grid_column": null,
       "grid_gap": null,
       "grid_row": null,
       "grid_template_areas": null,
       "grid_template_columns": null,
       "grid_template_rows": null,
       "height": null,
       "justify_content": null,
       "justify_items": null,
       "left": null,
       "margin": null,
       "max_height": null,
       "max_width": null,
       "min_height": null,
       "min_width": null,
       "object_fit": null,
       "object_position": null,
       "order": null,
       "overflow": null,
       "overflow_x": null,
       "overflow_y": null,
       "padding": null,
       "right": null,
       "top": null,
       "visibility": null,
       "width": null
      }
     },
     "4bda662d2d8f48748dc9ee457503d117": {
      "model_module": "@jupyter-widgets/controls",
      "model_module_version": "1.5.0",
      "model_name": "DescriptionStyleModel",
      "state": {
       "_model_module": "@jupyter-widgets/controls",
       "_model_module_version": "1.5.0",
       "_model_name": "DescriptionStyleModel",
       "_view_count": null,
       "_view_module": "@jupyter-widgets/base",
       "_view_module_version": "1.2.0",
       "_view_name": "StyleView",
       "description_width": ""
      }
     },
     "547322720773428ea198149a30647bfc": {
      "model_module": "@jupyter-widgets/controls",
      "model_module_version": "1.5.0",
      "model_name": "DescriptionStyleModel",
      "state": {
       "_model_module": "@jupyter-widgets/controls",
       "_model_module_version": "1.5.0",
       "_model_name": "DescriptionStyleModel",
       "_view_count": null,
       "_view_module": "@jupyter-widgets/base",
       "_view_module_version": "1.2.0",
       "_view_name": "StyleView",
       "description_width": ""
      }
     },
     "5e4b34b3b107477bb2d8532c692a6df7": {
      "model_module": "@jupyter-widgets/base",
      "model_module_version": "1.2.0",
      "model_name": "LayoutModel",
      "state": {
       "_model_module": "@jupyter-widgets/base",
       "_model_module_version": "1.2.0",
       "_model_name": "LayoutModel",
       "_view_count": null,
       "_view_module": "@jupyter-widgets/base",
       "_view_module_version": "1.2.0",
       "_view_name": "LayoutView",
       "align_content": null,
       "align_items": null,
       "align_self": null,
       "border": null,
       "bottom": null,
       "display": null,
       "flex": null,
       "flex_flow": null,
       "grid_area": null,
       "grid_auto_columns": null,
       "grid_auto_flow": null,
       "grid_auto_rows": null,
       "grid_column": null,
       "grid_gap": null,
       "grid_row": null,
       "grid_template_areas": null,
       "grid_template_columns": null,
       "grid_template_rows": null,
       "height": null,
       "justify_content": null,
       "justify_items": null,
       "left": null,
       "margin": null,
       "max_height": null,
       "max_width": null,
       "min_height": null,
       "min_width": null,
       "object_fit": null,
       "object_position": null,
       "order": null,
       "overflow": null,
       "overflow_x": null,
       "overflow_y": null,
       "padding": null,
       "right": null,
       "top": null,
       "visibility": null,
       "width": null
      }
     },
     "a0fe4709f02f478fa24fc386fb4bcf7f": {
      "model_module": "@jupyter-widgets/controls",
      "model_module_version": "1.5.0",
      "model_name": "HTMLModel",
      "state": {
       "_dom_classes": [],
       "_model_module": "@jupyter-widgets/controls",
       "_model_module_version": "1.5.0",
       "_model_name": "HTMLModel",
       "_view_count": null,
       "_view_module": "@jupyter-widgets/controls",
       "_view_module_version": "1.5.0",
       "_view_name": "HTMLView",
       "description": "",
       "description_tooltip": null,
       "layout": "IPY_MODEL_ba37f9b3a81c483890ec2ce8af509135",
       "placeholder": "​",
       "style": "IPY_MODEL_4bda662d2d8f48748dc9ee457503d117",
       "value": " 5/? [01:20&lt;00:00, 16.10s/it]"
      }
     },
     "a9556dcd8c8a4636b6d3c775ab2697b5": {
      "model_module": "@jupyter-widgets/base",
      "model_module_version": "1.2.0",
      "model_name": "LayoutModel",
      "state": {
       "_model_module": "@jupyter-widgets/base",
       "_model_module_version": "1.2.0",
       "_model_name": "LayoutModel",
       "_view_count": null,
       "_view_module": "@jupyter-widgets/base",
       "_view_module_version": "1.2.0",
       "_view_name": "LayoutView",
       "align_content": null,
       "align_items": null,
       "align_self": null,
       "border": null,
       "bottom": null,
       "display": null,
       "flex": null,
       "flex_flow": null,
       "grid_area": null,
       "grid_auto_columns": null,
       "grid_auto_flow": null,
       "grid_auto_rows": null,
       "grid_column": null,
       "grid_gap": null,
       "grid_row": null,
       "grid_template_areas": null,
       "grid_template_columns": null,
       "grid_template_rows": null,
       "height": null,
       "justify_content": null,
       "justify_items": null,
       "left": null,
       "margin": null,
       "max_height": null,
       "max_width": null,
       "min_height": null,
       "min_width": null,
       "object_fit": null,
       "object_position": null,
       "order": null,
       "overflow": null,
       "overflow_x": null,
       "overflow_y": null,
       "padding": null,
       "right": null,
       "top": null,
       "visibility": null,
       "width": null
      }
     },
     "af17c3d7c64c4f5d81b1eef79a1a4443": {
      "model_module": "@jupyter-widgets/base",
      "model_module_version": "1.2.0",
      "model_name": "LayoutModel",
      "state": {
       "_model_module": "@jupyter-widgets/base",
       "_model_module_version": "1.2.0",
       "_model_name": "LayoutModel",
       "_view_count": null,
       "_view_module": "@jupyter-widgets/base",
       "_view_module_version": "1.2.0",
       "_view_name": "LayoutView",
       "align_content": null,
       "align_items": null,
       "align_self": null,
       "border": null,
       "bottom": null,
       "display": null,
       "flex": null,
       "flex_flow": null,
       "grid_area": null,
       "grid_auto_columns": null,
       "grid_auto_flow": null,
       "grid_auto_rows": null,
       "grid_column": null,
       "grid_gap": null,
       "grid_row": null,
       "grid_template_areas": null,
       "grid_template_columns": null,
       "grid_template_rows": null,
       "height": null,
       "justify_content": null,
       "justify_items": null,
       "left": null,
       "margin": null,
       "max_height": null,
       "max_width": null,
       "min_height": null,
       "min_width": null,
       "object_fit": null,
       "object_position": null,
       "order": null,
       "overflow": null,
       "overflow_x": null,
       "overflow_y": null,
       "padding": null,
       "right": null,
       "top": null,
       "visibility": null,
       "width": null
      }
     },
     "ba37f9b3a81c483890ec2ce8af509135": {
      "model_module": "@jupyter-widgets/base",
      "model_module_version": "1.2.0",
      "model_name": "LayoutModel",
      "state": {
       "_model_module": "@jupyter-widgets/base",
       "_model_module_version": "1.2.0",
       "_model_name": "LayoutModel",
       "_view_count": null,
       "_view_module": "@jupyter-widgets/base",
       "_view_module_version": "1.2.0",
       "_view_name": "LayoutView",
       "align_content": null,
       "align_items": null,
       "align_self": null,
       "border": null,
       "bottom": null,
       "display": null,
       "flex": null,
       "flex_flow": null,
       "grid_area": null,
       "grid_auto_columns": null,
       "grid_auto_flow": null,
       "grid_auto_rows": null,
       "grid_column": null,
       "grid_gap": null,
       "grid_row": null,
       "grid_template_areas": null,
       "grid_template_columns": null,
       "grid_template_rows": null,
       "height": null,
       "justify_content": null,
       "justify_items": null,
       "left": null,
       "margin": null,
       "max_height": null,
       "max_width": null,
       "min_height": null,
       "min_width": null,
       "object_fit": null,
       "object_position": null,
       "order": null,
       "overflow": null,
       "overflow_x": null,
       "overflow_y": null,
       "padding": null,
       "right": null,
       "top": null,
       "visibility": null,
       "width": null
      }
     },
     "c65fa588a1d74c21a231cc4b32045279": {
      "model_module": "@jupyter-widgets/controls",
      "model_module_version": "1.5.0",
      "model_name": "ProgressStyleModel",
      "state": {
       "_model_module": "@jupyter-widgets/controls",
       "_model_module_version": "1.5.0",
       "_model_name": "ProgressStyleModel",
       "_view_count": null,
       "_view_module": "@jupyter-widgets/base",
       "_view_module_version": "1.2.0",
       "_view_name": "StyleView",
       "bar_color": null,
       "description_width": "initial"
      }
     },
     "c96b08abdbc74ce988878b264b5191c1": {
      "model_module": "@jupyter-widgets/controls",
      "model_module_version": "1.5.0",
      "model_name": "ProgressStyleModel",
      "state": {
       "_model_module": "@jupyter-widgets/controls",
       "_model_module_version": "1.5.0",
       "_model_name": "ProgressStyleModel",
       "_view_count": null,
       "_view_module": "@jupyter-widgets/base",
       "_view_module_version": "1.2.0",
       "_view_name": "StyleView",
       "bar_color": null,
       "description_width": "initial"
      }
     },
     "cea0fa3bd7854b619a23c8ddf3298895": {
      "model_module": "@jupyter-widgets/controls",
      "model_module_version": "1.5.0",
      "model_name": "HBoxModel",
      "state": {
       "_dom_classes": [],
       "_model_module": "@jupyter-widgets/controls",
       "_model_module_version": "1.5.0",
       "_model_name": "HBoxModel",
       "_view_count": null,
       "_view_module": "@jupyter-widgets/controls",
       "_view_module_version": "1.5.0",
       "_view_name": "HBoxView",
       "box_style": "",
       "children": [
        "IPY_MODEL_1ca1428bf2aa4dcfb3fde63ff6bf0e92",
        "IPY_MODEL_a0fe4709f02f478fa24fc386fb4bcf7f"
       ],
       "layout": "IPY_MODEL_af17c3d7c64c4f5d81b1eef79a1a4443"
      }
     },
     "fd9df0dd8a8943cbb40d5b26e0d653cd": {
      "model_module": "@jupyter-widgets/controls",
      "model_module_version": "1.5.0",
      "model_name": "FloatProgressModel",
      "state": {
       "_dom_classes": [],
       "_model_module": "@jupyter-widgets/controls",
       "_model_module_version": "1.5.0",
       "_model_name": "FloatProgressModel",
       "_view_count": null,
       "_view_module": "@jupyter-widgets/controls",
       "_view_module_version": "1.5.0",
       "_view_name": "ProgressView",
       "bar_style": "success",
       "description": "",
       "description_tooltip": null,
       "layout": "IPY_MODEL_0c34d6daff4a4a9f8bdec7376c146261",
       "max": 1,
       "min": 0,
       "orientation": "horizontal",
       "style": "IPY_MODEL_c96b08abdbc74ce988878b264b5191c1",
       "value": 1
      }
     }
    },
    "version_major": 2,
    "version_minor": 0
   }
  }
 },
 "nbformat": 4,
 "nbformat_minor": 4
}
